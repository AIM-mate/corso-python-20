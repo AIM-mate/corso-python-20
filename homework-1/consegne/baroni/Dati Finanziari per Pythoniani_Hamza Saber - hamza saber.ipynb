{
 "cells": [
  {
   "cell_type": "markdown",
   "metadata": {
    "id": "L_0e3nsz8YSu"
   },
   "source": [
    "# €$£ Homework - Dati Finanziari per Pythoniani"
   ]
  },
  {
   "cell_type": "markdown",
   "metadata": {
    "id": "2mWlUN4D8YSy"
   },
   "source": [
    "L'Azienda degli Ingegneri Matematici ti ha assegnato il compito di **analizzare le performance giornaliere** per le ultime 5 settimane del valore di chiusura giornaliero delle azioni di **ENEL, ENI, Ferrari e Intesa San Paolo**. Il tuo capo è molto fiscale, egli pretende che nell'analisi si usino il **minor numero di righe di codice Python** possibile e non si usino librerie. \n",
    "\n",
    "_Fonte: mercati.ilsole24ore.com_"
   ]
  },
  {
   "cell_type": "code",
   "execution_count": 2,
   "metadata": {
    "id": "JPOOaNzc8YS0"
   },
   "outputs": [],
   "source": [
    "Dates = [\"31/08/2020\",\"1/9/2020\",\"2/9/2020\",\"3/9/2020\",\"4/9/2020\",\"7/9/2020\",\"8/9/2020\",\n",
    "         \"9/9/2020\",\"10/9/2020\",\"11/9/2020\",\"14/09/2020\",\"15/09/2020\",\"16/09/2020\",\"17/09/2020\",\n",
    "         \"18/09/2020\",\"21/09/2020\",\"22/09/2020\",\"23/09/2020\",\"24/09/2020\",\"25/09/2020\",\n",
    "         \"28/09/2020\",\"29/09/2020\",\"30/09/2020\",\"1/10/2020\",\"2/10/2020\"]\n",
    "\n",
    "Stocks_Name = [\"Enel\",\"ENI\",\"Ferrari\",\"Intesa San Paolo\"]\n",
    "\n",
    "Stocks_Value = [[7.558,7.809,163.05,1.8012],\n",
    "[7.518,7.774,162.85,1.804],\n",
    "[7.61,7.666,165.4,1.7892],\n",
    "[7.55,7.696,161.85,1.7758],\n",
    "[7.392,7.623,160.7,1.7706],\n",
    "[7.555,7.75,162.6,1.7938],\n",
    "[7.495,7.542,161.25,1.7604],\n",
    "[7.663,7.654,160.8,1.7934],\n",
    "[7.612,7.609,160.05,1.8004],\n",
    "[7.671,7.597,162.1,1.776],\n",
    "[7.59,7.475,161.65,1.7768],\n",
    "[7.627,7.607,162.35,1.7706],\n",
    "[7.575,7.674,160.7,1.7546],\n",
    "[7.401,7.633,160.55,1.7404],\n",
    "[7.42,7.413,159.9,1.72],\n",
    "[7.25,6.97,154.8,1.632],\n",
    "[7.362,7.083,156.35,1.6424],\n",
    "[7.431,6.969,156.45,1.6132],\n",
    "[7.363,6.82,157.05,1.608],\n",
    "[7.32,6.677,154.9,1.5806],\n",
    "[7.465,6.855,157.2,1.6242],\n",
    "[7.488,6.687,156.25,1.6124],\n",
    "[7.431,6.685,157.05,1.6054],\n",
    "[7.442,6.484,157,1.5854],\n",
    "[7.459,6.472,155,1.5858]]"
   ]
  },
  {
   "cell_type": "markdown",
   "metadata": {
    "id": "AjdE6FQF8YTC"
   },
   "source": [
    "**1.** Trasponi la lista di liste delle azioni (invertendo righe e colonne) - _1 riga di codice_\n",
    "\n",
    "**2.** Trova i valori attesi (media) dei prezzi di ognuna delle 4 azioni - _1 riga di codice_\n",
    "\n",
    "**3.** Trova le deviazioni standard dei prezzi di ognuna delle 4 azioni - _1 riga di codice_\n",
    "\n",
    "**4.** Salva in una lista di liste tutte le possibili correlazioni tra i prezzi di ognuna delle 4 azioni - _1 riga di codice_\n",
    "\n",
    "**5.** Trova e salva per ogni giorno il nome dell'azienda la cui azione porterebbe ad un profitto maggiore o una perdita minore (in termini percentuali) se acquistata quel giorno e rivenduta il 2 Ottobre - _1 riga di codice_\n",
    "\n",
    "**6.** Generalizza il punto 5 anche per scadenze precedenti al 2 Ottobre - _1 riga di codice_\n",
    "\n",
    "**7.** Ripeti il punto 5, questa volta al fine di identificare il profitto minore o la perdita maggiore - _1 riga di codice_\n",
    "\n",
    "**FACOLTATIVO** (Solo per studenti di Quantitative Finance) Implementa un CRR (albero binomiale) in grado di prezzare un'opzione call con scadenza 01 / 11 / 2020 per ognuna di queste 4 azioni, stimando ove possibile i parametri necessari. - _tante righe di codice_\n",
    "\n",
    "Usa le List Comprehension in Python: [expression for item in list]\n",
    "\n",
    "anche annidate: [[expression for item1 in list1] for item2 in list2]\n",
    "\n",
    "Per ogni esigenza scrivere a Jean Paul Guglielmo Baroni +393315969286"
   ]
  },
  {
   "cell_type": "code",
   "execution_count": 3,
   "metadata": {},
   "outputs": [],
   "source": [
    "#Answer Student : Hamza Saber\n",
    "#---------------------------------------------"
   ]
  },
  {
   "cell_type": "code",
   "execution_count": 59,
   "metadata": {},
   "outputs": [],
   "source": [
    "#1:\n",
    "import numpy as np\n",
    "transposed_stock=np.transpose(Stocks_Value)"
   ]
  },
  {
   "cell_type": "code",
   "execution_count": 60,
   "metadata": {},
   "outputs": [],
   "source": [
    "#2:\n",
    "Mean=np.mean(transposed_stock,axis=1)"
   ]
  },
  {
   "cell_type": "code",
   "execution_count": 61,
   "metadata": {},
   "outputs": [],
   "source": [
    "#3:\n",
    "Sigma=np.std(transposed_stock,axis=1)"
   ]
  },
  {
   "cell_type": "code",
   "execution_count": 7,
   "metadata": {},
   "outputs": [
    {
     "data": {
      "text/plain": [
       "array([[1.        , 0.59937572, 0.73511694, 0.70613945],\n",
       "       [0.59937572, 1.        , 0.89697163, 0.97361951],\n",
       "       [0.73511694, 0.89697163, 1.        , 0.92609132],\n",
       "       [0.70613945, 0.97361951, 0.92609132, 1.        ]])"
      ]
     },
     "execution_count": 7,
     "metadata": {},
     "output_type": "execute_result"
    }
   ],
   "source": [
    "#4:\n",
    "#L=[[np.corrcoef(transposed_stock[j],transposed_stock[i])[0][1] for j in range(4)] for i in range(4) ]\n",
    "np.corrcoef(transposed_stock)"
   ]
  },
  {
   "cell_type": "code",
   "execution_count": 141,
   "metadata": {},
   "outputs": [
    {
     "data": {
      "text/plain": [
       "[('Enel', '31/08/2020'),\n",
       " ('Enel', '1/9/2020'),\n",
       " ('Enel', '2/9/2020'),\n",
       " ('Enel', '3/9/2020'),\n",
       " ('Enel', '4/9/2020'),\n",
       " ('Enel', '7/9/2020'),\n",
       " ('Enel', '8/9/2020'),\n",
       " ('Enel', '9/9/2020'),\n",
       " ('Enel', '10/9/2020'),\n",
       " ('Enel', '11/9/2020'),\n",
       " ('Enel', '14/09/2020'),\n",
       " ('Enel', '15/09/2020'),\n",
       " ('Enel', '16/09/2020'),\n",
       " ('Enel', '17/09/2020'),\n",
       " ('Enel', '18/09/2020'),\n",
       " ('Enel', '21/09/2020'),\n",
       " ('Enel', '22/09/2020'),\n",
       " ('Enel', '23/09/2020'),\n",
       " ('Enel', '24/09/2020'),\n",
       " ('Enel', '25/09/2020'),\n",
       " ('Enel', '28/09/2020'),\n",
       " ('Enel', '29/09/2020'),\n",
       " ('Enel', '30/09/2020'),\n",
       " ('Enel', '1/10/2020')]"
      ]
     },
     "execution_count": 141,
     "metadata": {},
     "output_type": "execute_result"
    }
   ],
   "source": [
    "#5\n",
    "V=((np.array(Stocks_Value[-1])-np.array(Stocks_Value)[:-1])/np.array(Stocks_Value[:-1]))\n",
    "V_max=[(Stocks_Name[np.argmax(M[i])],Dates[i]) for  i in range(len(v))]\n",
    "V_max"
   ]
  },
  {
   "cell_type": "code",
   "execution_count": 142,
   "metadata": {},
   "outputs": [],
   "source": [
    "#7\n",
    "v=((np.array(Stocks_Value[-1])-np.array(Stocks_Value)[:-1])/np.array(Stocks_Value[:-1]))\n",
    "v_min=[(Stocks_Name[np.argmin(M[i])],Dates[i]) for  i in range(len(v))]"
   ]
  },
  {
   "cell_type": "code",
   "execution_count": 143,
   "metadata": {},
   "outputs": [
    {
     "data": {
      "text/plain": [
       "[('ENI', '31/08/2020'),\n",
       " ('ENI', '1/9/2020'),\n",
       " ('ENI', '2/9/2020'),\n",
       " ('ENI', '3/9/2020'),\n",
       " ('ENI', '4/9/2020'),\n",
       " ('ENI', '7/9/2020'),\n",
       " ('ENI', '8/9/2020'),\n",
       " ('ENI', '9/9/2020'),\n",
       " ('ENI', '10/9/2020'),\n",
       " ('ENI', '11/9/2020'),\n",
       " ('ENI', '14/09/2020'),\n",
       " ('ENI', '15/09/2020'),\n",
       " ('ENI', '16/09/2020'),\n",
       " ('ENI', '17/09/2020'),\n",
       " ('ENI', '18/09/2020'),\n",
       " ('ENI', '21/09/2020'),\n",
       " ('ENI', '22/09/2020'),\n",
       " ('ENI', '23/09/2020'),\n",
       " ('ENI', '24/09/2020'),\n",
       " ('ENI', '25/09/2020'),\n",
       " ('ENI', '28/09/2020'),\n",
       " ('ENI', '29/09/2020'),\n",
       " ('ENI', '30/09/2020'),\n",
       " ('Ferrari', '1/10/2020')]"
      ]
     },
     "execution_count": 143,
     "metadata": {},
     "output_type": "execute_result"
    }
   ],
   "source": [
    "#Facoltativo\n",
    "V_min"
   ]
  },
  {
   "cell_type": "code",
   "execution_count": 144,
   "metadata": {},
   "outputs": [],
   "source": [
    "#CRR Model\n",
    "\n",
    "#Parameters Estimation:\n",
    "\n",
    "import datetime as dt\n",
    "t0=dt.date(2020,10,2)       # Issue = \" 02/10/2020\"\n",
    "maturity=dt.date(2020,11,1) # Maturity= \"01/11/2020\"\n",
    "T=(maturity-t0).days/365\n",
    "\n",
    "S0=Stocks_Value[-1]\n",
    "K=S0\n",
    "r=0.2         #Assumption \n",
    "\n",
    "#Discretization parameters\n",
    "M=5000\n",
    "dt=T/M\n",
    "\n",
    "\n",
    "\n"
   ]
  },
  {
   "cell_type": "code",
   "execution_count": 145,
   "metadata": {},
   "outputs": [],
   "source": [
    "u=np.exp(Sigma*np.sqrt(dt))\n",
    "d=1/u\n",
    "ST=[S0[i]*u[i]**list(range(M,-M-1,-2)) for i in range(len(S0))] \n",
    "Payoff=[np.maximum(ST[i]-K[i],0 ) for i in range(len(ST))]"
   ]
  },
  {
   "cell_type": "code",
   "execution_count": 146,
   "metadata": {},
   "outputs": [],
   "source": [
    "Tree=Payoff\n",
    "q=[((np.exp(r*dt)-d[i])/(u[i]-d[i])) for i in range(len(u))] # risk neutral probability\n"
   ]
  },
  {
   "cell_type": "code",
   "execution_count": 147,
   "metadata": {},
   "outputs": [
    {
     "data": {
      "text/plain": [
       "[(0.165025663625495, 'Enel'),\n",
       " (0.3842556193309558, 'ENI'),\n",
       " (51.82416576660232, 'Ferrari'),\n",
       " (0.031465123407411054, 'Intesa San Paolo')]"
      ]
     },
     "execution_count": 147,
     "metadata": {},
     "output_type": "execute_result"
    }
   ],
   "source": [
    "#Backward Computation \n",
    "\n",
    "for j in range(M,0,-1):\n",
    "     Tree=[[np.exp(-r*dt)*(q[i]*x +(1-q[i])*y) for (x, y) in zip(Tree[i][0:j+1],Tree[i][1:j+2])] for i in range(len(Tree))]\n",
    "\n",
    "\n",
    "Price=[(Tree[i][0],Stocks_Name[i]) for i in range(len(Stocks_Name))]\n",
    "Price"
   ]
  },
  {
   "cell_type": "code",
   "execution_count": null,
   "metadata": {},
   "outputs": [],
   "source": []
  }
 ],
 "metadata": {
  "colab": {
   "collapsed_sections": [],
   "name": "Dati Finanziari per Pythoniani.ipynb",
   "provenance": []
  },
  "kernelspec": {
   "display_name": "Python 3",
   "language": "python",
   "name": "python3"
  },
  "language_info": {
   "codemirror_mode": {
    "name": "ipython",
    "version": 3
   },
   "file_extension": ".py",
   "mimetype": "text/x-python",
   "name": "python",
   "nbconvert_exporter": "python",
   "pygments_lexer": "ipython3",
   "version": "3.7.6"
  }
 },
 "nbformat": 4,
 "nbformat_minor": 1
}
