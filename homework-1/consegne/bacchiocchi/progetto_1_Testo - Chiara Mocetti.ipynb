{
 "cells": [
  {
   "cell_type": "markdown",
   "metadata": {
    "id": "ZpkHCLEUCLWe"
   },
   "source": []
  },
  {
   "cell_type": "code",
   "execution_count": 1,
   "metadata": {
    "id": "yhuXrt0aQJMW"
   },
   "outputs": [
    {
     "name": "stdout",
     "output_type": "stream",
     "text": [
      "0.7507229274470459\n"
     ]
    }
   ],
   "source": [
    "###PART 1\n",
    "key=[1,0,1,0,2,2,2,1,1,2,9,9,9,9,6,4,2,7,2,1,4,5,7,8,9,7,3,1,0,0,1,0,3,4,4,5,6,8,9,7,6,5,4,3,2,2,2,2,2,3,3,4,5,6,6,7,8,9,6,4,2,1,4,5]\n",
    "x0=0\n",
    "\n",
    "for i in range (0,63):\n",
    "    x0=x0+key[i]/2**(i+1)\n",
    "print(x0)"
   ]
  },
  {
   "cell_type": "code",
   "execution_count": 2,
   "metadata": {
    "id": "TzjEkkXuRpss"
   },
   "outputs": [],
   "source": [
    "####PART 2\n",
    "def LogisticMap (x):\n",
    "    r=3.7\n",
    "    y=r*x*(1-x)\n",
    "    return(y)"
   ]
  },
  {
   "cell_type": "code",
   "execution_count": 3,
   "metadata": {
    "id": "Da82AkGGRy6w"
   },
   "outputs": [],
   "source": [
    "###PART 3\n",
    "def Cryptate (xi,x):\n",
    "    b=True\n",
    "    epsilon=1/256\n",
    "    iterazioni=0\n",
    "    while b==True:\n",
    "        c=xi/epsilon\n",
    "        if (int(c)==ord(x)):\n",
    "            return iterazioni,xi;\n",
    "        else:\n",
    "            iterazioni=iterazioni+1 #iterazioni+=1\n",
    "            xi=LogisticMap(xi)"
   ]
  },
  {
   "cell_type": "code",
   "execution_count": 4,
   "metadata": {
    "id": "VrB6V2ETa22V"
   },
   "outputs": [
    {
     "name": "stdout",
     "output_type": "stream",
     "text": [
      "[1233, 458, 13, 310]\n"
     ]
    }
   ],
   "source": [
    "x=\"ciao\";\n",
    "it=[];\n",
    "for i in range(len(x)):\n",
    "    y=Cryptate(x0,x[i])[1]\n",
    "    z=Cryptate(x0,x[i])[0]\n",
    "    it.append(z)\n",
    "    x0=y\n",
    "print(it)"
   ]
  }
 ],
 "metadata": {
  "colab": {
   "collapsed_sections": [],
   "name": "progetto_1_Testo.ipynb",
   "provenance": []
  },
  "kernelspec": {
   "display_name": "Python 3",
   "language": "python",
   "name": "python3"
  },
  "language_info": {
   "codemirror_mode": {
    "name": "ipython",
    "version": 3
   },
   "file_extension": ".py",
   "mimetype": "text/x-python",
   "name": "python",
   "nbconvert_exporter": "python",
   "pygments_lexer": "ipython3",
   "version": "3.8.6"
  }
 },
 "nbformat": 4,
 "nbformat_minor": 4
}
