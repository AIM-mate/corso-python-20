{
 "cells": [
  {
   "cell_type": "code",
   "execution_count": 1,
   "metadata": {},
   "outputs": [
    {
     "name": "stdout",
     "output_type": "stream",
     "text": [
      "0.7507229274470459\n",
      "[1233, 458, 13, 310]\n"
     ]
    }
   ],
   "source": [
    "key=[1,0,1,0,2,2,2,1,1,2,9,9,9,9,6,4,2,7,2,1,4,5,7,8,9,7,3,1,0,0,1,0,3,4,4,5,6,8,9,7,6,5,4,3,2,2,2,2,2,3,3,4,5,6,6,7,8,9,6,4,2,1,4,5]\n",
    "x0=0\n",
    "\n",
    "for i in range(0,64):\n",
    "    s=key[i]\n",
    "    x0+=(s/2**(i+1))\n",
    "print(x0) \n",
    "\n",
    "def LogisticMap (x):\n",
    "    r=3.7\n",
    "    y=r*x*(1-x)\n",
    "    return(y)\n",
    "\n",
    "def Cryptate (xi,x):\n",
    "    b=True\n",
    "    epsilon=1/256\n",
    "    iterazioni=0\n",
    "    while b==True:\n",
    "        c=xi/epsilon\n",
    "        if (int(c)==ord(x)):        \n",
    "            return iterazioni,xi;    \n",
    "        iterazioni+=1\n",
    "        xi=LogisticMap(xi) \n",
    "x=\"ciao\";\n",
    "it=[];\n",
    "for i in range(len(x)):\n",
    "    y=Cryptate(x0,x[i])[1] \n",
    "    z=Cryptate(x0,x[i])[0]\n",
    "    it.append(z)    \n",
    "    x0=y\n",
    "print(it)"
   ]
  },
  {
   "cell_type": "code",
   "execution_count": null,
   "metadata": {},
   "outputs": [],
   "source": []
  }
 ],
 "metadata": {
  "kernelspec": {
   "display_name": "Python 3",
   "language": "python",
   "name": "python3"
  },
  "language_info": {
   "codemirror_mode": {
    "name": "ipython",
    "version": 3
   },
   "file_extension": ".py",
   "mimetype": "text/x-python",
   "name": "python",
   "nbconvert_exporter": "python",
   "pygments_lexer": "ipython3",
   "version": "3.8.5"
  }
 },
 "nbformat": 4,
 "nbformat_minor": 4
}
