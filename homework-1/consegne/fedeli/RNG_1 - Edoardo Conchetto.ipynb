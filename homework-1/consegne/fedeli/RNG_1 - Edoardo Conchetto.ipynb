{
 "cells": [
  {
   "cell_type": "markdown",
   "metadata": {
    "id": "Q-LTrs4cXX8V"
   },
   "source": [
    "# Generazione di numeri casuali\n",
    "\n",
    "La generazione di numeri casuali è essenziale ormai in ogni tipo di applicazione, per esempio in finanza e in statistica (simulazioni Monte Carlo).\n",
    "Algoritmi e computer son, però, deterministici, dunque si son sviluppate varie tecniche per generare numeri pseudo-casuali con buone proprietà (bassa autocorrelazione, uniformità, riproducibilità…).\n",
    "\n",
    "In particolare, ci concentriamo sulla generazione di numeri casuali da una distribuzione uniforme continua, dalla quale si può semplicemente passare a molte altre distribuzioni note (e.g. Bernoulli, Esponenziale etc) e vediamo una semplice applicazione del generatore così costruito, con la simulazione di una passeggiata aleatoria.\n",
    "\n",
    "Se si volesse ottenere dei numeri davvero random (e.g. in crittografia), si dovrebbe ricorrere, tuttavia, ad altri metodi (difficilmente implementabili in Python ;) ), come mostrato in https://www.youtube.com/watch?v=1cUUfMeOijg&feature=youtu.be\n",
    "\n",
    "PS Per info, problemi o altro, potete contattarmi all'indirizzo filippo.fedeli@mail.polimi.it o su cellulare al +393386561042"
   ]
  },
  {
   "cell_type": "markdown",
   "metadata": {
    "id": "NifzLcc0OJdq"
   },
   "source": [
    "# Generatore Lineare Congruenziale\n",
    "\n",
    "\n"
   ]
  },
  {
   "cell_type": "markdown",
   "metadata": {
    "id": "NqdwmnPynR-f"
   },
   "source": [
    "Iniziamo il progetto implementando un semplice generatore di numeri pseudo-casuali, il Generatore Lineare Congruenziale, algoritmo utilizzato, per esempio, dal comando rand di C, che si basa su un una immediata relazione ricorsiva.\n",
    "Il funzionamento è descritto dall'algoritmo seguente :\n",
    "\n",
    "• Spazio degli stati = {0, 1, . . . , m − 1} (m = modulo)\n",
    "\n",
    "• Passo di ricorsione :  Xn = (a * Xn−1 + c) mod m\n",
    "\n",
    "• output Un = Xn/m.\n",
    "\n",
    "Più info su https://it.wikipedia.org/wiki/Generatore_lineare_congruenziale\n",
    "\n"
   ]
  },
  {
   "cell_type": "code",
   "execution_count": 1,
   "metadata": {
    "id": "AYXitSnQnQAV"
   },
   "outputs": [],
   "source": [
    "state = 1 # stato interno del generatore (inizializzato a piacere) -> con stato uguale, si otterrà sempre la stessa sequenza\n",
    "\n",
    "def LCG():\n",
    "  a = 7\n",
    "  c = 11\n",
    "  m = 567\n",
    "  global state # per modificare all'interno di una funzione una variabile globale è necessario dichiararla globale, per ora non tocchiamo questo punto e non ce ne preoccupiamo\n",
    "  state = (a*state+c)%m\n",
    "\n",
    "  return state"
   ]
  },
  {
   "cell_type": "markdown",
   "metadata": {
    "id": "8eT4MOOAseyO"
   },
   "source": [
    "Ora vogliamo testare il nostro generatore. Proviamo a vedere quanto è il **periodo** del nostro generatore, ovvero dopo quanto tempo inizia a ripetere la stessa sequenza di numeri. (usiamo un m < 10000, in modo che non ci si metta troppo a verificarlo)\n",
    "\n",
    "Un buon generatore dovrebbe avere un periodo il più alto possibile.\n",
    "Per l'utilizzo attuale nelle simulazioni Monte Carlo, serve un periodo molto alto; il random base di python ha un periodo di 2^19937-1. \n",
    "\n",
    "(il random  base di python non è comunque utilizzabile per la crittografia, in quanto, conoscendo l'algoritmo sottostante, lo stato è precisamente indovinabile dopo 624 numeri generati (https://github.com/kmyk/mersenne-twister-predictor)\n",
    "\n",
    "NB Per chiamare una funzione senza argomenti come la nostra e assegnare il valore restituito ad una variabile var, è necessario soltanto usare\n",
    "var = LCG(). "
   ]
  },
  {
   "cell_type": "code",
   "execution_count": 6,
   "metadata": {
    "id": "SeOvozU1qQTx"
   },
   "outputs": [
    {
     "name": "stdout",
     "output_type": "stream",
     "text": [
      "81\n"
     ]
    }
   ],
   "source": [
    "indecs=[1]\n",
    "c=0\n",
    "for i in range(567):\n",
    "    var=LCG()\n",
    "   \n",
    "    for j in range(len(indecs)):\n",
    "        if var==indecs[j]:\n",
    "            print(i)\n",
    "            c=1\n",
    "            break\n",
    "    if c==1:\n",
    "        break\n",
    "    indecs.append(var)"
   ]
  },
  {
   "cell_type": "markdown",
   "metadata": {
    "id": "zgTTQXY_OOQI"
   },
   "source": [
    "# Passeggiata Aleatoria Bidimensionale\n"
   ]
  },
  {
   "cell_type": "markdown",
   "metadata": {
    "id": "IjhY_wdkwHsV"
   },
   "source": [
    "A questo punto, proviamo a usare il nostro generatore per simulare una passeggiata aleatoria bidimensionale discreta.\n",
    "\n",
    "Partendo dal punto (0,0), ad ogni iterazione, un punto si muove di 1 unità in una delle quattro direzioni possibili (e.g. da (0,0) si può muovere in (1,0),(-1,0),(0,1),(0,-1)) \n",
    "con probabilità pi (inizialmente p1 = p2 = p3 = p4 = 0.25). Usando il generatore di numeri casuali appena costruito per campionare da un'uniforme continua in [0,1], simulare la passeggiata aleatoria. \n",
    "\n",
    "Conservare la posizione ad ogni istante temporale del punto in due liste separate x_list e y_list (per le coordinate x ed y)."
   ]
  },
  {
   "cell_type": "code",
   "execution_count": 12,
   "metadata": {
    "id": "ltrHJgvky-62"
   },
   "outputs": [],
   "source": [
    "x = y = 0\n",
    "n=1000\n",
    "x_list=[0]\n",
    "y_list=[0]\n",
    "\n",
    "for i in range(n):\n",
    "    var=LCG()\n",
    "    if var%4==0:\n",
    "        x+=1\n",
    "        x_list.append(x)\n",
    "        y_list.append(y)\n",
    "    if var%4==1:\n",
    "        x-=1\n",
    "        x_list.append(x)\n",
    "        y_list.append(y)\n",
    "    if var%4==2:\n",
    "        y+=1\n",
    "        x_list.append(x)\n",
    "        y_list.append(y)\n",
    "    if var%4==3:\n",
    "        y-=1\n",
    "        x_list.append(x)\n",
    "        y_list.append(y)\n",
    "\n",
    "    "
   ]
  },
  {
   "cell_type": "markdown",
   "metadata": {
    "id": "-KDYWttwzABp"
   },
   "source": [
    "Qui finisce la parte di coding dell'assignment, eseguire le celle successive per installare matplotlib, visualizzare il risultato e rispondere alle ultime domande."
   ]
  },
  {
   "cell_type": "markdown",
   "metadata": {
    "id": "tsuhh81azIVn"
   },
   "source": [
    "Ora, proviamo a rappresentare graficamente la passeggiata aleatoria.\n",
    "Simulare per 100, 1000 e 20000 passi la passeggiata aleatoria. Dopo ogni simulazione, eseguire il codice sottostante e guardare l'output. Provare anche a cambiare i vari parametri del LCG, soprattutto m (orientativamente numero dispari tra 10 e 10000).\n",
    "\n",
    "Cosa si può osservare? è davvero aleatoria?"
   ]
  },
  {
   "cell_type": "code",
   "execution_count": 13,
   "metadata": {
    "id": "drUUwKZnzGez"
   },
   "outputs": [
    {
     "data": {
      "image/png": "[encoded data removed]",
      "text/plain": [
       "<Figure size 1200x800 with 1 Axes>"
      ]
     },
     "metadata": {},
     "output_type": "display_data"
    }
   ],
   "source": [
    "import matplotlib.pyplot as plt\n",
    "fig=plt.figure(figsize=(12,8), dpi= 100, facecolor='w', edgecolor='k')\n",
    "\n",
    "plt.title(\"Random Walk ($n = \" + str(n) + \"$ steps)\") \n",
    "\n",
    "plt.plot(x_list,y_list)\n",
    "plt.show()"
   ]
  },
  {
   "cell_type": "markdown",
   "metadata": {
    "id": "6zCvD37eas2P"
   },
   "source": [
    "TO BE CONTINUED..."
   ]
  }
 ],
 "metadata": {
  "colab": {
   "collapsed_sections": [],
   "name": "RNG_1.ipynb",
   "provenance": [
    {
     "file_id": "1XAj70W7FY0YUjtTSKFsIpELtejnJQqjP",
     "timestamp": 1601756810236
    }
   ]
  },
  "kernelspec": {
   "display_name": "Python 3",
   "language": "python",
   "name": "python3"
  },
  "language_info": {
   "codemirror_mode": {
    "name": "ipython",
    "version": 3
   },
   "file_extension": ".py",
   "mimetype": "text/x-python",
   "name": "python",
   "nbconvert_exporter": "python",
   "pygments_lexer": "ipython3",
   "version": "3.8.6"
  }
 },
 "nbformat": 4,
 "nbformat_minor": 1
}
