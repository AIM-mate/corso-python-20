{
 "cells": [
  {
   "cell_type": "markdown",
   "metadata": {},
   "source": [
    "## Passeggiata Aleatoria"
   ]
  },
  {
   "cell_type": "code",
   "execution_count": null,
   "metadata": {},
   "outputs": [],
   "source": [
    "from scipy.stats import bernoulli\n",
    "import matplotlib.pyplot as plt"
   ]
  },
  {
   "cell_type": "code",
   "execution_count": null,
   "metadata": {},
   "outputs": [],
   "source": [
    "#Dimensione del campione da generare e probabilità di transizione verso destra (0.5 per la passeggiata elatoria)\n",
    "n = 5\n",
    "p = 0.5"
   ]
  },
  {
   "cell_type": "code",
   "execution_count": null,
   "metadata": {},
   "outputs": [],
   "source": [
    "# La passeggiata aleatoria viene rappresentata da una lista, inizializzata a 0 al tempo 0\n",
    "x = [0]\n",
    "\n",
    "for i in range(n):\n",
    "    \n",
    "    # Ad ogni tempo viene generato un numero casuale (1 o 0) da una Bernoulliana di parametro p, che viene\n",
    "    # poi rinormalizzato in modo da valere 1 o -1. Questo è l'incremento Dx tra il tempo i e il tempo i+1\n",
    "    Delta_x = 2 * bernoulli.rvs(p) - 1\n",
    "    \n",
    "    # La posizione al tempo i+1 è ottenuta aggiungendo Dx alla posizione al tempo i\n",
    "    y = x[i] + Delta_x\n",
    "    \n",
    "    # Si aggiunge il valore della passeggiata al tempo i alla lista\n",
    "    x.append(y)\n",
    "    \n",
    "    \n",
    "# Plot della passeggiata aleatoria in funzione del numero di iterazioni\n",
    "plt.plot(range(n+1) , x)"
   ]
  },
  {
   "cell_type": "markdown",
   "metadata": {},
   "source": [
    "## Fibonacci"
   ]
  },
  {
   "cell_type": "code",
   "execution_count": null,
   "metadata": {},
   "outputs": [],
   "source": [
    "n = 5\n",
    "fibonacci = [1,1]\n",
    "\n",
    "for i in range(n-2):\n",
    "    y = fibonacci[-1] + fibonacci[-2]\n",
    "    fibonacci.append(y)\n",
    "    \n",
    "print(fibonacci)"
   ]
  }
 ],
 "metadata": {
  "kernelspec": {
   "display_name": "Python",
   "language": "python",
   "name": "conda-env-python-py"
  },
  "language_info": {
   "codemirror_mode": {
    "name": "ipython",
    "version": 3
   },
   "file_extension": ".py",
   "mimetype": "text/x-python",
   "name": "python",
   "nbconvert_exporter": "python",
   "pygments_lexer": "ipython3",
   "version": "3.6.11"
  }
 },
 "nbformat": 4,
 "nbformat_minor": 4
}
