{
 "cells": [
  {
   "cell_type": "markdown",
   "metadata": {
    "id": "Q-LTrs4cXX8V"
   },
   "source": [
    "# Generazione di numeri casuali\n",
    "\n",
    "La generazione di numeri casuali è essenziale ormai in ogni tipo di applicazione, per esempio in finanza e in statistica (simulazioni Monte Carlo).\n",
    "Algoritmi e computer son, però, deterministici, dunque si son sviluppate varie tecniche per generare numeri pseudo-casuali con buone proprietà (bassa autocorrelazione, uniformità, riproducibilità…).\n",
    "\n",
    "In particolare, ci concentriamo sulla generazione di numeri casuali da una distribuzione uniforme continua, dalla quale si può semplicemente passare a molte altre distribuzioni note (e.g. Bernoulli, Esponenziale etc) e vediamo una semplice applicazione del generatore così costruito, con la simulazione di una passeggiata aleatoria.\n",
    "\n",
    "Se si volesse ottenere dei numeri davvero random (e.g. in crittografia), si dovrebbe ricorrere, tuttavia, ad altri metodi (difficilmente implementabili in Python ;) ), come mostrato in https://www.youtube.com/watch?v=1cUUfMeOijg&feature=youtu.be\n",
    "\n",
    "PS Per info, problemi o altro, potete contattarmi all'indirizzo filippo.fedeli@mail.polimi.it o su cellulare al +393386561042"
   ]
  },
  {
   "cell_type": "markdown",
   "metadata": {
    "id": "NifzLcc0OJdq"
   },
   "source": [
    "# Generatore Lineare Congruenziale\n",
    "\n",
    "\n"
   ]
  },
  {
   "cell_type": "markdown",
   "metadata": {
    "id": "NqdwmnPynR-f"
   },
   "source": [
    "Iniziamo il progetto implementando un semplice generatore di numeri pseudo-casuali, il Generatore Lineare Congruenziale, algoritmo utilizzato, per esempio, dal comando rand di C, che si basa su un una immediata relazione ricorsiva.\n",
    "Il funzionamento è descritto dall'algoritmo seguente :\n",
    "\n",
    "• Spazio degli stati = {0, 1, . . . , m − 1} (m = modulo)\n",
    "\n",
    "• Passo di ricorsione :  Xn = (a * Xn−1 + c) mod m\n",
    "\n",
    "• output Un = Xn/m.\n",
    "\n",
    "Più info su https://it.wikipedia.org/wiki/Generatore_lineare_congruenziale\n",
    "\n"
   ]
  },
  {
   "cell_type": "code",
   "execution_count": 1,
   "metadata": {
    "id": "AYXitSnQnQAV"
   },
   "outputs": [],
   "source": [
    "state = 5454 # stato interno del generatore (inizializzato a piacere) -> con stato uguale, si otterrà sempre la stessa sequenza\n",
    "\n",
    "def LCG():\n",
    "  a = 22695477\n",
    "  c = 1\n",
    "  m = 2**32\n",
    "  global state # per modificare all'interno di una funzione una variabile globale è necessario dichiararla globale, per ora non tocchiamo questo punto e non ce ne preoccupiamo\n",
    "  state = (a*state+c)%m\n",
    "\n",
    "  return state/m"
   ]
  },
  {
   "cell_type": "markdown",
   "metadata": {
    "id": "8eT4MOOAseyO"
   },
   "source": [
    "Ora vogliamo testare il nostro generatore. Proviamo a vedere quanto è il **periodo** del nostro generatore, ovvero dopo quanto tempo inizia a ripetere la stessa sequenza di numeri. \n",
    "\n",
    "Un buon generatore dovrebbe avere un periodo il più alto possibile.\n",
    "Per l'utilizzo attuale nelle simulazioni Monte Carlo, serve un periodo molto alto; il random base di python ha un periodo di 2^19937-1. \n",
    "\n",
    "(il random  base di python non è comunque utilizzabile per la crittografia, in quanto, conoscendo l'algoritmo sottostante, lo stato è precisamente indovinabile dopo 624 numeri generati (https://github.com/kmyk/mersenne-twister-predictor)\n",
    "\n",
    "NB Per chiamare una funzione senza argomenti come la nostra e assegnare il valore restituito ad una variabile var, è necessario soltanto usare\n",
    "var = LCG(). "
   ]
  },
  {
   "cell_type": "code",
   "execution_count": 61,
   "metadata": {
    "id": "SeOvozU1qQTx",
    "scrolled": true
   },
   "outputs": [
    {
     "name": "stdout",
     "output_type": "stream",
     "text": [
      "0.820040533086285\n",
      "0.05772752035409212\n",
      "0.6104633298236877\n",
      "0.46135691786184907\n",
      "0.318124484969303\n",
      "0.9317576624453068\n",
      "0.5976012239698321\n",
      "0.8337791725061834\n",
      "0.032693117624148726\n",
      "0.8990971622988582\n"
     ]
    }
   ],
   "source": [
    "for i in range(10):\n",
    "    var=LCG()\n",
    "    print(var)"
   ]
  },
  {
   "cell_type": "markdown",
   "metadata": {
    "id": "zgTTQXY_OOQI"
   },
   "source": [
    "# Passeggiata Aleatoria Bidimensionale\n"
   ]
  },
  {
   "cell_type": "markdown",
   "metadata": {
    "id": "IjhY_wdkwHsV"
   },
   "source": [
    "A questo punto, proviamo a usare il nostro generatore per simulare una passeggiata aleatoria bidimensionale discreta.\n",
    "\n",
    "Partendo dal punto (0,0), ad ogni iterazione, un punto si muove di 1 unità in una delle quattro direzioni possibili (e.g. da (0,0) si può muovere in (1,0),(-1,0),(0,1),(0,-1)) \n",
    "con probabilità pi (inizialmente p1 = p2 = p3 = p4 = 0.25). Usando il generatore di numeri casuali appena costruito per campionare da un'uniforme continua in [0,1], simulare la passeggiata aleatoria. \n",
    "\n",
    "Conservare la posizione ad ogni istante temporale del punto in due liste separate x_list e y_list (per le coordinate x ed y)."
   ]
  },
  {
   "cell_type": "code",
   "execution_count": 2,
   "metadata": {
    "id": "ltrHJgvky-62"
   },
   "outputs": [],
   "source": [
    "x = y = 0\n",
    "x_list=[x]\n",
    "y_list=[y]\n",
    "n=1000\n",
    "for i in range(n):\n",
    "    var=LCG()\n",
    "    if var<0.25:\n",
    "        y+=1\n",
    "    if var>=0.25 and var <0.5:\n",
    "        y-=1\n",
    "    if var>=0.5 and var <0.75:\n",
    "        x+=1\n",
    "    if var>=0.75 and var <1:\n",
    "        x-=1\n",
    "    x_list=x_list+[x]\n",
    "    y_list=y_list+[y]"
   ]
  },
  {
   "cell_type": "markdown",
   "metadata": {
    "id": "-KDYWttwzABp"
   },
   "source": [
    "Qui finisce la parte di coding dell'assignment, eseguire le celle successive per installare matplotlib, visualizzare il risultato e rispondere alle ultime domande."
   ]
  },
  {
   "cell_type": "code",
   "execution_count": 3,
   "metadata": {
    "id": "Qh3ehj5GyNKf"
   },
   "outputs": [
    {
     "name": "stdout",
     "output_type": "stream",
     "text": [
      "Requirement already satisfied: matplotlib in c:\\users\\tia4e\\appdata\\local\\programs\\python\\python38-32\\lib\\site-packages (3.3.2)\n",
      "Requirement already satisfied: pillow>=6.2.0 in c:\\users\\tia4e\\appdata\\local\\programs\\python\\python38-32\\lib\\site-packages (from matplotlib) (7.2.0)\n",
      "Requirement already satisfied: pyparsing!=2.0.4,!=2.1.2,!=2.1.6,>=2.0.3 in c:\\users\\tia4e\\appdata\\local\\programs\\python\\python38-32\\lib\\site-packages (from matplotlib) (2.4.7)\n",
      "Requirement already satisfied: python-dateutil>=2.1 in c:\\users\\tia4e\\appdata\\local\\programs\\python\\python38-32\\lib\\site-packages (from matplotlib) (2.8.1)\n",
      "Requirement already satisfied: certifi>=2020.06.20 in c:\\users\\tia4e\\appdata\\local\\programs\\python\\python38-32\\lib\\site-packages (from matplotlib) (2020.6.20)\n",
      "Requirement already satisfied: kiwisolver>=1.0.1 in c:\\users\\tia4e\\appdata\\local\\programs\\python\\python38-32\\lib\\site-packages (from matplotlib) (1.2.0)\n",
      "Requirement already satisfied: numpy>=1.15 in c:\\users\\tia4e\\appdata\\local\\programs\\python\\python38-32\\lib\\site-packages (from matplotlib) (1.19.2)\n",
      "Requirement already satisfied: cycler>=0.10 in c:\\users\\tia4e\\appdata\\local\\programs\\python\\python38-32\\lib\\site-packages (from matplotlib) (0.10.0)\n",
      "Requirement already satisfied: six>=1.5 in c:\\users\\tia4e\\appdata\\local\\programs\\python\\python38-32\\lib\\site-packages (from python-dateutil>=2.1->matplotlib) (1.15.0)\n"
     ]
    },
    {
     "name": "stderr",
     "output_type": "stream",
     "text": [
      "WARNING: You are using pip version 20.1.1; however, version 20.2.3 is available.\n",
      "You should consider upgrading via the 'c:\\users\\tia4e\\appdata\\local\\programs\\python\\python38-32\\python.exe -m pip install --upgrade pip' command.\n"
     ]
    }
   ],
   "source": [
    "!pip install matplotlib"
   ]
  },
  {
   "cell_type": "markdown",
   "metadata": {
    "id": "tsuhh81azIVn"
   },
   "source": [
    "Ora, proviamo a rappresentare graficamente la passeggiata aleatoria.\n",
    "Simulare per 100, 1000 e 20000 passi la passeggiata aleatoria. Dopo ogni simulazione, eseguire il codice sottostante e guardare l'output. Provare anche a cambiare i vari parametri del LCG, soprattutto m (orientativamente numero dispari tra 10 e 10000).\n",
    "\n",
    "Cosa si può osservare? è davvero aleatoria?"
   ]
  },
  {
   "cell_type": "code",
   "execution_count": 4,
   "metadata": {
    "id": "drUUwKZnzGez"
   },
   "outputs": [
    {
     "data": {
      "image/png": "[encoded data removed]",
      "text/plain": [
       "<Figure size 1200x800 with 1 Axes>"
      ]
     },
     "metadata": {},
     "output_type": "display_data"
    }
   ],
   "source": [
    "import matplotlib.pyplot as plt\n",
    "fig=plt.figure(figsize=(12,8), dpi= 100, facecolor='w', edgecolor='k')\n",
    "\n",
    "plt.title(\"Random Walk ($n = \" + str(n) + \"$ steps)\") \n",
    "\n",
    "plt.plot(x_list,y_list)\n",
    "plt.show()"
   ]
  },
  {
   "cell_type": "markdown",
   "metadata": {
    "id": "6zCvD37eas2P"
   },
   "source": [
    "TO BE CONTINUED..."
   ]
  }
 ],
 "metadata": {
  "colab": {
   "collapsed_sections": [],
   "name": "RNG_1.ipynb",
   "provenance": [
    {
     "file_id": "1XAj70W7FY0YUjtTSKFsIpELtejnJQqjP",
     "timestamp": 1601756810236
    }
   ]
  },
  "kernelspec": {
   "display_name": "Python 3",
   "language": "python",
   "name": "python3"
  },
  "language_info": {
   "codemirror_mode": {
    "name": "ipython",
    "version": 3
   },
   "file_extension": ".py",
   "mimetype": "text/x-python",
   "name": "python",
   "nbconvert_exporter": "python",
   "pygments_lexer": "ipython3",
   "version": "3.8.5"
  }
 },
 "nbformat": 4,
 "nbformat_minor": 1
}
