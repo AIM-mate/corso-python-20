{
 "cells": [
  {
   "cell_type": "markdown",
   "metadata": {
    "id": "Q-LTrs4cXX8V"
   },
   "source": [
    "# Generazione di numeri casuali\n",
    "\n",
    "La generazione di numeri casuali è essenziale ormai in ogni tipo di applicazione, per esempio in finanza e in statistica (simulazioni Monte Carlo).\n",
    "Algoritmi e computer son, però, deterministici, dunque si son sviluppate varie tecniche per generare numeri pseudo-casuali con buone proprietà (bassa autocorrelazione, uniformità, riproducibilità…).\n",
    "\n",
    "In particolare, ci concentriamo sulla generazione di numeri casuali da una distribuzione uniforme continua, dalla quale si può semplicemente passare a molte altre distribuzioni note (e.g. Bernoulli, Esponenziale etc) e vediamo una semplice applicazione del generatore così costruito, con la simulazione di una passeggiata aleatoria.\n",
    "\n",
    "Se si volesse ottenere dei numeri davvero random (e.g. in crittografia), si dovrebbe ricorrere, tuttavia, ad altri metodi (difficilmente implementabili in Python ;) ), come mostrato in https://www.youtube.com/watch?v=1cUUfMeOijg&feature=youtu.be\n",
    "\n",
    "PS Per info, problemi o altro, potete contattarmi all'indirizzo filippo.fedeli@mail.polimi.it o su cellulare al +393386561042"
   ]
  },
  {
   "cell_type": "markdown",
   "metadata": {
    "id": "NifzLcc0OJdq"
   },
   "source": [
    "# Generatore Lineare Congruenziale\n",
    "\n",
    "\n"
   ]
  },
  {
   "cell_type": "markdown",
   "metadata": {
    "id": "NqdwmnPynR-f"
   },
   "source": [
    "Iniziamo il progetto implementando un semplice generatore di numeri pseudo-casuali, il Generatore Lineare Congruenziale, algoritmo utilizzato, per esempio, dal comando rand di C, che si basa su un una immediata relazione ricorsiva.\n",
    "Il funzionamento è descritto dall'algoritmo seguente :\n",
    "\n",
    "• Spazio degli stati = {0, 1, . . . , m − 1} (m = modulo)\n",
    "\n",
    "• Passo di ricorsione :  Xn = (a * Xn−1 + c) mod m\n",
    "\n",
    "• output Un = Xn/m.\n",
    "\n",
    "Più info su https://it.wikipedia.org/wiki/Generatore_lineare_congruenziale\n",
    "\n"
   ]
  },
  {
   "cell_type": "code",
   "execution_count": 20,
   "metadata": {
    "id": "AYXitSnQnQAV"
   },
   "outputs": [],
   "source": [
    "# definisco la funzione con degli argomenti in modo da poterla eseguire più comodamente in seguito\n",
    "\n",
    "def LCG(a,c,m,t):\n",
    "    \n",
    "    state = 0\n",
    "\n",
    "    for i in range(t):\n",
    "        state = ( (a * state + c) % m )\n",
    "\n",
    "    return state"
   ]
  },
  {
   "cell_type": "markdown",
   "metadata": {
    "id": "8eT4MOOAseyO"
   },
   "source": [
    "Ora vogliamo testare il nostro generatore. Proviamo a vedere quanto è il **periodo** del nostro generatore, ovvero dopo quanto tempo inizia a ripetere la stessa sequenza di numeri. (usiamo un m < 10000, in modo che non ci si metta troppo a verificarlo)\n",
    "\n",
    "Un buon generatore dovrebbe avere un periodo il più alto possibile.\n",
    "Per l'utilizzo attuale nelle simulazioni Monte Carlo, serve un periodo molto alto; il random base di python ha un periodo di 2^19937-1. \n",
    "\n",
    "(il random  base di python non è comunque utilizzabile per la crittografia, in quanto, conoscendo l'algoritmo sottostante, lo stato è precisamente indovinabile dopo 624 numeri generati (https://github.com/kmyk/mersenne-twister-predictor)\n",
    "\n",
    "NB Per chiamare una funzione senza argomenti come la nostra e assegnare il valore restituito ad una variabile var, è necessario soltanto usare\n",
    "var = LCG(). "
   ]
  },
  {
   "cell_type": "code",
   "execution_count": 25,
   "metadata": {
    "id": "SeOvozU1qQTx"
   },
   "outputs": [
    {
     "name": "stdout",
     "output_type": "stream",
     "text": [
      "0  3  1  10  4  8  13  2  17  7  6  22  19  21  12  18  14  9  20  5  15  16  0  3  1  10  4  8  13  2  17  7  6  22  19  21  12  18  14  9  20  5  15  16  0  3  1  10  4  8  13  2  17  7  6  22  19  21  12  18  14  9  20  5  15  16  0  3  1  10  4  8  13  2  17  7  6  22  19  21  12  18  14  9  20  5  15  16  0  3  1  10  4  8  13  2  17  7  6  22  "
     ]
    }
   ],
   "source": [
    "# inizializzo i parametri del generatore\n",
    "\n",
    "a = 7\n",
    "c = 3\n",
    "\n",
    "m = 23\n",
    "\n",
    "t = 100\n",
    "for i in range(t):\n",
    "    print(LCG(a,c,m,i), end=\"  \")\n",
    "\n",
    "# con questo codice si vede (a occhio) che la periodicità della\n",
    "# sequenza generata è 22 (coi parametri stato_iniziale=0,a=7,c=3,m=23)"
   ]
  },
  {
   "cell_type": "markdown",
   "metadata": {
    "id": "zgTTQXY_OOQI"
   },
   "source": [
    "# Passeggiata Aleatoria Bidimensionale\n"
   ]
  },
  {
   "cell_type": "markdown",
   "metadata": {
    "id": "IjhY_wdkwHsV"
   },
   "source": [
    "A questo punto, proviamo a usare il nostro generatore per simulare una passeggiata aleatoria bidimensionale discreta.\n",
    "\n",
    "Partendo dal punto (0,0), ad ogni iterazione, un punto si muove di 1 unità in una delle quattro direzioni possibili (e.g. da (0,0) si può muovere in (1,0),(-1,0),(0,1),(0,-1)) \n",
    "con probabilità pi (inizialmente p1 = p2 = p3 = p4 = 0.25). Usando il generatore di numeri casuali appena costruito per campionare da un'uniforme continua in [0,1], simulare la passeggiata aleatoria. \n",
    "\n",
    "Conservare la posizione ad ogni istante temporale del punto in due liste separate x_list e y_list (per le coordinate x ed y)."
   ]
  },
  {
   "cell_type": "code",
   "execution_count": 26,
   "metadata": {
    "id": "ltrHJgvky-62"
   },
   "outputs": [],
   "source": [
    "# utilizzo due variabili x e y che variano, e due liste che memorizzeranno i vari valori\n",
    "\n",
    "x = 0\n",
    "y = 0\n",
    "x_list = [x]\n",
    "y_list = [y]\n",
    "\n",
    "m = 2681\n",
    "n_passi = 500\n",
    "\n",
    "for t in range(n_passi):\n",
    "    \n",
    "    # \"estrazione\" probabilistica, t-esimo elemento della sequenza\n",
    "    omega = LCG(a,c,m,t)\n",
    "    \n",
    "    # questo sotto controlla in quale quarto cade l'estrazione, non è proprio bellissimo\n",
    "    # ma è la prima cosa che mi è venuta in mente. Per generalizzarlo bisognerebbe\n",
    "    # procedere in modo completamente diverso, ma per i nostri scopi ho convenuto\n",
    "    # che una soluzione bruta come questa potesse andare bene\n",
    "    if omega < 0.25*m:\n",
    "        x += 1\n",
    "        y += 0\n",
    "    elif omega < 0.50*m:\n",
    "        x += 0\n",
    "        y += 1\n",
    "    elif omega < 0.75*m:\n",
    "        x += -1\n",
    "        y += 0\n",
    "    elif omega < 1.00*m:\n",
    "        x += 0\n",
    "        y += -1\n",
    "    \n",
    "    # salvo i valori nelle liste\n",
    "    x_list.append(x)\n",
    "    y_list.append(y)"
   ]
  },
  {
   "cell_type": "markdown",
   "metadata": {
    "id": "-KDYWttwzABp"
   },
   "source": [
    "Qui finisce la parte di coding dell'assignment, eseguire le celle successive per installare matplotlib, visualizzare il risultato e rispondere alle ultime domande."
   ]
  },
  {
   "cell_type": "code",
   "execution_count": null,
   "metadata": {
    "id": "Qh3ehj5GyNKf"
   },
   "outputs": [],
   "source": [
    "!pip install matplotlib"
   ]
  },
  {
   "cell_type": "markdown",
   "metadata": {
    "id": "tsuhh81azIVn"
   },
   "source": [
    "Ora, proviamo a rappresentare graficamente la passeggiata aleatoria.\n",
    "Simulare per 100, 1000 e 20000 passi la passeggiata aleatoria. Dopo ogni simulazione, eseguire il codice sottostante e guardare l'output. Provare anche a cambiare i vari parametri del LCG, soprattutto m (orientativamente numero dispari tra 10 e 10000).\n",
    "\n",
    "Cosa si può osservare? è davvero aleatoria?"
   ]
  },
  {
   "cell_type": "code",
   "execution_count": 28,
   "metadata": {
    "id": "drUUwKZnzGez"
   },
   "outputs": [
    {
     "data": {
      "image/png": "[encoded data removed]",
      "text/plain": [
       "<Figure size 1200x800 with 1 Axes>"
      ]
     },
     "metadata": {},
     "output_type": "display_data"
    }
   ],
   "source": [
    "import matplotlib.pyplot as plt\n",
    "fig=plt.figure(figsize=(12,8), dpi= 100, facecolor='w', edgecolor='k')\n",
    "\n",
    "plt.title(\"Random Walk ($n = \" + str(n_passi) + \"$ steps)\") \n",
    "\n",
    "plt.plot(x_list,y_list)\n",
    "plt.show()"
   ]
  },
  {
   "cell_type": "markdown",
   "metadata": {
    "id": "6zCvD37eas2P"
   },
   "source": [
    "Variando i parametri si nota che la camminata cambia, tuttavia, specie per quando si sa che la sequenza si ripete spesso (quindi o quando si ripete \"di suo\" oppure quando si eseguono migliaia di passi in modo da \"catturare\" la periodicità) si possono notare dei pattern ripetuti, o delle vere e proprie direzioni preferenziali, conseguenza comunque della ripetizione di un percorso"
   ]
  }
 ],
 "metadata": {
  "colab": {
   "collapsed_sections": [],
   "name": "RNG_1.ipynb",
   "provenance": [
    {
     "file_id": "1XAj70W7FY0YUjtTSKFsIpELtejnJQqjP",
     "timestamp": 1601756810236
    }
   ]
  },
  "kernelspec": {
   "display_name": "Python 3",
   "language": "python",
   "name": "python3"
  },
  "language_info": {
   "codemirror_mode": {
    "name": "ipython",
    "version": 3
   },
   "file_extension": ".py",
   "mimetype": "text/x-python",
   "name": "python",
   "nbconvert_exporter": "python",
   "pygments_lexer": "ipython3",
   "version": "3.8.2"
  }
 },
 "nbformat": 4,
 "nbformat_minor": 4
}
