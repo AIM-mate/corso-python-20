{
 "cells": [
  {
   "cell_type": "code",
   "execution_count": 4,
   "metadata": {},
   "outputs": [
    {
     "name": "stdout",
     "output_type": "stream",
     "text": [
      "questo programma calcola la successione di Fibonacci, da 1 fino al numero che stabilisci tu: 9\n",
      "1\n",
      "1\n",
      "2\n",
      "3\n",
      "5\n",
      "8\n"
     ]
    }
   ],
   "source": [
    "while True: \n",
    "    try:\n",
    "        s=int(input(\"questo programma calcola la successione di Fibonacci, da 1 fino al numero che stabilisci tu: \"))\n",
    "        if s<1 :\n",
    "            raise Exception(\"devi inserire un numero maggiore di 1\")\n",
    "        else:\n",
    "            break\n",
    "    except: \n",
    "        (\"inserisci un numero!\")\n",
    "t=0\n",
    "x=1\n",
    "y=1\n",
    "print(x)\n",
    "print(y)\n",
    "while t<s:\n",
    "    t=x+y\n",
    "    y=x\n",
    "    x=t\n",
    "    if(t<s):\n",
    "        print(t)\n"
   ]
  },
  {
   "cell_type": "code",
   "execution_count": 5,
   "metadata": {},
   "outputs": [
    {
     "name": "stdout",
     "output_type": "stream",
     "text": [
      "Questo programma calcola la successione così definita: a(n)=a(n-1)+a(n-3)-a(n-2), per n>=4\n",
      "Fino a n = 3\n",
      "Questo programma calcola la successione così definita: a(n)=a(n-1)+a(n-3)-a(n-2), per n>=4\n",
      "Fino a n = 5\n",
      "1 7 18 14 5 "
     ]
    }
   ],
   "source": [
    "a,b,c,s=1,7,18,0\n",
    "while (s<=3): \n",
    "    s=int(input(\"\"\"Questo programma calcola la successione così definita: a(n)=a(n-1)+a(n-3)-a(n-2), per n>=4\\nFino a n = \"\"\"))\n",
    "for i in range(s):\n",
    "    print(a,end=' ')\n",
    "    a,b,c=b,c,c+a-b+2\n"
   ]
  },
  {
   "cell_type": "code",
   "execution_count": 6,
   "metadata": {},
   "outputs": [
    {
     "name": "stdout",
     "output_type": "stream",
     "text": [
      "Scegli la lunghezza del Triangolo di Tartaglia.\n",
      "Stamperò tutti i coefficienti fino all'n-esima potenza.\n",
      "Ricordati di inserire una potenza maggiore di 2. \n",
      "n:9\n",
      "[1]\n",
      "[1, 1]\n",
      "[1, 2, 1]\n",
      "[1, 3, 3, 1]\n",
      "[1, 4, 6, 4, 1]\n",
      "[1, 5, 10, 10, 5, 1]\n",
      "[1, 6, 15, 20, 15, 6, 1]\n",
      "[1, 7, 21, 35, 35, 21, 7, 1]\n",
      "[1, 8, 28, 56, 70, 56, 28, 8, 1]\n",
      "[1, 9, 36, 84, 126, 126, 84, 36, 9, 1]\n"
     ]
    }
   ],
   "source": [
    "s=0\n",
    "while (s<=2): \n",
    "    s=int(input(\"\"\"Scegli la lunghezza del Triangolo di Tartaglia.\n",
    "Stamperò tutti i coefficienti fino all'n-esima potenza.\n",
    "Ricordati di inserire una potenza maggiore di 2. \\nn:\"\"\"))\n",
    "    if s<=2:\n",
    "        print(\"Non fare il minchia\")\n",
    "print(\"[1]\")\n",
    "m=[1,1]\n",
    "for i in range(1,s+1):\n",
    "    print(m)\n",
    "    k=[1]\n",
    "    for j in range(1,len(m)):\n",
    "        k.append(m[j-1]+m[j])\n",
    "    k.append(1)\n",
    "    m=k\n",
    "             "
   ]
  },
  {
   "cell_type": "code",
   "execution_count": null,
   "metadata": {},
   "outputs": [],
   "source": []
  }
 ],
 "metadata": {
  "kernelspec": {
   "display_name": "Python 3",
   "language": "python",
   "name": "python3"
  },
  "language_info": {
   "codemirror_mode": {
    "name": "ipython",
    "version": 3
   },
   "file_extension": ".py",
   "mimetype": "text/x-python",
   "name": "python",
   "nbconvert_exporter": "python",
   "pygments_lexer": "ipython3",
   "version": "3.8.6"
  }
 },
 "nbformat": 4,
 "nbformat_minor": 4
}
