{
 "cells": [
  {
   "cell_type": "markdown",
   "metadata": {
    "id": "k-KCAr6Ffcrf"
   },
   "source": [
    "### **Attenzione**!!\n",
    "Con questo assignment si può raggiungere un massimo di **2 punti**."
   ]
  },
  {
   "cell_type": "markdown",
   "metadata": {
    "id": "jYVrXjDXqNvF"
   },
   "source": [
    "# Successione di Fibonacci\n",
    "Stampa i primi n numeri della successione di Fibonacci."
   ]
  },
  {
   "cell_type": "code",
   "execution_count": 7,
   "metadata": {
    "id": "A3WnP4ADqNvG",
    "outputId": "592006c1-fb0d-434f-aa4d-d5de39cac5c0"
   },
   "outputs": [
    {
     "name": "stdout",
     "output_type": "stream",
     "text": [
      "1\n",
      "1\n",
      "2\n",
      "3\n",
      "5\n",
      "8\n",
      "13\n",
      "21\n",
      "34\n",
      "55\n"
     ]
    }
   ],
   "source": [
    "n = 10\n",
    "\n",
    "fib1=1\n",
    "fib2=1\n",
    "print(fib1)\n",
    "print(fib2)\n",
    "\n",
    "for i in range(n-2):\n",
    "    fib3=fib1+fib2\n",
    "    print(fib3)\n",
    "    fib1=fib2\n",
    "    fib2=fib3\n",
    "\n",
    "\n",
    "    \n",
    "\n"
   ]
  },
  {
   "cell_type": "markdown",
   "metadata": {
    "id": "vXYCD7uMqNvQ"
   },
   "source": [
    "# Un'altra successione\n",
    "Scrivere i primi n elementi ($a_n$) di una successione così definita: \n",
    "- i primi tre elementi valgono 1, 7, 18.\n",
    "- i successivi (i>=4) valgono \n",
    "$a_n = a_{n-1} + a_{n-3} - a_{n-2} + 2$\n",
    "\n",
    "\n",
    "Esempio: 1 7 18 14 5 11 22 18 9 15 26 22 13 19 30 \n"
   ]
  },
  {
   "cell_type": "code",
   "execution_count": 10,
   "metadata": {
    "id": "Rut_-0RwqNvS",
    "outputId": "2a8b23aa-984d-4ab6-80ea-2f8b8bea0bab"
   },
   "outputs": [
    {
     "name": "stdout",
     "output_type": "stream",
     "text": [
      "1\n",
      "7\n",
      "18\n",
      "14\n",
      "5\n",
      "11\n",
      "22\n",
      "18\n",
      "9\n",
      "15\n",
      "26\n",
      "22\n",
      "13\n",
      "19\n",
      "30\n"
     ]
    }
   ],
   "source": [
    "n = 15\n",
    "\n",
    "primo=1\n",
    "secondo=7\n",
    "terzo=18\n",
    "print(primo)\n",
    "print(secondo)\n",
    "print(terzo)\n",
    "for i in range(n-3):\n",
    "    quarto =terzo+primo-secondo+2\n",
    "    primo=secondo\n",
    "    secondo=terzo\n",
    "    terzo=quarto\n",
    "    print(quarto)\n",
    "\n"
   ]
  },
  {
   "cell_type": "markdown",
   "metadata": {
    "id": "WQ3aOVlhQ6AC"
   },
   "source": [
    "# Triangolo di Tartaglia\n",
    "Scrivere le prime n righe del triangolo di Tartaglia "
   ]
  },
  {
   "cell_type": "code",
   "execution_count": 18,
   "metadata": {
    "colab": {
     "base_uri": "https://localhost:8080/",
     "height": 202
    },
    "executionInfo": {
     "elapsed": 1180,
     "status": "ok",
     "timestamp": 1601911139047,
     "user": {
      "displayName": "Corso Python",
      "photoUrl": "https://lh3.googleusercontent.com/a-/AOh14GhUJnZlNXXV-eAoMnBindJd9r8g8VQoai18e-XA=s64",
      "userId": "02320948615677398231"
     },
     "user_tz": -120
    },
    "id": "JbHtaV0jRNFQ",
    "outputId": "810de275-e6fe-4cf1-9abf-d67df5b18ecb"
   },
   "outputs": [
    {
     "name": "stdout",
     "output_type": "stream",
     "text": [
      "[1]\n",
      "[1, 1]\n",
      "[1, 2, 1]\n",
      "[1, 3, 3, 1]\n",
      "[1, 4, 6, 4, 1]\n",
      "[1, 5, 10, 10, 5, 1]\n",
      "[1, 6, 15, 20, 15, 6, 1]\n",
      "[1, 7, 21, 35, 35, 21, 7, 1]\n",
      "[1, 8, 28, 56, 70, 56, 28, 8, 1]\n",
      "[1, 9, 36, 84, 126, 126, 84, 36, 9, 1]\n"
     ]
    }
   ],
   "source": [
    "n = 10\n",
    "\n",
    "s1=[1]\n",
    "s2=[1,1]\n",
    "\n",
    "print(s1)\n",
    "print(s2)\n",
    "\n",
    "for i in range(3,n+1):\n",
    "    l=[0]*i\n",
    "    for j in range(i):\n",
    "        if j==0 or j==i-1:\n",
    "            l[j]=1\n",
    "        else:    \n",
    "            l[j]=s2[j-1]+s2[j]\n",
    "    print(l)\n",
    "    s2=l\n",
    "    \n",
    "    "
   ]
  },
  {
   "cell_type": "code",
   "execution_count": null,
   "metadata": {
    "jupyter": {
     "source_hidden": true
    }
   },
   "outputs": [],
   "source": []
  },
  {
   "cell_type": "code",
   "execution_count": null,
   "metadata": {},
   "outputs": [],
   "source": []
  }
 ],
 "metadata": {
  "colab": {
   "name": "Ex successioni.ipynb",
   "provenance": []
  },
  "kernelspec": {
   "display_name": "Python 3",
   "language": "python",
   "name": "python3"
  },
  "language_info": {
   "codemirror_mode": {
    "name": "ipython",
    "version": 3
   },
   "file_extension": ".py",
   "mimetype": "text/x-python",
   "name": "python",
   "nbconvert_exporter": "python",
   "pygments_lexer": "ipython3",
   "version": "3.8.5"
  }
 },
 "nbformat": 4,
 "nbformat_minor": 4
}
