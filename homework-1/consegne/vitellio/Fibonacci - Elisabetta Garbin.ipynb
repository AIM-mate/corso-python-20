{
 "cells": [
  {
   "cell_type": "code",
   "execution_count": 1,
   "metadata": {},
   "outputs": [
    {
     "name": "stdout",
     "output_type": "stream",
     "text": [
      "Inserisci un numero: \n",
      "5\n",
      "120\n"
     ]
    }
   ],
   "source": [
    "#Fibonacci\n",
    "inp = input(\"Inserisci un numero: \\n\")\n",
    "\n",
    "try:\n",
    "    num = int(inp)\n",
    "    fatt = 1\n",
    "    for i in range(1, num+1):\n",
    "        fatt *= i\n",
    "    print(fatt)\n",
    "except:\n",
    "    print(\"Inserisci un intero\")\n"
   ]
  }
 ],
 "metadata": {
  "kernelspec": {
   "display_name": "Python 3",
   "language": "python",
   "name": "python3"
  },
  "language_info": {
   "codemirror_mode": {
    "name": "ipython",
    "version": 3
   },
   "file_extension": ".py",
   "mimetype": "text/x-python",
   "name": "python",
   "nbconvert_exporter": "python",
   "pygments_lexer": "ipython3",
   "version": "3.8.5"
  }
 },
 "nbformat": 4,
 "nbformat_minor": 4
}
