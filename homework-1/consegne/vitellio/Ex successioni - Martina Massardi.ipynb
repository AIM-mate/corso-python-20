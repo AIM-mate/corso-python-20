{
 "cells": [
  {
   "cell_type": "markdown",
   "metadata": {
    "id": "k-KCAr6Ffcrf"
   },
   "source": [
    "### **Attenzione**!!\n",
    "Con questo assignment si può raggiungere un massimo di **2 punti**."
   ]
  },
  {
   "cell_type": "markdown",
   "metadata": {
    "id": "jYVrXjDXqNvF"
   },
   "source": [
    "# Successione di Fibonacci\n",
    "Stampa i primi n numeri della successione di Fibonacci."
   ]
  },
  {
   "cell_type": "code",
   "execution_count": 15,
   "metadata": {
    "id": "A3WnP4ADqNvG",
    "outputId": "592006c1-fb0d-434f-aa4d-d5de39cac5c0"
   },
   "outputs": [
    {
     "name": "stdout",
     "output_type": "stream",
     "text": [
      "1\n",
      "1\n",
      "2\n",
      "3\n",
      "5\n",
      "8\n",
      "13\n",
      "21\n",
      "34\n",
      "55\n"
     ]
    }
   ],
   "source": [
    "n = 10\n",
    "a = 1\n",
    "b = 1\n",
    "for i in range(n):\n",
    "    print(a)\n",
    "    a,b=b,a+b\n"
   ]
  },
  {
   "cell_type": "markdown",
   "metadata": {
    "id": "vXYCD7uMqNvQ"
   },
   "source": [
    "# Un'altra successione\n",
    "Scrivere i primi n elementi ($a_n$) di una successione così definita: \n",
    "- i primi tre elementi valgono 1, 7, 18.\n",
    "- i successivi (i>=4) valgono \n",
    "$a_n = a_{n-1} + a_{n-3} - a_{n-2} + 2$\n",
    "\n",
    "\n",
    "Esempio: 1 7 18 14 5 11 22 18 9 15 26 22 13 19 30 \n"
   ]
  },
  {
   "cell_type": "code",
   "execution_count": 16,
   "metadata": {
    "id": "Rut_-0RwqNvS",
    "outputId": "2a8b23aa-984d-4ab6-80ea-2f8b8bea0bab"
   },
   "outputs": [
    {
     "name": "stdout",
     "output_type": "stream",
     "text": [
      "1\n",
      "7\n",
      "18\n",
      "14\n",
      "5\n",
      "11\n",
      "22\n",
      "18\n",
      "9\n",
      "15\n",
      "26\n",
      "22\n",
      "13\n",
      "19\n",
      "30\n"
     ]
    }
   ],
   "source": [
    "n = 15\n",
    "a = 1\n",
    "b = 7\n",
    "c = 18\n",
    "for i in range(n):\n",
    "    print(a)\n",
    "    now =  c + a - b +2\n",
    "    a=b\n",
    "    b=c\n",
    "    c=now"
   ]
  },
  {
   "cell_type": "markdown",
   "metadata": {
    "id": "WQ3aOVlhQ6AC"
   },
   "source": [
    "# Triangolo di Tartaglia\n",
    "Scrivere le prime n righe del triangolo di Tartaglia "
   ]
  },
  {
   "cell_type": "code",
   "execution_count": 12,
   "metadata": {
    "colab": {
     "base_uri": "https://localhost:8080/",
     "height": 202
    },
    "executionInfo": {
     "elapsed": 1180,
     "status": "ok",
     "timestamp": 1601911139047,
     "user": {
      "displayName": "Corso Python",
      "photoUrl": "https://lh3.googleusercontent.com/a-/AOh14GhUJnZlNXXV-eAoMnBindJd9r8g8VQoai18e-XA=s64",
      "userId": "02320948615677398231"
     },
     "user_tz": -120
    },
    "id": "JbHtaV0jRNFQ",
    "outputId": "810de275-e6fe-4cf1-9abf-d67df5b18ecb"
   },
   "outputs": [
    {
     "name": "stdout",
     "output_type": "stream",
     "text": [
      "[1]\n",
      "[1, 1]\n",
      "[1, 2, 1]\n",
      "[1, 3, 3, 1]\n",
      "[1, 4, 6, 4, 1]\n",
      "[1, 5, 10, 10, 5, 1]\n",
      "[1, 6, 15, 20, 15, 6, 1]\n",
      "[1, 7, 21, 35, 35, 21, 7, 1]\n",
      "[1, 8, 28, 56, 70, 56, 28, 8, 1]\n",
      "[1, 9, 36, 84, 126, 126, 84, 36, 9, 1]\n"
     ]
    }
   ],
   "source": [
    "n = 10\n",
    "print ([1])\n",
    "row = [1, 1]\n",
    "\n",
    "for i in range(n-1):\n",
    "    print (row)\n",
    "    new = [ 1 ]\n",
    "    for j in range(len(row)-1):\n",
    "        new.append (row[j]+row[j+1])\n",
    "    new.append(1)\n",
    "    row = new\n",
    "    \n",
    "\n",
    "\n",
    "\n",
    "        "
   ]
  },
  {
   "cell_type": "code",
   "execution_count": null,
   "metadata": {},
   "outputs": [],
   "source": []
  }
 ],
 "metadata": {
  "colab": {
   "name": "Ex successioni.ipynb",
   "provenance": []
  },
  "kernelspec": {
   "display_name": "Python 3",
   "language": "python",
   "name": "python3"
  },
  "language_info": {
   "codemirror_mode": {
    "name": "ipython",
    "version": 3
   },
   "file_extension": ".py",
   "mimetype": "text/x-python",
   "name": "python",
   "nbconvert_exporter": "python",
   "pygments_lexer": "ipython3",
   "version": "3.8.6"
  }
 },
 "nbformat": 4,
 "nbformat_minor": 4
}
