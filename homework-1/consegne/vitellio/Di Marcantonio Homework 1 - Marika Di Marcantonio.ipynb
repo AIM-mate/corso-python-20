{
 "cells": [
  {
   "cell_type": "code",
   "execution_count": 13,
   "metadata": {},
   "outputs": [
    {
     "name": "stdout",
     "output_type": "stream",
     "text": [
      "Calcola la successione di Fibonacci nella posizione\n",
      "7\n",
      "13\n"
     ]
    }
   ],
   "source": [
    "# Fibonacci\n",
    "\n",
    "numero=input(\"Calcola la successione di Fibonacci nella posizione\\n\")\n",
    "n=int(numero)\n",
    "a=0\n",
    "b=1\n",
    "\n",
    "for i in range(n-1):\n",
    "    fib=a+b \n",
    "    a=b\n",
    "    b=fib\n",
    "\n",
    "print(fib)"
   ]
  },
  {
   "cell_type": "code",
   "execution_count": 38,
   "metadata": {},
   "outputs": [
    {
     "name": "stdout",
     "output_type": "stream",
     "text": [
      "[1, 2, 5, 11]\n"
     ]
    }
   ],
   "source": [
    "# Sorting\n",
    "\n",
    "v=[1, 11, 2, 5]\n",
    "        \n",
    "for i in range(len(v)):\n",
    "    pos=i\n",
    "    for j in range(len(v)):\n",
    "        if (v[j]>v[pos]):\n",
    "            v[pos],v[j]=v[j],v[pos]\n",
    "\n",
    "print(v)"
   ]
  },
  {
   "cell_type": "markdown",
   "metadata": {},
   "source": [
    "### "
   ]
  }
 ],
 "metadata": {
  "kernelspec": {
   "display_name": "Python 3",
   "language": "python",
   "name": "python3"
  }
 },
 "nbformat": 4,
 "nbformat_minor": 4
}
