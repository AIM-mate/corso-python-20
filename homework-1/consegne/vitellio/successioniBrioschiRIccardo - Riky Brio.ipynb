{
 "cells": [
  {
   "cell_type": "markdown",
   "metadata": {
    "id": "jYVrXjDXqNvF"
   },
   "source": [
    "# Successione di Fibonacci\n",
    "Stampa i primi n numeri della successione di Fibonacci."
   ]
  },
  {
   "cell_type": "code",
   "execution_count": 1,
   "metadata": {
    "id": "A3WnP4ADqNvG",
    "outputId": "592006c1-fb0d-434f-aa4d-d5de39cac5c0"
   },
   "outputs": [
    {
     "name": "stdout",
     "output_type": "stream",
     "text": [
      "1\n",
      "1\n",
      "2\n",
      "3\n",
      "5\n",
      "8\n",
      "13\n",
      "21\n",
      "34\n",
      "55\n"
     ]
    }
   ],
   "source": [
    "n= 10\n",
    "prec1=1\n",
    "prec2=1\n",
    "for i in range(n):\n",
    "    if i+1==1:\n",
    "        print(prec1)\n",
    "    elif i+1==2:\n",
    "        print(prec2)\n",
    "    else:\n",
    "        a=prec1+prec2\n",
    "        print(a)\n",
    "        prec1=prec2\n",
    "        prec2=a"
   ]
  },
  {
   "cell_type": "markdown",
   "metadata": {
    "id": "vXYCD7uMqNvQ"
   },
   "source": [
    "# Un'altra successione\n",
    "Scrivere i primi n elementi ($a_n$) di una successione così definita: \n",
    "- i primi tre elementi valgono 1, 7, 18.\n",
    "- i successivi (i>=4) valgono \n",
    "$a_n = a_{n-1} + a_{n-3} - a_{n-2} + 2$\n",
    "\n",
    "\n",
    "Esempio: 1 7 18 14 5 11 22 18 9 15 26 22 13 19 30 \n"
   ]
  },
  {
   "cell_type": "code",
   "execution_count": 2,
   "metadata": {
    "id": "Rut_-0RwqNvS",
    "outputId": "2a8b23aa-984d-4ab6-80ea-2f8b8bea0bab"
   },
   "outputs": [
    {
     "name": "stdout",
     "output_type": "stream",
     "text": [
      "1\n",
      "7\n",
      "18\n",
      "14\n",
      "5\n",
      "11\n",
      "22\n",
      "18\n",
      "9\n",
      "15\n",
      "26\n",
      "22\n",
      "13\n",
      "19\n",
      "30\n"
     ]
    }
   ],
   "source": [
    "n = 15\n",
    "m=(1,7,18)\n",
    "a1,a2,a3=m\n",
    "for i in range(1,n+1):\n",
    "    if i==1:\n",
    "        print(a1)\n",
    "    elif i==2:\n",
    "        print(a2)\n",
    "    elif i==3:\n",
    "        print(a3)\n",
    "    else:\n",
    "        x=a3+a1-a2+2\n",
    "        print(x)\n",
    "        a1,a2,a3=a2,a3,x"
   ]
  },
  {
   "cell_type": "markdown",
   "metadata": {
    "id": "WQ3aOVlhQ6AC"
   },
   "source": [
    "# Triangolo di Tartaglia\n",
    "Scrivere le prime n righe del triangolo di Tartaglia "
   ]
  },
  {
   "cell_type": "code",
   "execution_count": 7,
   "metadata": {
    "colab": {
     "base_uri": "https://localhost:8080/",
     "height": 202
    },
    "executionInfo": {
     "elapsed": 1180,
     "status": "ok",
     "timestamp": 1601911139047,
     "user": {
      "displayName": "Corso Python",
      "photoUrl": "https://lh3.googleusercontent.com/a-/AOh14GhUJnZlNXXV-eAoMnBindJd9r8g8VQoai18e-XA=s64",
      "userId": "02320948615677398231"
     },
     "user_tz": -120
    },
    "id": "JbHtaV0jRNFQ",
    "outputId": "810de275-e6fe-4cf1-9abf-d67df5b18ecb"
   },
   "outputs": [
    {
     "name": "stdout",
     "output_type": "stream",
     "text": [
      "[1]\n",
      "[1, 1]\n",
      "[1, 2, 1]\n",
      "[1, 3, 3, 1]\n",
      "[1, 4, 6, 4, 1]\n",
      "[1, 5, 10, 10, 5, 1]\n",
      "[1, 6, 15, 20, 15, 6, 1]\n",
      "[1, 7, 21, 35, 35, 21, 7, 1]\n",
      "[1, 8, 28, 56, 70, 56, 28, 8, 1]\n",
      "[1, 9, 36, 84, 126, 126, 84, 36, 9, 1]\n"
     ]
    }
   ],
   "source": [
    "n = 10\n",
    "lista1=[1]\n",
    "lista2=[1,1]\n",
    "for i in range(1,n+1):\n",
    "    if i==1:\n",
    "        print(lista1)\n",
    "    elif i==2:\n",
    "        print(lista2)\n",
    "    else:\n",
    "        lista3=[num for num in range(i)]\n",
    "        m=(1,1)\n",
    "        lista3[0],lista3[i-1]=m\n",
    "        for index in range(i-2):\n",
    "            lista3[index+1]=lista2[index+1]+lista2[index]\n",
    "        \n",
    "        lista2=lista3\n",
    "        print(lista2)"
   ]
  }
 ],
 "metadata": {
  "colab": {
   "name": "Ex successioni.ipynb",
   "provenance": []
  },
  "kernelspec": {
   "display_name": "Python 3",
   "language": "python",
   "name": "python3"
  },
  "language_info": {
   "codemirror_mode": {
    "name": "ipython",
    "version": 3
   },
   "file_extension": ".py",
   "mimetype": "text/x-python",
   "name": "python",
   "nbconvert_exporter": "python",
   "pygments_lexer": "ipython3",
   "version": "3.8.5"
  }
 },
 "nbformat": 4,
 "nbformat_minor": 1
}
