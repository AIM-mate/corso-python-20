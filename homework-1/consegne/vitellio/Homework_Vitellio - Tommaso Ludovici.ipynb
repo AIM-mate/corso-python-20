{
 "cells": [
  {
   "cell_type": "markdown",
   "metadata": {
    "id": "jYVrXjDXqNvF"
   },
   "source": [
    "# Successione di Fibonacci\n",
    "Stampa i primi n numeri della successione di Fibonacci."
   ]
  },
  {
   "cell_type": "code",
   "execution_count": 1,
   "metadata": {
    "id": "A3WnP4ADqNvG",
    "outputId": "592006c1-fb0d-434f-aa4d-d5de39cac5c0"
   },
   "outputs": [
    {
     "name": "stdout",
     "output_type": "stream",
     "text": [
      "[1, 1, 2, 3, 5, 8, 13, 21, 34, 55]\n"
     ]
    }
   ],
   "source": [
    "n = 10\n",
    "counter = 2\n",
    "fibonacci = [1, 1]\n",
    "length = 2\n",
    "while length < n:\n",
    "    fibonacci.append(fibonacci[counter-1]+fibonacci[counter-2])\n",
    "    counter += 1\n",
    "    length = len(fibonacci)\n",
    "print(fibonacci)\n"
   ]
  },
  {
   "cell_type": "markdown",
   "metadata": {
    "id": "vXYCD7uMqNvQ"
   },
   "source": [
    "# Un'altra successione\n",
    "Scrivere i primi n elementi ($a_n$) di una successione così definita: \n",
    "- i primi tre elementi valgono 1, 7, 18.\n",
    "- i successivi (i>=4) valgono \n",
    "$a_n = a_{n-1} + a_{n-3} - a_{n-2} + 2$\n",
    "\n",
    "\n",
    "Esempio: 1 7 18 14 5 11 22 18 9 15 26 22 13 19 30 \n"
   ]
  },
  {
   "cell_type": "code",
   "execution_count": 4,
   "metadata": {
    "id": "Rut_-0RwqNvS",
    "outputId": "2a8b23aa-984d-4ab6-80ea-2f8b8bea0bab"
   },
   "outputs": [
    {
     "name": "stdout",
     "output_type": "stream",
     "text": [
      "[1, 7, 18, 14, 5, 11, 22, 18, 9, 15, 26, 22, 13, 19, 30]\n"
     ]
    }
   ],
   "source": [
    "n = 15\n",
    "counter = 3\n",
    "an = [1, 7, 18]\n",
    "length = 3\n",
    "while length < n:\n",
    "    an.append(an[counter-1]+an[counter-3]-an[counter-2]+2)\n",
    "    counter += 1\n",
    "    length = len(an)\n",
    "print(an)\n"
   ]
  },
  {
   "cell_type": "markdown",
   "metadata": {
    "id": "WQ3aOVlhQ6AC"
   },
   "source": [
    "# Triangolo di Tartaglia\n",
    "Scrivere le prime n righe del triangolo di Tartaglia "
   ]
  },
  {
   "cell_type": "code",
   "execution_count": 17,
   "metadata": {
    "colab": {
     "base_uri": "https://localhost:8080/",
     "height": 202
    },
    "executionInfo": {
     "elapsed": 1180,
     "status": "ok",
     "timestamp": 1601911139047,
     "user": {
      "displayName": "Corso Python",
      "photoUrl": "https://lh3.googleusercontent.com/a-/AOh14GhUJnZlNXXV-eAoMnBindJd9r8g8VQoai18e-XA=s64",
      "userId": "02320948615677398231"
     },
     "user_tz": -120
    },
    "id": "JbHtaV0jRNFQ",
    "outputId": "810de275-e6fe-4cf1-9abf-d67df5b18ecb"
   },
   "outputs": [
    {
     "name": "stdout",
     "output_type": "stream",
     "text": [
      "\n",
      " [1]\n",
      "\n",
      " [1, 1]\n",
      "\n",
      " [1, 2, 1]\n",
      "\n",
      " [1, 3, 3, 1]\n",
      "\n",
      " [1, 4, 6, 4, 1]\n",
      "\n",
      " [1, 5, 10, 10, 5, 1]\n",
      "\n",
      " [1, 6, 15, 20, 15, 6, 1]\n",
      "\n",
      " [1, 7, 21, 35, 35, 21, 7, 1]\n",
      "\n",
      " [1, 8, 28, 56, 70, 56, 28, 8, 1]\n",
      "\n",
      " [1, 9, 36, 84, 126, 126, 84, 36, 9, 1]\n"
     ]
    }
   ],
   "source": [
    "n = 10\n",
    "tartaglia = []\n",
    "l_upper = None\n",
    "l_current = None\n",
    "for row in range(n):\n",
    "    for col in range(row+1):\n",
    "        if col == 0:\n",
    "            l_current = [1]\n",
    "        elif col == row:\n",
    "            l_current.append(1)\n",
    "        else:\n",
    "            l_current.append(l_upper[col-1]+l_upper[col])\n",
    "    tartaglia.append(l_current)\n",
    "    l_upper = l_current\n",
    "    l_current = None\n",
    "for riga in range(n):\n",
    "    print('\\n',tartaglia[riga])"
   ]
  },
  {
   "cell_type": "code",
   "execution_count": null,
   "metadata": {},
   "outputs": [],
   "source": []
  }
 ],
 "metadata": {
  "colab": {
   "name": "Ex successioni.ipynb",
   "provenance": []
  },
  "kernelspec": {
   "display_name": "Python 3",
   "language": "python",
   "name": "python3"
  },
  "language_info": {
   "codemirror_mode": {
    "name": "ipython",
    "version": 3
   },
   "file_extension": ".py",
   "mimetype": "text/x-python",
   "name": "python",
   "nbconvert_exporter": "python",
   "pygments_lexer": "ipython3",
   "version": "3.8.6"
  }
 },
 "nbformat": 4,
 "nbformat_minor": 1
}
