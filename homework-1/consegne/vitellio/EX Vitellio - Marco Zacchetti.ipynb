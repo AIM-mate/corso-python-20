{
 "cells": [
  {
   "cell_type": "code",
   "execution_count": 24,
   "metadata": {},
   "outputs": [
    {
     "name": "stdout",
     "output_type": "stream",
     "text": [
      "inserisci il numero di elementi della successione di Fibonacci che si vogliono visualizzare\n",
      "5\n",
      "[1, 1, 2, 3, 5]\n"
     ]
    }
   ],
   "source": [
    "#SERIE DI FIBONACCI\n",
    "n=int(input(\"inserisci il numero di elementi della successione di Fibonacci che si vogliono visualizzare\\n\"))\n",
    "l=list()\n",
    "for i in range(0,n):\n",
    "    if i==0 or i==1:\n",
    "        l.append(1)\n",
    "    else:\n",
    "        l.append(l[i-1]+l[i-2])\n",
    "print(l)    "
   ]
  },
  {
   "cell_type": "code",
   "execution_count": 26,
   "metadata": {},
   "outputs": [
    {
     "name": "stdout",
     "output_type": "stream",
     "text": [
      "inserire il numero di elementi della successione che si vogliono visualizzare\n",
      "10\n",
      "[1, 7, 18, 14, 5, 11, 22, 18, 9, 15]\n"
     ]
    }
   ],
   "source": [
    "#SUCCESSIONE\n",
    "n=int(input(\"inserire il numero di elementi della successione che si vogliono visualizzare\\n\"))\n",
    "l=[1,7,18]\n",
    "for i in range (3,n):\n",
    "    l.append(l[i-1]+l[i-3]-l[i-2]+2)\n",
    "print(l)"
   ]
  },
  {
   "cell_type": "code",
   "execution_count": 18,
   "metadata": {},
   "outputs": [
    {
     "name": "stdout",
     "output_type": "stream",
     "text": [
      "inserire il numero di righe del traingolo di tartaglia che si vogliono visualizzare\n",
      "10\n",
      "[1]\n",
      "[1, 1]\n",
      "[1, 2, 1]\n",
      "[1, 3, 3, 1]\n",
      "[1, 4, 6, 4, 1]\n",
      "[1, 5, 10, 10, 5, 1]\n",
      "[1, 6, 15, 20, 15, 6, 1]\n",
      "[1, 7, 21, 35, 35, 21, 7, 1]\n",
      "[1, 8, 28, 56, 70, 56, 28, 8, 1]\n",
      "[1, 9, 36, 84, 126, 126, 84, 36, 9, 1]\n"
     ]
    }
   ],
   "source": [
    "#TRIANGOLO DI TARTAGLIA\n",
    "n=int(input(\"inserire il numero di righe del traingolo di tartaglia che si vogliono visualizzare\\n\"))\n",
    "l1=[1]\n",
    "l2=list()\n",
    "print(l1)\n",
    "for i in range(1,n):\n",
    "    for j in range(0,i+1):\n",
    "        if j==0:\n",
    "            l2.append(1)\n",
    "        if j==i:\n",
    "            l2.append(1)\n",
    "        if j>0 and j<i:\n",
    "            l2.append(l1[j]+l1[j-1])\n",
    "    print(l2)\n",
    "    l1=l2\n",
    "    l2=list()\n",
    "        \n",
    "        \n",
    "        "
   ]
  },
  {
   "cell_type": "code",
   "execution_count": null,
   "metadata": {},
   "outputs": [],
   "source": []
  }
 ],
 "metadata": {
  "kernelspec": {
   "display_name": "Python 3",
   "language": "python",
   "name": "python3"
  },
  "language_info": {
   "codemirror_mode": {
    "name": "ipython",
    "version": 3
   },
   "file_extension": ".py",
   "mimetype": "text/x-python",
   "name": "python",
   "nbconvert_exporter": "python",
   "pygments_lexer": "ipython3",
   "version": "3.9.0"
  }
 },
 "nbformat": 4,
 "nbformat_minor": 4
}
