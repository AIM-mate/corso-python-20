{
 "cells": [
  {
   "cell_type": "code",
   "execution_count": 1,
   "metadata": {},
   "outputs": [
    {
     "name": "stdout",
     "output_type": "stream",
     "text": [
      "Lunghezza serie di Fibonacci: 10\n",
      "1 \n",
      "1 \n",
      "2 \n",
      "3 \n",
      "5 \n",
      "8 \n",
      "13 \n",
      "21 \n",
      "34 \n",
      "55 \n"
     ]
    }
   ],
   "source": [
    "#Fibonacci\n",
    "#Stampa i primi n numeri della successione di Fibonacci.\n",
    "\n",
    "n=int(input('Lunghezza serie di Fibonacci: ' ))\n",
    "    \n",
    "a=1\n",
    "b=1\n",
    "\n",
    "for i in range (n):\n",
    "    print(a, end=' ')\n",
    "    c=a+b\n",
    "    a=b\n",
    "    b=c\n",
    "    \n",
    "    print()"
   ]
  },
  {
   "cell_type": "code",
   "execution_count": 2,
   "metadata": {},
   "outputs": [
    {
     "name": "stdout",
     "output_type": "stream",
     "text": [
      "Numero di righe del Triangolo di Tartaglia: 10\n",
      "[1]\n",
      "[1, 1]\n",
      "[1, 2, 1]\n",
      "[1, 3, 3, 1]\n",
      "[1, 4, 6, 4, 1]\n",
      "[1, 5, 10, 10, 5, 1]\n",
      "[1, 6, 15, 20, 15, 6, 1]\n",
      "[1, 7, 21, 35, 35, 21, 7, 1]\n",
      "[1, 8, 28, 56, 70, 56, 28, 8, 1]\n",
      "[1, 9, 36, 84, 126, 126, 84, 36, 9, 1]\n"
     ]
    }
   ],
   "source": [
    "#Scrivere le prime n righe del triangolo di Tartaglia\n",
    "\n",
    "import math\n",
    "\n",
    "n=int(input('Numero di righe del Triangolo di Tartaglia: ' ))\n",
    "\n",
    "def coeff_binom(k, r):\n",
    "    return int((math.factorial(k)) / ((math.factorial(r)) * math.factorial(k - r)))\n",
    "\n",
    "def Tartaglia(righe):\n",
    "    x = []  \n",
    "    for i in range(righe):\n",
    "        righe = [] \n",
    "        for numero in range(i + 1): \n",
    "            righe.append(coeff_binom(i, numero))\n",
    "        x.append(righe)\n",
    "    return x\n",
    "\n",
    "\n",
    "for righe in Tartaglia(n):\n",
    "    print(righe)"
   ]
  },
  {
   "cell_type": "code",
   "execution_count": null,
   "metadata": {},
   "outputs": [],
   "source": [
    "#Scrivere i primi n elementi ( 𝑎𝑛 ) di una successione così definita:\n",
    "# 1) i primi tre elementi valgono 1, 7, 18.\n",
    "# 2) i successivi (i>=4) valgono  𝑎𝑛=𝑎𝑛−1+𝑎𝑛−3−𝑎𝑛−2+2\n",
    "\n",
    "n=int(input('Lunghezza successione: ' ))\n",
    "\n",
    "def a(n):\n",
    "    \n",
    "    a1=1\n",
    "    a2=7\n",
    "    a3=18  \n",
    "    \n",
    "    if n==1:\n",
    "        return a1\n",
    "    if n==2:\n",
    "        return a2\n",
    "    if n==3:\n",
    "        return a3\n",
    "    else:\n",
    "        return a(n-1)-a(n-2)+a(n-3)+2\n",
    "    \n",
    "print(a(n))"
   ]
  }
 ],
 "metadata": {
  "kernelspec": {
   "display_name": "Python 3",
   "language": "python",
   "name": "python3"
  },
  "language_info": {
   "codemirror_mode": {
    "name": "ipython",
    "version": 3
   },
   "file_extension": ".py",
   "mimetype": "text/x-python",
   "name": "python",
   "nbconvert_exporter": "python",
   "pygments_lexer": "ipython3",
   "version": "3.8.5"
  }
 },
 "nbformat": 4,
 "nbformat_minor": 4
}
