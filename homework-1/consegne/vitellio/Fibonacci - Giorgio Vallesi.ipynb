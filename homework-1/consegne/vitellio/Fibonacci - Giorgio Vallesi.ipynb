{
 "cells": [
  {
   "cell_type": "markdown",
   "metadata": {},
   "source": [
    "## FIBONACCI"
   ]
  },
  {
   "cell_type": "code",
   "execution_count": null,
   "metadata": {},
   "outputs": [],
   "source": [
    "n = input(\"Inserire la lunghezza desiderata\\n\")\n",
    "try:\n",
    "    n = int(n)\n",
    "    a =0\n",
    "    b =1\n",
    "    i =0\n",
    "    if n == 0:\n",
    "        print(\"Successione Vuota\")\n",
    "    else:\n",
    "         print(1)\n",
    "        \n",
    "        \n",
    "         while n!=1 and i<n-1:\n",
    "            q =b\n",
    "            b = a + b\n",
    "            a = q\n",
    "            i = i+1\n",
    "            print(b)\n",
    "        \n",
    "except:\n",
    "    print (\"Un numero intero per favore\")"
   ]
  },
  {
   "cell_type": "code",
   "execution_count": null,
   "metadata": {
    "jupyter": {
     "source_hidden": true
    }
   },
   "outputs": [],
   "source": []
  }
 ],
 "metadata": {
  "kernelspec": {
   "display_name": "Python 3",
   "language": "python",
   "name": "python3"
  },
  "language_info": {
   "codemirror_mode": {
    "name": "ipython",
    "version": 3
   },
   "file_extension": ".py",
   "mimetype": "text/x-python",
   "name": "python",
   "nbconvert_exporter": "python",
   "pygments_lexer": "ipython3",
   "version": "3.8.6"
  }
 },
 "nbformat": 4,
 "nbformat_minor": 4
}
