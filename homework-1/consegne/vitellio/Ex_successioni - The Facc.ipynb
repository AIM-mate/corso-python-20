{
  "nbformat": 4,
  "nbformat_minor": 0,
  "metadata": {
    "kernelspec": {
      "display_name": "Python 3",
      "language": "python",
      "name": "python3"
    },
    "language_info": {
      "codemirror_mode": {
        "name": "ipython",
        "version": 3
      },
      "file_extension": ".py",
      "mimetype": "text/x-python",
      "name": "python",
      "nbconvert_exporter": "python",
      "pygments_lexer": "ipython3",
      "version": "3.8.2"
    },
    "colab": {
      "name": "Ex successioni.ipynb",
      "provenance": []
    }
  },
  "cells": [
    {
      "cell_type": "markdown",
      "metadata": {
        "id": "k-KCAr6Ffcrf"
      },
      "source": [
        "### **Attenzione**!!\n",
        "Con questo assignment si può raggiungere un massimo di **2 punti**."
      ]
    },
    {
      "cell_type": "markdown",
      "metadata": {
        "id": "jYVrXjDXqNvF"
      },
      "source": [
        "# Successione di Fibonacci\n",
        "Stampa i primi n numeri della successione di Fibonacci."
      ]
    },
    {
      "cell_type": "code",
      "metadata": {
        "id": "A3WnP4ADqNvG",
        "outputId": "3c4ee754-7b38-470d-a185-687a8f261cbd",
        "colab": {
          "base_uri": "https://localhost:8080/"
        }
      },
      "source": [
        "n = 10\n",
        "x=1; y=1; v=[x,y]\n",
        "for i in range(1,n-1):\n",
        "  x,y = y,x+y\n",
        "  v.append(y)\n",
        "print(' '.join(str(x) for x in v))"
      ],
      "execution_count": 16,
      "outputs": [
        {
          "output_type": "stream",
          "text": [
            "1 1 2 3 5 8 13 21 34 55\n"
          ],
          "name": "stdout"
        }
      ]
    },
    {
      "cell_type": "markdown",
      "metadata": {
        "id": "vXYCD7uMqNvQ"
      },
      "source": [
        "# Un'altra successione\n",
        "Scrivere i primi n elementi ($a_n$) di una successione così definita: \n",
        "- i primi tre elementi valgono 1, 7, 18.\n",
        "- i successivi (i>=4) valgono \n",
        "$a_n = a_{n-1} + a_{n-3} - a_{n-2} + 2$\n",
        "\n",
        "\n",
        "Esempio: 1 7 18 14 5 11 22 18 9 15 26 22 13 19 30 \n"
      ]
    },
    {
      "cell_type": "code",
      "metadata": {
        "id": "Rut_-0RwqNvS",
        "outputId": "52cf32c1-f724-4531-da37-77dc7ed3e333",
        "colab": {
          "base_uri": "https://localhost:8080/"
        }
      },
      "source": [
        "n = 15\n",
        "x=1; y=7; z=18; v=[x,y,z]\n",
        "for i in range(1,n-2):\n",
        "  x,y,z = y,z,z+x-y+2\n",
        "  v.append(z)\n",
        "print(' '.join(str(x) for x in v))"
      ],
      "execution_count": 15,
      "outputs": [
        {
          "output_type": "stream",
          "text": [
            "1 7 18 14 5 11 22 18 9 15 26 22 13 19 30\n"
          ],
          "name": "stdout"
        }
      ]
    },
    {
      "cell_type": "markdown",
      "metadata": {
        "id": "WQ3aOVlhQ6AC"
      },
      "source": [
        "# Triangolo di Tartaglia\n",
        "Scrivere le prime n righe del triangolo di Tartaglia "
      ]
    },
    {
      "cell_type": "code",
      "metadata": {
        "id": "JbHtaV0jRNFQ",
        "outputId": "46ae62b9-ae0a-4dd8-9184-a239054253e6",
        "colab": {
          "base_uri": "https://localhost:8080/"
        }
      },
      "source": [
        "n = 10\n",
        "print([1])\n",
        "vp = [1,1]\n",
        "for j in range(1,n):\n",
        "  print(vp)\n",
        "  v = [1]\n",
        "  for t in range(1, len(vp)):\n",
        "      v.append(vp[t-1]+vp[t])\n",
        "  v.append(1)\n",
        "  vp = v"
      ],
      "execution_count": 21,
      "outputs": [
        {
          "output_type": "stream",
          "text": [
            "[1]\n",
            "[1, 1]\n",
            "[1, 2, 1]\n",
            "[1, 3, 3, 1]\n",
            "[1, 4, 6, 4, 1]\n",
            "[1, 5, 10, 10, 5, 1]\n",
            "[1, 6, 15, 20, 15, 6, 1]\n",
            "[1, 7, 21, 35, 35, 21, 7, 1]\n",
            "[1, 8, 28, 56, 70, 56, 28, 8, 1]\n",
            "[1, 9, 36, 84, 126, 126, 84, 36, 9, 1]\n"
          ],
          "name": "stdout"
        }
      ]
    }
  ]
}