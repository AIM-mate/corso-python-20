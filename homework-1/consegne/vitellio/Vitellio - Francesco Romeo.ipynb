{
 "cells": [
  {
   "cell_type": "code",
   "execution_count": null,
   "metadata": {},
   "outputs": [],
   "source": [
    "#esercizio1_Vitellio\n",
    "first=0\n",
    "second=1\n",
    "n=float(input(\"Inserisci un numero\"))\n",
    "i=0\n",
    "while i<n:\n",
    "    soluzione=first+second\n",
    "    print(second)\n",
    "    first=second\n",
    "    second=soluzione\n",
    "    i+=1"
   ]
  },
  {
   "cell_type": "code",
   "execution_count": null,
   "metadata": {},
   "outputs": [],
   "source": [
    "#esercizio2_Vitellio\n",
    "n=float(input(\"Inserisci un numero\"))\n",
    "a=list()\n",
    "a=[1,7,18]\n",
    "i=0\n",
    "while i<n:\n",
    "    if i<3:\n",
    "        print(a[i])\n",
    "    else:\n",
    "        a.append(a[i-1]+a[i-3]-a[i-2]+2)\n",
    "        print(a[i])\n",
    "    i+=1"
   ]
  },
  {
   "cell_type": "code",
   "execution_count": null,
   "metadata": {},
   "outputs": [],
   "source": [
    "#esercizio3_Vitellio\n",
    "n=10\n",
    "lista1=[1]\n",
    "for i in range(1,n+1):\n",
    "    if i==1:\n",
    "        print(lista1)\n",
    "    elif i==2:\n",
    "        lista1.append(1)\n",
    "        print(lista1)\n",
    "    else:\n",
    "        lista2=[1,1]\n",
    "        for j in range(1,i-1):\n",
    "            lista2.insert(j,lista1[j-1]+lista1[j])\n",
    "        print(lista2)\n",
    "        lista1=lista2"
   ]
  }
 ],
 "metadata": {
  "kernelspec": {
   "display_name": "Python 3",
   "language": "python",
   "name": "python3"
  },
  "language_info": {
   "codemirror_mode": {
    "name": "ipython",
    "version": 3
   },
   "file_extension": ".py",
   "mimetype": "text/x-python",
   "name": "python",
   "nbconvert_exporter": "python",
   "pygments_lexer": "ipython3",
   "version": "3.8.6"
  }
 },
 "nbformat": 4,
 "nbformat_minor": 4
}
