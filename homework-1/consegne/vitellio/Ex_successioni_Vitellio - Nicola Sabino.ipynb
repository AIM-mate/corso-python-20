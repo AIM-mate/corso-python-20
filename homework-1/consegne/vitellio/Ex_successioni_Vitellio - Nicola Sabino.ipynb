{
 "cells": [
  {
   "cell_type": "code",
   "execution_count": 38,
   "metadata": {},
   "outputs": [
    {
     "name": "stdout",
     "output_type": "stream",
     "text": [
      "Quanti numeri?: 15\n",
      "1 1 2 3 5 8 13 21 34 55 89 144 233 377 610 987 1597 "
     ]
    }
   ],
   "source": [
    "n=int(input('Quanti numeri?: ' ))\n",
    "a,b=1,1\n",
    "print(a,b,end=\" \")\n",
    "for i in range(n):\n",
    "    c=a+b\n",
    "    a=b\n",
    "    b=c\n",
    "    print(c, end=\" \")"
   ]
  },
  {
   "cell_type": "code",
   "execution_count": 41,
   "metadata": {},
   "outputs": [
    {
     "name": "stdout",
     "output_type": "stream",
     "text": [
      "quanti numeri? 15\n",
      "1 7 18 14 5 11 22 18 9 15 26 22 13 19 30 26 17 23 "
     ]
    }
   ],
   "source": [
    "a3=[1,7,18]\n",
    "i=4\n",
    "j=0\n",
    "n=int(input(\"Quanti numeri? \")) \n",
    "print(a3[0],a3[1],a3[2], end=\" \")\n",
    "for i in range(n):\n",
    "    a_i=a3[2]+a3[0]-a3[1]+2\n",
    "    a3[0]=a3[1]\n",
    "    a3[1]=a3[2]\n",
    "    a3[2]=a_i\n",
    "    print(a3[2], end=\" \")\n",
    "    i=i+1"
   ]
  },
  {
   "cell_type": "code",
   "execution_count": 1,
   "metadata": {},
   "outputs": [
    {
     "name": "stdout",
     "output_type": "stream",
     "text": [
      "Inserisci numero di righe 15\n",
      "[1]\n",
      "[1, 1]\n",
      "[1, 2, 1]\n",
      "[1, 3, 3, 1]\n",
      "[1, 4, 6, 4, 1]\n",
      "[1, 5, 10, 10, 5, 1]\n",
      "[1, 6, 15, 20, 15, 6, 1]\n",
      "[1, 7, 21, 35, 35, 21, 7, 1]\n",
      "[1, 8, 28, 56, 70, 56, 28, 8, 1]\n",
      "[1, 9, 36, 84, 126, 126, 84, 36, 9, 1]\n",
      "[1, 10, 45, 120, 210, 252, 210, 120, 45, 10, 1]\n",
      "[1, 11, 55, 165, 330, 462, 462, 330, 165, 55, 11, 1]\n",
      "[1, 12, 66, 220, 495, 792, 924, 792, 495, 220, 66, 12, 1]\n",
      "[1, 13, 78, 286, 715, 1287, 1716, 1716, 1287, 715, 286, 78, 13, 1]\n",
      "[1, 14, 91, 364, 1001, 2002, 3003, 3432, 3003, 2002, 1001, 364, 91, 14, 1]\n"
     ]
    }
   ],
   "source": [
    "tartaglia = [[1]]\n",
    "n = int(input(\"Inserisci numero di righe \"))\n",
    "print(tartaglia[0]) \n",
    "for i in range(1,n):\n",
    "    tartaglia.append([1]) \n",
    "    for j in range(len(tartaglia[i-1])-1):\n",
    "        tartaglia[i].append(tartaglia[i-1][j]+tartaglia[i-1][j+1])\n",
    "    tartaglia[i].append(1)\n",
    "    print(tartaglia[i])\n",
    "\n"
   ]
  },
  {
   "cell_type": "code",
   "execution_count": null,
   "metadata": {},
   "outputs": [],
   "source": []
  }
 ],
 "metadata": {
  "kernelspec": {
   "display_name": "Python 3",
   "language": "python",
   "name": "python3"
  },
  "language_info": {
   "codemirror_mode": {
    "name": "ipython",
    "version": 3
   },
   "file_extension": ".py",
   "mimetype": "text/x-python",
   "name": "python",
   "nbconvert_exporter": "python",
   "pygments_lexer": "ipython3",
   "version": "3.8.6"
  }
 },
 "nbformat": 4,
 "nbformat_minor": 4
}
