{
 "cells": [
  {
   "cell_type": "code",
   "execution_count": 1,
   "metadata": {},
   "outputs": [
    {
     "name": "stdout",
     "output_type": "stream",
     "text": [
      "1\n",
      "1\n",
      "2\n",
      "3\n",
      "5\n",
      "8\n",
      "13\n",
      "21\n",
      "34\n",
      "55\n"
     ]
    }
   ],
   "source": [
    "n= 10\n",
    "a= 1\n",
    "b=1\n",
    "i= 1\n",
    "print(a)\n",
    "print(b)\n",
    "while i<9:\n",
    "    c= a+b\n",
    "    print(c,)\n",
    "    i=i+1\n",
    "    a=b\n",
    "    b=c  "
   ]
  },
  {
   "cell_type": "code",
   "execution_count": 2,
   "metadata": {},
   "outputs": [
    {
     "name": "stdout",
     "output_type": "stream",
     "text": [
      "1\n",
      "7\n",
      "18\n",
      "14\n",
      "5\n",
      "11\n",
      "22\n",
      "18\n",
      "9\n",
      "15\n",
      "26\n",
      "22\n",
      "13\n",
      "19\n"
     ]
    }
   ],
   "source": [
    "a_3=1\n",
    "print(a_3)\n",
    "a_2= 7\n",
    "print(a_2)\n",
    "a_1= 18\n",
    "print(a_1)\n",
    "i=4\n",
    "while i<15:\n",
    "    a= a_1+a_3-a_2+2\n",
    "    print(a)\n",
    "    i=i+1\n",
    "    a_3=a_2\n",
    "    a_2=a_1\n",
    "    a_1=a"
   ]
  },
  {
   "cell_type": "code",
   "execution_count": null,
   "metadata": {},
   "outputs": [],
   "source": [
    "t= [1]\n",
    "print(t)\n",
    "i=2\n",
    "while i<=11:\n",
    "    v=list(range(i))\n",
    "    v[0]= t[0]\n",
    "    v[i-1]= t[i-2]\n",
    "    j=1\n",
    "    while j<i-1:\n",
    "        v[j]= t[j-1]+t[j]\n",
    "        j=j+1\n",
    "    i=i+1\n",
    "    print(v)\n",
    "    t=v"
   ]
  }
 ],
 "metadata": {
  "kernelspec": {
   "display_name": "Python 3",
   "language": "python",
   "name": "python3"
  },
  "language_info": {
   "codemirror_mode": {
    "name": "ipython",
    "version": 3
   },
   "file_extension": ".py",
   "mimetype": "text/x-python",
   "name": "python",
   "nbconvert_exporter": "python",
   "pygments_lexer": "ipython3",
   "version": "3.8.6"
  }
 },
 "nbformat": 4,
 "nbformat_minor": 4
}
