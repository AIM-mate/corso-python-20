{
 "cells": [
  {
   "cell_type": "code",
   "execution_count": 8,
   "metadata": {},
   "outputs": [
    {
     "name": "stdout",
     "output_type": "stream",
     "text": [
      "La siccessione di Fibonacci\n",
      " \n",
      "inserisci il numero di iterazioni: 5\n",
      "1\n",
      "1\n",
      "2\n",
      "3\n",
      "5\n"
     ]
    }
   ],
   "source": [
    "print(\"La siccessione di Fibonacci\\n \")\n",
    "a = int(input(\"inserisci il numero di iterazioni: \"))\n",
    "x =1\n",
    "y=1\n",
    "i=0\n",
    "while i < a:\n",
    "    print (x)\n",
    "    x,y = y,x+y\n",
    "    i +=1"
   ]
  },
  {
   "cell_type": "code",
   "execution_count": 45,
   "metadata": {},
   "outputs": [
    {
     "name": "stdout",
     "output_type": "stream",
     "text": [
      "Successione : \n",
      "Inserisci un numero positivo: 3\n",
      "1\n",
      "7\n",
      "18\n"
     ]
    }
   ],
   "source": [
    "print (\"Successione : \")\n",
    "a =  int(input(\"Inserisci un numero positivo: \"))\n",
    "while a <1:\n",
    "    a = int(input(\"Deve essere positivo!\"))\n",
    "i = 3\n",
    "x = 1\n",
    "y=7\n",
    "z= 18\n",
    "if a==1:\n",
    "    print (x)\n",
    "elif a==2:\n",
    "    print(x)\n",
    "    print(y)\n",
    "elif a ==3:\n",
    "    print(x)\n",
    "    print(y)\n",
    "    print(z)\n",
    "else:\n",
    "    print (x,\"\\n\",y,\"\\n\",z)\n",
    "    while i<a:\n",
    "        print(z+x-y+2)\n",
    "        x,y,z = y,z,z+x-y+2\n",
    "        i +=1\n"
   ]
  },
  {
   "cell_type": "code",
   "execution_count": 47,
   "metadata": {},
   "outputs": [
    {
     "name": "stdout",
     "output_type": "stream",
     "text": [
      "Triangolo di Tartaglia : \n",
      "Inserisci un numero positivo: 9\n",
      "[1]\n",
      "[1, 1]\n",
      "[1, 2, 1]\n",
      "[1, 3, 3, 1]\n",
      "[1, 4, 6, 4, 1]\n",
      "[1, 5, 10, 10, 5, 1]\n",
      "[1, 6, 15, 20, 15, 6, 1]\n",
      "[1, 7, 21, 35, 35, 21, 7, 1]\n",
      "[1, 8, 28, 56, 70, 56, 28, 8, 1]\n"
     ]
    }
   ],
   "source": [
    "print (\"Triangolo di Tartaglia : \")\n",
    "a =  int(input(\"Inserisci un numero positivo: \"))\n",
    "while a <1:\n",
    "    a = int(input(\"Deve essere positivo!\"))\n",
    "x = [1]\n",
    "y = [1,1]\n",
    "i=3\n",
    "if a == 1:\n",
    "    print (x)\n",
    "elif a ==2:\n",
    "    print (x)\n",
    "    print (y)\n",
    "else:\n",
    "    print (x)\n",
    "    print (y)\n",
    "    while i<=a:\n",
    "        z = y + [1]\n",
    "        if i%2 == 1:\n",
    "            n = 0\n",
    "            while n<(i-1)/2  :\n",
    "                z[n+1] = z[len(y)-n-1] = y[n]+y[n+1]\n",
    "                n +=1\n",
    "\n",
    "        else:\n",
    "            n = 0\n",
    "            while n<i/2 - 1:\n",
    "                z[n+1] = z[len(y)-n-1] = y[n]+y[n+1]\n",
    "                n +=1\n",
    "        y = z\n",
    "        print (z)\n",
    "        i+=1    "
   ]
  },
  {
   "cell_type": "code",
   "execution_count": null,
   "metadata": {},
   "outputs": [],
   "source": []
  }
 ],
 "metadata": {
  "kernelspec": {
   "display_name": "Python 3",
   "language": "python",
   "name": "python3"
  },
  "language_info": {
   "codemirror_mode": {
    "name": "ipython",
    "version": 3
   },
   "file_extension": ".py",
   "mimetype": "text/x-python",
   "name": "python",
   "nbconvert_exporter": "python",
   "pygments_lexer": "ipython3",
   "version": "3.8.6"
  }
 },
 "nbformat": 4,
 "nbformat_minor": 4
}
