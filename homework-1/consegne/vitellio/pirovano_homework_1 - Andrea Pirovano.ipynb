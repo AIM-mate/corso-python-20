{
 "cells": [
  {
   "cell_type": "code",
   "execution_count": 37,
   "metadata": {},
   "outputs": [
    {
     "name": "stdout",
     "output_type": "stream",
     "text": [
      "inserisci n: 1\n",
      "1\n"
     ]
    }
   ],
   "source": [
    "a = 1\n",
    "b = 1\n",
    "n = int(input(\"inserisci n: \"))\n",
    "if n<=0:\n",
    "    print(\"errore\")\n",
    "if n==1:\n",
    "    print(a)\n",
    "if n==2:\n",
    "    print(a)\n",
    "    print(b)\n",
    "if n>2:\n",
    "    print(a)\n",
    "    print(b)\n",
    "    for i in range(3,n+1):\n",
    "        c=a+b\n",
    "        a=b\n",
    "        b=c\n",
    "        print(c)"
   ]
  },
  {
   "cell_type": "code",
   "execution_count": 44,
   "metadata": {},
   "outputs": [
    {
     "name": "stdout",
     "output_type": "stream",
     "text": [
      "inserisci n: 15\n",
      "1\n",
      "7\n",
      "18\n",
      "14\n",
      "5\n",
      "11\n",
      "22\n",
      "18\n",
      "9\n",
      "15\n",
      "26\n",
      "22\n",
      "13\n",
      "19\n",
      "30\n"
     ]
    }
   ],
   "source": [
    "a = 1\n",
    "b = 7\n",
    "c = 18\n",
    "n = int(input(\"inserisci n: \"))\n",
    "if n<=0:\n",
    "    print(\"errore\")\n",
    "if n==1:\n",
    "    print(a)\n",
    "if n==2:\n",
    "    print(a)\n",
    "    print(b)\n",
    "if n==3:\n",
    "    print(a)\n",
    "    print(b)\n",
    "    print(c)\n",
    "if n>3:\n",
    "    print(a)\n",
    "    print(b)\n",
    "    print(c)\n",
    "    for i in range(4,n+1):\n",
    "        d=c+a-b+2\n",
    "        a=b\n",
    "        b=c\n",
    "        c=d\n",
    "        print(c)"
   ]
  },
  {
   "cell_type": "code",
   "execution_count": 4,
   "metadata": {},
   "outputs": [
    {
     "name": "stdout",
     "output_type": "stream",
     "text": [
      "inseisci n: 5\n",
      "[1]\n",
      "[1, 1]\n",
      "[1, 2, 1]\n",
      "[1, 3, 3, 1]\n",
      "[1, 4, 6, 4, 1]\n"
     ]
    }
   ],
   "source": [
    "n = int(input(\"inserisci n: \"))\n",
    "if n<=0:\n",
    "    print(\"errore\")\n",
    "if n==1:\n",
    "    print([1])\n",
    "if n>1:\n",
    "    print([1])\n",
    "    lis=[1, 1]\n",
    "    print(lis)\n",
    "    for i in range(1, n-1):\n",
    "        prossima_lis = [1]\n",
    "        for t in range(1, len(lis)):\n",
    "            prossima_lis.append(lis[t-1]+lis[t])\n",
    "        prossima_lis.append(1)\n",
    "        print(prossima_lis)\n",
    "        lis = prossima_lis"
   ]
  }
 ],
 "metadata": {
  "kernelspec": {
   "display_name": "Python 3",
   "language": "python",
   "name": "python3"
  },
  "language_info": {
   "codemirror_mode": {
    "name": "ipython",
    "version": 3
   },
   "file_extension": ".py",
   "mimetype": "text/x-python",
   "name": "python",
   "nbconvert_exporter": "python",
   "pygments_lexer": "ipython3",
   "version": "3.8.6"
  }
 },
 "nbformat": 4,
 "nbformat_minor": 4
}
