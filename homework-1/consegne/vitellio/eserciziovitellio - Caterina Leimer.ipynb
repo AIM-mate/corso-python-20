{
 "cells": [
  {
   "cell_type": "markdown",
   "metadata": {
    "id": "k-KCAr6Ffcrf"
   },
   "source": [
    "### **Attenzione**!!\n",
    "Con questo assignment si può raggiungere un massimo di **2 punti**."
   ]
  },
  {
   "cell_type": "markdown",
   "metadata": {
    "id": "jYVrXjDXqNvF"
   },
   "source": [
    "# Successione di Fibonacci\n",
    "Stampa i primi n numeri della successione di Fibonacci."
   ]
  },
  {
   "cell_type": "code",
   "execution_count": null,
   "metadata": {
    "id": "A3WnP4ADqNvG",
    "outputId": "592006c1-fb0d-434f-aa4d-d5de39cac5c0"
   },
   "outputs": [],
   "source": [
    "n = 10\n",
    "n0=1\n",
    "n1=1 \n",
    "\n",
    "for x in range(n-1) :\n",
    "    if x == 0 and n>=2 :\n",
    "        print(n0)\n",
    "        print(n1)\n",
    "    elif n < 2 : \n",
    "        print(n0)\n",
    "    else :\n",
    "        fib = n0 + n1\n",
    "        print(fib) \n",
    "        n0=n1 \n",
    "        n1=fib\n",
    "        \n",
    "        \n",
    "    \n"
   ]
  },
  {
   "cell_type": "markdown",
   "metadata": {
    "id": "vXYCD7uMqNvQ"
   },
   "source": [
    "# Un'altra successione\n",
    "Scrivere i primi n elementi ($a_n$) di una successione così definita: \n",
    "- i primi tre elementi valgono 1, 7, 18.\n",
    "- i successivi (i>=4) valgono \n",
    "$a_n = a_{n-1} + a_{n-3} - a_{n-2} + 2$\n",
    "\n",
    "\n",
    "Esempio: 1 7 18 14 5 11 22 18 9 15 26 22 13 19 30 \n"
   ]
  },
  {
   "cell_type": "code",
   "execution_count": null,
   "metadata": {
    "id": "Rut_-0RwqNvS",
    "outputId": "2a8b23aa-984d-4ab6-80ea-2f8b8bea0bab"
   },
   "outputs": [],
   "source": [
    "n = 15 \n",
    "n0 = 1\n",
    "n1 = 7\n",
    "n2 = 18 \n",
    "\n",
    "print(n0)\n",
    "print(n1)\n",
    "print(n2)\n",
    "\n",
    "for x in range(3,n) :\n",
    "    nn = n2 + n0 - n1 + 2\n",
    "    print(nn)\n",
    "    n0=n1\n",
    "    n1=n2\n",
    "    n2=nn\n",
    "\n",
    "    \n",
    "    \n",
    "    \n"
   ]
  },
  {
   "cell_type": "markdown",
   "metadata": {
    "id": "WQ3aOVlhQ6AC"
   },
   "source": [
    "# Triangolo di Tartaglia\n",
    "Scrivere le prime n righe del triangolo di Tartaglia "
   ]
  },
  {
   "cell_type": "code",
   "execution_count": null,
   "metadata": {
    "colab": {
     "base_uri": "https://localhost:8080/",
     "height": 202
    },
    "executionInfo": {
     "elapsed": 1180,
     "status": "ok",
     "timestamp": 1601911139047,
     "user": {
      "displayName": "Corso Python",
      "photoUrl": "https://lh3.googleusercontent.com/a-/AOh14GhUJnZlNXXV-eAoMnBindJd9r8g8VQoai18e-XA=s64",
      "userId": "02320948615677398231"
     },
     "user_tz": -120
    },
    "id": "JbHtaV0jRNFQ",
    "outputId": "810de275-e6fe-4cf1-9abf-d67df5b18ecb"
   },
   "outputs": [],
   "source": [
    "n = 6\n",
    "l0 = [1]\n",
    "l2 = [1,1]\n",
    "l3 = [1,2,1]\n",
    "\n",
    "print(l0) \n",
    "print(l2)\n",
    "print(l3)\n",
    "\n",
    "for x in range(n) :\n",
    "    \n",
    "    s=l3[:]\n",
    "    a = len(l3)\n",
    "    cont = 0;\n",
    "    \n",
    "    for j in range(a) :\n",
    "       \n",
    "        if j < len(l3)-1 and j!= 0 :\n",
    "            l3[j] = s[j-1] + s[j] \n",
    "            \n",
    "            \n",
    "        elif j == len(l3)-1 : \n",
    "            \n",
    "            while cont < 2 :\n",
    "                \n",
    "                if cont == 0 :\n",
    "                    l3[j] = s[j-1] + s[j] \n",
    "                    cont= cont +1 \n",
    "                elif cont ==1 :\n",
    "                    l3.append(1) \n",
    "            \n",
    "        elif j == 0 :\n",
    "            l3[j] = 1 \n",
    "            \n",
    "    print(l3)\n",
    "   \n"
   ]
  },
  {
   "cell_type": "code",
   "execution_count": null,
   "metadata": {},
   "outputs": [],
   "source": [
    "\n",
    "   "
   ]
  },
  {
   "cell_type": "code",
   "execution_count": null,
   "metadata": {},
   "outputs": [],
   "source": []
  },
  {
   "cell_type": "code",
   "execution_count": null,
   "metadata": {},
   "outputs": [],
   "source": []
  },
  {
   "cell_type": "code",
   "execution_count": null,
   "metadata": {},
   "outputs": [],
   "source": []
  },
  {
   "cell_type": "code",
   "execution_count": null,
   "metadata": {},
   "outputs": [],
   "source": []
  },
  {
   "cell_type": "code",
   "execution_count": null,
   "metadata": {},
   "outputs": [],
   "source": []
  }
 ],
 "metadata": {
  "colab": {
   "name": "Ex successioni.ipynb",
   "provenance": []
  },
  "kernelspec": {
   "display_name": "Python 3",
   "language": "python",
   "name": "python3"
  },
  "language_info": {
   "codemirror_mode": {
    "name": "ipython",
    "version": 3
   },
   "file_extension": ".py",
   "mimetype": "text/x-python",
   "name": "python",
   "nbconvert_exporter": "python",
   "pygments_lexer": "ipython3",
   "version": "3.9.0"
  }
 },
 "nbformat": 4,
 "nbformat_minor": 4
}
