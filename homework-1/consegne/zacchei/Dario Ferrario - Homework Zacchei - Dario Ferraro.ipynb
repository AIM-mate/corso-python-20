{
 "cells": [
  {
   "cell_type": "code",
   "execution_count": 2,
   "metadata": {
    "id": "jkJRkd_CPi8g",
    "outputId": "59de0c0e-bd29-4d8b-a954-c3a784a22acb",
    "scrolled": true
   },
   "outputs": [
    {
     "name": "stdout",
     "output_type": "stream",
     "text": [
      "[12, 11, 13, 5, 6]\n",
      "Sorted array is:\n",
      "[5, 6, 11, 12, 13]\n"
     ]
    }
   ],
   "source": [
    "\"\"\"Insertion Sort\"\"\"\n",
    "\n",
    "def insertionSort(arr):\n",
    "    for i in range(1, len(arr)):\n",
    "        key = arr[i] #Valore da confrontare\n",
    "        j = i-1 #Inizio il confronto dal valore prima\n",
    "        while j >= 0 and key < arr[j]: #Porto indietro nell'arr key finché il valore prima non è più piccolo\n",
    "            arr[j+1] = arr[j]\n",
    "            j = j - 1\n",
    "        \n",
    "        arr[j+1] = key\n",
    "    \n",
    "    return arr\n",
    "\n",
    "arr = [12, 11, 13, 5, 6] \n",
    "print(arr)\n",
    "print (\"Sorted array is:\") \n",
    "print(insertionSort(arr))"
   ]
  },
  {
   "cell_type": "code",
   "execution_count": 3,
   "metadata": {
    "id": "ZYuVwzPYPi8v"
   },
   "outputs": [
    {
     "name": "stdout",
     "output_type": "stream",
     "text": [
      "[64, 34, 25, 12, 22, 11, 90]\n",
      "Sorted array is:\n",
      "[11, 12, 22, 25, 34, 64, 90]\n"
     ]
    }
   ],
   "source": [
    "\"\"\"Bubble Sort\"\"\"\n",
    "\n",
    "def bubbleSort(ar):\n",
    "    n = len(arr)\n",
    "    for i in range(n):\n",
    "        for j in range(0, n-i-1): #j è tra 0 e n-i-1 perché prima di i gli elementi sono già stati ordinati\n",
    "            if ar[j] > ar[j+1]:\n",
    "                ar[j], ar[j+1] = ar[j+1], ar[j] #Scambio dei valori se quello prima è più grande di quello dopo\n",
    "        \n",
    "    return arr\n",
    "\n",
    "arr = [64, 34, 25, 12, 22, 11, 90] \n",
    "print(arr)\n",
    "print(\"Sorted array is:\") \n",
    "print(bubbleSort(arr))"
   ]
  }
 ],
 "metadata": {
  "colab": {
   "collapsed_sections": [],
   "name": "Sorting Algorithm Exercise.ipynb",
   "provenance": []
  },
  "kernelspec": {
   "display_name": "Python 3",
   "language": "python",
   "name": "python3"
  },
  "language_info": {
   "codemirror_mode": {
    "name": "ipython",
    "version": 3
   },
   "file_extension": ".py",
   "mimetype": "text/x-python",
   "name": "python",
   "nbconvert_exporter": "python",
   "pygments_lexer": "ipython3",
   "version": "3.8.5"
  }
 },
 "nbformat": 4,
 "nbformat_minor": 1
}
