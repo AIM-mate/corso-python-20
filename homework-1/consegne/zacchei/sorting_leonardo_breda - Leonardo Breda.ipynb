{
 "cells": [
  {
   "cell_type": "code",
   "execution_count": 27,
   "metadata": {},
   "outputs": [
    {
     "data": {
      "text/plain": [
       "[-20, -4, 0, 0, 1, 3, 8, 15]"
      ]
     },
     "execution_count": 27,
     "metadata": {},
     "output_type": "execute_result"
    }
   ],
   "source": [
    "#BUBBLE SORT\n",
    "lista=[3,15,-4,0,1,0,8,-20]\n",
    "scambio = True\n",
    "while scambio:\n",
    "    scambio = False\n",
    "    for i in range(len(lista) -1):\n",
    "        if lista[i]>lista[i+1]:\n",
    "            lista[i],lista[i+1]=lista[i+1],lista[i]\n",
    "            scambio=True\n",
    "            \n",
    "lista"
   ]
  },
  {
   "cell_type": "code",
   "execution_count": 31,
   "metadata": {},
   "outputs": [
    {
     "data": {
      "text/plain": [
       "[-20, -4, 0, 0, 1, 3, 8, 15]"
      ]
     },
     "execution_count": 31,
     "metadata": {},
     "output_type": "execute_result"
    }
   ],
   "source": [
    "#INSERT SORT\n",
    "lista=[3,15,-4,0,1,0,8,-20]\n",
    "for i in range(1,len(lista)):\n",
    "    key=lista[i]\n",
    "    j=i-1\n",
    "    while j>=0 and lista[j]>key:\n",
    "        lista[j+1]=lista[j]\n",
    "        j=j-1\n",
    "    lista[j+1]=key\n",
    "\n",
    "lista"
   ]
  },
  {
   "cell_type": "code",
   "execution_count": 44,
   "metadata": {},
   "outputs": [
    {
     "data": {
      "text/plain": [
       "[-20, -4, 0, 0, 1, 3, 5, 6, 8, 15]"
      ]
     },
     "execution_count": 44,
     "metadata": {},
     "output_type": "execute_result"
    }
   ],
   "source": [
    "#MERGE SORT\n",
    "lista=[3,15,-4,0,1,0,8,-20,5,6]\n",
    "def merge_sort(values): \n",
    "    if len(values)==0 or len(values)==1:\n",
    "        return values\n",
    "    else:\n",
    "        sx = merge_sort(values[0:int((len(values)+1)/2)]) #parte sx\n",
    "        dx = merge_sort(values[int((len(values)+1)/2):len(values)]) #parte dx\n",
    "        values =[] \n",
    "        while len(sx)>0 and len(dx)>0: \n",
    "            if sx[0]<dx[0]: \n",
    "                values.append(sx[0]) \n",
    "                sx.pop(0) \n",
    "            else: \n",
    "                values.append(dx[0]) \n",
    "                dx.pop(0) \n",
    "        for i in sx: \n",
    "            values.append(i) \n",
    "        for i in dx: \n",
    "            values.append(i) \n",
    "    return values\n",
    "lista=merge_sort(lista)\n",
    "lista"
   ]
  },
  {
   "cell_type": "code",
   "execution_count": 36,
   "metadata": {},
   "outputs": [
    {
     "data": {
      "text/plain": [
       "[3, 15, -4, 0, 1, 0, 8, -20, 5, 4444, 3333]"
      ]
     },
     "execution_count": 36,
     "metadata": {},
     "output_type": "execute_result"
    }
   ],
   "source": []
  },
  {
   "cell_type": "code",
   "execution_count": null,
   "metadata": {},
   "outputs": [],
   "source": []
  }
 ],
 "metadata": {
  "kernelspec": {
   "display_name": "Python 3",
   "language": "python",
   "name": "python3"
  },
  "language_info": {
   "codemirror_mode": {
    "name": "ipython",
    "version": 3
   },
   "file_extension": ".py",
   "mimetype": "text/x-python",
   "name": "python",
   "nbconvert_exporter": "python",
   "pygments_lexer": "ipython3",
   "version": "3.8.5"
  }
 },
 "nbformat": 4,
 "nbformat_minor": 4
}
