{
 "cells": [
  {
   "cell_type": "code",
   "execution_count": 29,
   "metadata": {},
   "outputs": [
    {
     "name": "stdout",
     "output_type": "stream",
     "text": [
      "[12, 11, 13, 5, 6]\n",
      "Sorted array is:\n",
      "[5, 6, 11, 12, 13]\n"
     ]
    }
   ],
   "source": [
    "# Function to do insertion sort \n",
    "def insertionSort(arr): \n",
    "  \n",
    "    # Traverse through 1 to len(arr) \n",
    "    for i in range(1,len(arr)) : \n",
    "  \n",
    "        key = arr[i]              #pick key element\n",
    "  \n",
    "        # Move elements of arr[0..i-1], that are \n",
    "        # greater than key, to one position ahead \n",
    "        # of their current position \n",
    "        j = i-1\n",
    "        \n",
    "        while j >=0 and  arr[j]>key: \n",
    "                arr[j+1] = arr[j]            #move element one position ahead\n",
    "                j = j-1           #update j\n",
    "                \n",
    "        arr[j+1] = key \n",
    "        \n",
    "    return arr\n",
    "  \n",
    "  \n",
    "# Driver code to test above \n",
    "arr = [12, 11, 13, 5, 6] \n",
    "print(arr)\n",
    "print (\"Sorted array is:\") \n",
    "print(insertionSort(arr))"
   ]
  },
  {
   "cell_type": "code",
   "execution_count": 17,
   "metadata": {},
   "outputs": [],
   "source": [
    "# Function to do bubble sort \n",
    "\n",
    "def control(arr):\n",
    "    n = len(arr)\n",
    "    x = 0\n",
    "    i = 0\n",
    "    while x == 0 and i < n-1:\n",
    "        if arr[i] > arr[i+1]:\n",
    "            x = 1\n",
    "        i += 1\n",
    "    return x\n",
    "\n",
    "\n",
    "def bubbleSort(arr):\n",
    "    n = len(arr)\n",
    "    x = control(arr)\n",
    "    while x == 1:\n",
    "        for i in range(1,n):\n",
    "            if arr[i-1] > arr[i]:\n",
    "                v = arr[i-1]\n",
    "                arr[i-1] = arr[i]\n",
    "                arr[i] = v\n",
    "        x = control(arr) \n",
    "    return arr"
   ]
  },
  {
   "cell_type": "code",
   "execution_count": 18,
   "metadata": {},
   "outputs": [
    {
     "name": "stdout",
     "output_type": "stream",
     "text": [
      "il vettore ordinato con Bubble Sort e':\n",
      "\n",
      "[11, 12, 22, 25, 34, 64, 90]\n"
     ]
    }
   ],
   "source": [
    "arr = [64, 34, 25, 12, 22, 11, 90]\n",
    "print(\"il vettore ordinato con Bubble Sort e':\\n\")\n",
    "print(bubbleSort(arr))"
   ]
  },
  {
   "cell_type": "code",
   "execution_count": null,
   "metadata": {},
   "outputs": [],
   "source": []
  }
 ],
 "metadata": {
  "kernelspec": {
   "display_name": "Python 3",
   "language": "python",
   "name": "python3"
  },
  "language_info": {
   "codemirror_mode": {
    "name": "ipython",
    "version": 3
   },
   "file_extension": ".py",
   "mimetype": "text/x-python",
   "name": "python",
   "nbconvert_exporter": "python",
   "pygments_lexer": "ipython3",
   "version": "3.8.3"
  }
 },
 "nbformat": 4,
 "nbformat_minor": 4
}
