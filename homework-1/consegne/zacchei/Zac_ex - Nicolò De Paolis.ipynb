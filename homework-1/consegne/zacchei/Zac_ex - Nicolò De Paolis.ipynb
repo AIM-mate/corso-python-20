{
 "cells": [
  {
   "cell_type": "markdown",
   "metadata": {
    "id": "BgD21e6UPi8E"
   },
   "source": [
    "# Sorting Algorithms\n",
    "\n",
    "*Per visualizzare le gif (che mostrano gli algoritmi al'opera) scaricate la cartella con le immagini, dopodiche' lanciatevi jupyter notebook/lab*\n",
    "\n",
    "\n",
    "\n",
    "Un algoritmo di ordinamento e' un algoritmo basato su una serie di istruzioni che prende un array (spesso una lista) come input, vi performa specifiche operazioni, e restituisce un array ordinato seguendo una relazione di ordine richiesta. Gli algoritmi di ordinamento sono spesso insegnati nelle prime lezioni di computer science in quanto forniscono una via molto intuitiva per introdurre altri argomenti chiave come la *Big-O Notation*, metodi *Divide-and-Conquer*, e strutture dati come *Binary Trees* e *Heaps*. In questo notebook cercheremo di costruire alcuni tipo di algoritmi di ordinamento che restituiscano una lista di numeri ordinata in ordine crescente.\n",
    "\n",
    "\n",
    "\n",
    "\n",
    "\n",
    "\n"
   ]
  },
  {
   "cell_type": "markdown",
   "metadata": {
    "id": "kJ-TT1EKPi8I"
   },
   "source": [
    "## Esempio: Selection Sort\n",
    "\n",
    "Questo algoritmo segmenta l'elenco in due parti: ordinato e non ordinato. Rimuoviamo continuamente l'elemento più piccolo del segmento non ordinato dell'elenco e lo accodiamo al segmento ordinato. \n",
    "\n",
    "In questa cella potete anche vedere la sintassi di una funzione in Python. Una funzione è un blocco di codice che viene eseguito solo quando viene chiamata. È possibile passare dati, noti come parametri, in una funzione. Una funzione può restituire dati come risultato. Se avete dubbi: https://www.w3schools.com/python/python_functions.asp"
   ]
  },
  {
   "cell_type": "code",
   "execution_count": null,
   "metadata": {
    "id": "SHx1gJdhPi8L",
    "outputId": "952caa8b-13ea-4cc8-82d6-07693a3a1996"
   },
   "outputs": [
    {
     "name": "stdout",
     "output_type": "stream",
     "text": [
      "[12, 8, 3, 20, 11]\n",
      "[3, 8, 11, 12, 20]\n"
     ]
    }
   ],
   "source": [
    "def selection_sort(nums):\n",
    "    # This value of i corresponds to how many values were sorted\n",
    "    for i in range(len(nums)):\n",
    "        # We assume that the first item of the unsorted segment is the smallest\n",
    "        lowest_value_index = i\n",
    "        # This loop iterates over the unsorted items\n",
    "        for j in range(i + 1, len(nums)):\n",
    "            if nums[j] < nums[lowest_value_index]:\n",
    "                lowest_value_index = j\n",
    "        # Swap values of the lowest unsorted element with the first unsorted\n",
    "        # element\n",
    "        nums[i], nums[lowest_value_index] = nums[lowest_value_index], nums[i]\n",
    "\n",
    "\n",
    "# Verify it works\n",
    "random_list_of_nums = [12, 8, 3, 20, 11]\n",
    "print(random_list_of_nums)\n",
    "selection_sort(random_list_of_nums)\n",
    "print(random_list_of_nums)"
   ]
  },
  {
   "cell_type": "markdown",
   "metadata": {
    "id": "F83h0WWyPi8e"
   },
   "source": [
    "## Insertion Sort\n",
    "L'Insertion sort, in italiano ordinamento a inserimento, è un algoritmo relativamente semplice per ordinare un array. Non è molto diverso dal modo in cui un essere umano, spesso, ordina un mazzo di carte. Esso è un algoritmo in place, cioè ordina l'array senza doverne creare una copia, risparmiando memoria. Pur essendo molto meno efficiente di algoritmi più avanzati, può avere alcuni vantaggi: ad esempio, è semplice da implementare ed è efficiente per insiemi di partenza che sono quasi ordinati. \n",
    "\n",
    "Schema:\n",
    "\n",
    "\n",
    "Per ordinare un array di dimensione n in ordine crescente:\n",
    "- Itera da arr [1] a arr [n] sull'array.\n",
    "- Confronta l'elemento corrente (chiave) con il suo predecessore.\n",
    "- se l'elemento chiave è più piccolo del suo predecessore, confrontalo con gli elementi precedenti. Spostare gli elementi maggiori di una posizione verso l'alto per fare spazio per l'elemento scambiato.\n",
    "\n",
    "![SegmentLocal](Insertion-sort-example-300px.gif \"segment\")\n",
    "\n",
    "Esempio visivo:\n",
    "\n",
    "![SegmentLocal](Insertion_sort_animation.gif \"segment\")"
   ]
  },
  {
   "cell_type": "code",
   "execution_count": 1,
   "metadata": {
    "id": "jkJRkd_CPi8g",
    "outputId": "59de0c0e-bd29-4d8b-a954-c3a784a22acb"
   },
   "outputs": [
    {
     "name": "stdout",
     "output_type": "stream",
     "text": [
      "[12, 11, 13, 5, 6]\n",
      "Sorted array is:\n",
      "[5, 6, 11, 12, 13]\n"
     ]
    }
   ],
   "source": [
    "# Python program for implementation of Insertion Sort \n",
    "  \n",
    "# Function to do insertion sort \n",
    "def insertionSort(arr): \n",
    "  \n",
    "    # Traverse through 1 to len(arr) \n",
    "    for i in range(1,len(arr)): \n",
    "  \n",
    "        key_element = arr[i]              #pick key element\n",
    "  \n",
    "        # Move elements of arr[0..i-1], that are \n",
    "        # greater than key, to one position ahead \n",
    "        # of their current position \n",
    "        j = i-1; \n",
    "        \n",
    "        while j >=0 and arr[j]>key_element : \n",
    "                arr[j+1]=arr[j]                  #move element one position ahead\n",
    "                j=j-1             #update j\n",
    "                \n",
    "        arr[j+1] = key_element \n",
    "        \n",
    "    return arr\n",
    "  \n",
    "  \n",
    "# Driver code to test above \n",
    "arr = [12, 11, 13, 5, 6] \n",
    "print(arr)\n",
    "print (\"Sorted array is:\") \n",
    "print(insertionSort(arr))"
   ]
  },
  {
   "cell_type": "markdown",
   "metadata": {
    "id": "RSbrRgrtPi8t"
   },
   "source": [
    "## Bubble Sort\n",
    "\n",
    "Il Bubble sort o ordinamento a bolla è un semplice algoritmo di ordinamento di una lista di dati. Ogni coppia di elementi adiacenti viene comparata e invertita di posizione se sono nell'ordine sbagliato. L'algoritmo continua nuovamente a ri-eseguire questi passaggi per tutta la lista finché non vengono più eseguiti scambi, situazione che indica che la lista è ordinata.\n",
    "\n",
    "### Step-by-step example\n",
    "\n",
    "Prendi un array di numeri \"5 1 4 2 8\" e ordina l'array dal numero più basso al numero più grande utilizzando il bubble sort. In ogni fase vengono confrontati gli elementi scritti in grassetto. Saranno necessari tre passaggi;\n",
    "\n",
    "Primo passaggio\n",
    "\n",
    "   \n",
    "\n",
    ">  ( **5 1** 4 2 8 ) → ( **1 5** 4 2 8 ),  Qui, l'algoritmo compara i primi due elementi, e li inverte dato che 5 > 1.\n",
    "\n",
    "\n",
    "> ( 1 **5 4** 2 8 ) → ( 1 **4 5** 2 8 ),  Swap  (5 > 4)\n",
    "\n",
    "> ( 1 4 **5 2** 8 ) → ( 1 4 **2 5** 8 ),  Swap  (5 > 2)\n",
    "\n",
    "> ( 1 4 2 **5 8** ) → ( 1 4 2 **5 8** ),  dato che gli elementi sono gia' in ordine (8>5), nessuno swap.\n",
    "\n",
    "    \n",
    "Secondo passaggio\n",
    "\n",
    "\n",
    "> ( **1 4** 2 5 8 ) → ( **1 4** 2 5 8 )\n",
    "\n",
    "> ( 1 **4 2** 5 8 ) → ( 1 **2 4** 5 8 ), Swap (4 > 2)\n",
    "\n",
    "> ( 1 2 **4 5** 8 ) → ( 1 2 **4 5** 8 )\n",
    "\n",
    "> ( 1 2 4 **5 8** ) → ( 1 2 4 **5 8** )\n",
    "\n",
    "Ora, l'array è già ordinato, ma l'algoritmo non sa se è stato completato. L'algoritmo necessita di un intero passaggio senza alcuno scambio per sapere che è ordinato.\n",
    "\n",
    "Terzo passaggio\n",
    "\n",
    "> ( **1 2** 4 5 8 ) → ( **1 2** 4 5 8 )\n",
    "\n",
    "> ( 1 **2 4** 5 8 ) → ( 1 **2 4** 5 8 )\n",
    "\n",
    "> ( 1 2 **4 5** 8 ) → ( 1 2 **4 5** 8 )\n",
    "\n",
    "> ( 1 2 4 **5 8** ) → ( 1 2 4 **5 8** )\n",
    "    \n",
    "    \n",
    "![SegmentLocal](Bubble-sort-example-300px.gif \"segment\")\n",
    "\n",
    "Esempio visivo:\n",
    "\n",
    "![SegmentLocal](Sorting_bubblesort_anim.gif \"segment\")\n"
   ]
  },
  {
   "cell_type": "markdown",
   "metadata": {
    "id": "9LbLBR76vcKM"
   },
   "source": []
  },
  {
   "cell_type": "code",
   "execution_count": 15,
   "metadata": {
    "id": "ZYuVwzPYPi8v"
   },
   "outputs": [
    {
     "name": "stdout",
     "output_type": "stream",
     "text": [
      "[64, 34, 25, 12, 22, 11, 90]\n",
      "Sorted array is:\n",
      "64 34\n",
      "64 25\n",
      "64 12\n",
      "64 22\n",
      "64 11\n",
      "34 25\n",
      "34 12\n",
      "34 22\n",
      "34 11\n",
      "25 12\n",
      "25 22\n",
      "25 11\n",
      "22 11\n",
      "12 11\n",
      "[11, 12, 22, 25, 34, 64, 90]\n"
     ]
    }
   ],
   "source": [
    "  \n",
    "def bubbleSort(arr): \n",
    "    n = len(arr) \n",
    "  \n",
    "    # Traverse through all array elements \n",
    "    for i in range(n) :\n",
    "    \n",
    "  \n",
    "        # Last i elements are already in place \n",
    "        for j in range(n-i-1) :\n",
    "  \n",
    "            # traverse the array from 0 to n-i-1 \n",
    "            # Swap if the element found is greater \n",
    "            # than the next element \n",
    "            if arr[j]>arr[j+1] : \n",
    "                print(arr[j],arr[j+1])\n",
    "                arr[j],arr[j+1] = arr[j+1],arr[j]                    #swap\n",
    "            \n",
    "    return arr\n",
    "  \n",
    "# Driver code to test above \n",
    "arr = [64, 34, 25, 12, 22, 11, 90] \n",
    "\n",
    "print(arr)\n",
    "print (\"Sorted array is:\") \n",
    "print(bubbleSort(arr))"
   ]
  },
  {
   "cell_type": "markdown",
   "metadata": {
    "id": "PV_JlrcWPi87"
   },
   "source": [
    "## Per i piu' coraggiosi"
   ]
  },
  {
   "cell_type": "markdown",
   "metadata": {
    "id": "N5384Cg4Pi88"
   },
   "source": [
    "Nel prossimo esercizio avrete bisogno della ricorsione, ossia di una funzione che chiama se stessa al suo interno. \n",
    "\n"
   ]
  },
  {
   "cell_type": "markdown",
   "metadata": {
    "id": "o--at82jPi8-"
   },
   "source": [
    "\n",
    "\n",
    "\n",
    "\n",
    "## Merge Sort\n",
    "\n",
    "Il merge sort è un algoritmo di ordinamento basato su confronti che utilizza un processo di risoluzione ricorsivo, sfruttando la tecnica del Divide et Impera, che consiste nella suddivisione del problema in sottoproblemi della stessa natura di dimensione via via più piccola. \n",
    "\n",
    "Concettualmente, l'algoritmo funziona nel seguente modo:\n",
    "- Se la sequenza da ordinare ha lunghezza 0 oppure 1, è già ordinata. Altrimenti:\n",
    "- La sequenza viene divisa (divide) in due metà (se la sequenza contiene un numero dispari di elementi, viene divisa in due sottosequenze di cui la prima ha un elemento in più della seconda)\n",
    "- Ognuna di queste sottosequenze viene ordinata, applicando ricorsivamente l'algoritmo (impera)\n",
    "- Le due sottosequenze ordinate vengono fuse (combina). Per fare questo, si estrae ripetutamente il minimo delle due sottosequenze e lo si pone nella sequenza in uscita, che risulterà ordinata\n",
    "\n",
    "![SegmentLocal](Merge_sort_algorithm_diagram2.jpg \"segment\")\n",
    "\n",
    "Esempio visivo:\n",
    "\n",
    "![SegmentLocal](Merge_sort_animation2.gif \"segment\")"
   ]
  },
  {
   "cell_type": "code",
   "execution_count": 79,
   "metadata": {
    "id": "4IyShujLPi8_"
   },
   "outputs": [
    {
     "name": "stdout",
     "output_type": "stream",
     "text": [
      "Given array is\n",
      "[12, 11, 13, 5, 6, 7]\n",
      "[12, 11, 13]\n",
      "[5, 6, 7]\n",
      "[12, 11]\n",
      "[13]\n",
      "[12]\n",
      "[11]\n",
      "passo 1\n",
      "[12]\n",
      "passo 1\n",
      "[11]\n",
      "passo 1\n",
      "[13]\n",
      "[5, 6]\n",
      "[7]\n",
      "[5]\n",
      "[6]\n",
      "passo 1\n",
      "[5]\n",
      "passo 1\n",
      "[6]\n",
      "passo 1\n",
      "[7]\n",
      "Sorted array is : \n",
      "[5, 6, 7, 11, 12, 13]\n"
     ]
    }
   ],
   "source": [
    "# Python program for implementation of  \n",
    "# MergeSort  \n",
    "  \n",
    "def merge_sort(values): \n",
    "    n = len(values)  \n",
    "    #your code goes here \n",
    "    if n == 0 or n == 1:\n",
    "        print(\"passo 1\")\n",
    "        print(values)\n",
    "        return values\n",
    "    else :\n",
    "        a1=values[0:n//2+n%2]\n",
    "        print(a1)\n",
    "        a2=values[n//2+n%2:n]\n",
    "        print(a2)\n",
    "        values1 = merge_sort(a1)\n",
    "        values2 = merge_sort(a2)\n",
    "        result=[];\n",
    "        i ,j = 0, 0\n",
    "        while i < len(values1) and j < len(values2):\n",
    "            if values1[i] <= values2[j]:\n",
    "                result.append(values1[i])\n",
    "                i += 1\n",
    "            else:\n",
    "                result.append(values2[j])\n",
    "                j += 1\n",
    "        result += values1[i:]\n",
    "        result += values2[j:]\n",
    "        values=result    \n",
    "         \n",
    "    return values \n",
    "  \n",
    "# Input list \n",
    "a = [12, 11, 13, 5, 6, 7] \n",
    "print(\"Given array is\") \n",
    "print(a) \n",
    "  \n",
    "a = merge_sort(a) \n",
    "  \n",
    "# Print output \n",
    "print(\"Sorted array is : \") \n",
    "print(a) "
   ]
  },
  {
   "cell_type": "code",
   "execution_count": null,
   "metadata": {},
   "outputs": [],
   "source": []
  }
 ],
 "metadata": {
  "colab": {
   "collapsed_sections": [],
   "name": "Sorting Algorithm Exercise.ipynb",
   "provenance": []
  },
  "kernelspec": {
   "display_name": "Python 3",
   "language": "python",
   "name": "python3"
  },
  "language_info": {
   "codemirror_mode": {
    "name": "ipython",
    "version": 3
   },
   "file_extension": ".py",
   "mimetype": "text/x-python",
   "name": "python",
   "nbconvert_exporter": "python",
   "pygments_lexer": "ipython3",
   "version": "3.8.6"
  }
 },
 "nbformat": 4,
 "nbformat_minor": 1
}
