{
 "cells": [
  {
   "cell_type": "markdown",
   "metadata": {},
   "source": [
    "# Sorting Algorithms\n",
    "\n",
    "Un algoritmo di ordinamento e' un algoritmo basato su una serie di istruzioni che prende un array (spesso una lista) come input, vi performa specifiche operazioni,, e restituisce un array ordinato seguendo una relazione di ordine richiesta. Gli algoritmi di ordinamento sono spesso insegnati nelle prime lezioni di computer science in quanto forniscono una vi molto intuitiva per introdurre altri argomenti chiave come la *Big-O Notation*, metodi *Divide-and-Conquer*, e strutture dati come *Binary Trees* e *Heaps*. In questo notebook cercheremo di costruire alcuni tipo di algoritmi di ordinamento che restituiscano una lista di numeri ordinata in ordine crescente.\n",
    "\n",
    "\n",
    "\n",
    "\n",
    "\n",
    "\n"
   ]
  },
  {
   "cell_type": "markdown",
   "metadata": {},
   "source": [
    "## Insertion Sort\n",
    "L'Insertion sort, in italiano ordinamento a inserimento, è un algoritmo relativamente semplice per ordinare un array. Non è molto diverso dal modo in cui un essere umano, spesso, ordina un mazzo di carte. Esso è un algoritmo in place, cioè ordina l'array senza doverne creare una copia, risparmiando memoria. Pur essendo molto meno efficiente di algoritmi più avanzati, può avere alcuni vantaggi: ad esempio, è semplice da implementare ed è efficiente per insiemi di partenza che sono quasi ordinati. \n",
    "\n",
    "Schema:\n",
    "\n",
    "\n",
    "Per ordinare un array di dimensione n in ordine crescente:\n",
    "- Itera da arr [1] a arr [n] sull'array.\n",
    "- Confronta l'elemento corrente (chiave) con il suo predecessore.\n",
    "- se l'elemento chiave è più piccolo del suo predecessore, confrontalo con gli elementi precedenti. Spostare gli elementi maggiori di una posizione verso l'alto per fare spazio per l'elemento scambiato.\n",
    "\n",
    "![SegmentLocal](Insertion-sort-example-300px.gif \"segment\")\n",
    "\n",
    "Esempio visivo:\n",
    "\n",
    "![SegmentLocal](Insertion_sort_animation.gif \"segment\")"
   ]
  },
  {
   "cell_type": "code",
   "execution_count": 1,
   "metadata": {},
   "outputs": [
    {
     "name": "stdout",
     "output_type": "stream",
     "text": [
      "[12, 11, 13, 5, 6]\n",
      "Sorted array is:\n",
      "[5, 6, 11, 12, 13]\n"
     ]
    }
   ],
   "source": [
    "# Python program for implementation of Insertion Sort \n",
    "  \n",
    "# Function to do insertion sort \n",
    "def insertionSort(arr): \n",
    "  \n",
    "    # Traverse through 1 to len(arr) \n",
    "    for i in range(1, len(arr)): \n",
    "  \n",
    "        key = arr[i] \n",
    "  \n",
    "        # Move elements of arr[0..i-1], that are \n",
    "        # greater than key, to one position ahead \n",
    "        # of their current position \n",
    "        j = i-1\n",
    "        while j >=0 and key < arr[j] : \n",
    "                arr[j+1] = arr[j] \n",
    "                j -= 1\n",
    "        arr[j+1] = key \n",
    "        \n",
    "    return arr\n",
    "  \n",
    "\n",
    "# Driver code to test above \n",
    "arr = [12, 11, 13, 5, 6] \n",
    "print(arr)\n",
    "print (\"Sorted array is:\") \n",
    "print(insertionSort(arr))"
   ]
  },
  {
   "cell_type": "markdown",
   "metadata": {},
   "source": [
    "## Bubble Sort\n",
    "\n",
    "Il Bubble sort o ordinamento a bolla è un semplice algoritmo di ordinamento di una lista di dati. Ogni coppia di elementi adiacenti viene comparata e invertita di posizione se sono nell'ordine sbagliato. L'algoritmo continua nuovamente a ri-eseguire questi passaggi per tutta la lista finché non vengono più eseguiti scambi, situazione che indica che la lista è ordinata.\n",
    "\n",
    "### Step-by-step example\n",
    "\n",
    "Prendi un array di numeri \"5 1 4 2 8\" e ordina l'array dal numero più basso al numero più grande utilizzando il bubble sort. In ogni fase vengono confrontati gli elementi scritti in grassetto. Saranno necessari tre passaggi;\n",
    "\n",
    "Primo passaggio\n",
    "\n",
    "    ( 5 1 4 2 8 ) → ( 1 5 4 2 8 ), Qui, l-algoritmo compara i primi due elementi, e li invrte dato che 5 > 1.\n",
    "    ( 1 5 4 2 8 ) → ( 1 4 5 2 8 ), Swap  (5 > 4)\n",
    "    ( 1 4 5 2 8 ) → ( 1 4 2 5 8 ), Swap  (5 > 2)\n",
    "    ( 1 4 2 5 8 ) → ( 1 4 2 5 8 ), dato che gli elementi sono gi' in ordine (8>5), nessuno swap.\n",
    "    \n",
    "Secondo passaggio\n",
    "\n",
    "    ( 1 4 2 5 8 ) → ( 1 4 2 5 8 )\n",
    "    ( 1 4 2 5 8 ) → ( 1 2 4 5 8 ), Swap since 4 > 2\n",
    "    ( 1 2 4 5 8 ) → ( 1 2 4 5 8 )\n",
    "    ( 1 2 4 5 8 ) → ( 1 2 4 5 8 )\n",
    "\n",
    "Ora, l'array è già ordinato, ma l'algoritmo non sa se è stato completato. L'algoritmo necessita di un intero passaggio senza alcuno scambio per sapere che è ordinato.\n",
    "\n",
    "Terzo passaggio\n",
    "\n",
    "    ( 1 2 4 5 8 ) → ( 1 2 4 5 8 )\n",
    "    ( 1 2 4 5 8 ) → ( 1 2 4 5 8 )\n",
    "    ( 1 2 4 5 8 ) → ( 1 2 4 5 8 )\n",
    "    ( 1 2 4 5 8 ) → ( 1 2 4 5 8 )\n",
    "    \n",
    "![SegmentLocal](Bubble-sort-example-300px.gif \"segment\")\n",
    "\n",
    "Esempio visivo:\n",
    "\n",
    "![SegmentLocal](Sorting_bubblesort_anim.gif \"segment\")\n"
   ]
  },
  {
   "cell_type": "code",
   "execution_count": 1,
   "metadata": {},
   "outputs": [
    {
     "name": "stdout",
     "output_type": "stream",
     "text": [
      "[64, 34, 25, 12, 22, 11, 90]\n",
      "Sorted array is:\n",
      "[11, 12, 22, 25, 34, 64, 90]\n"
     ]
    }
   ],
   "source": [
    "  \n",
    "def bubbleSort(arr): \n",
    "    n = len(arr) \n",
    "  \n",
    "    # Traverse through all array elements \n",
    "    for i in range(n-1): \n",
    "    # range(n) also work but outer loop will repeat one time more than needed. \n",
    "  \n",
    "        # Last i elements are already in place \n",
    "        for j in range(0, n-i-1): \n",
    "  \n",
    "            # traverse the array from 0 to n-i-1 \n",
    "            # Swap if the element found is greater \n",
    "            # than the next element \n",
    "            if arr[j] > arr[j+1] : \n",
    "                arr[j], arr[j+1] = arr[j+1], arr[j] \n",
    "    return arr\n",
    "  \n",
    "# Driver code to test above \n",
    "arr = [64, 34, 25, 12, 22, 11, 90] \n",
    "\n",
    "print(arr)\n",
    "print (\"Sorted array is:\") \n",
    "print(bubbleSort(arr))"
   ]
  },
  {
   "cell_type": "markdown",
   "metadata": {},
   "source": [
    "## Per i piu' coraggiosi\n",
    "\n",
    "\n",
    "\n",
    "## Merge Sort\n",
    "\n",
    "Il merge sort è un algoritmo di ordinamento basato su confronti che utilizza un processo di risoluzione ricorsivo, sfruttando la tecnica del Divide et Impera, che consiste nella suddivisione del problema in sottoproblemi della stessa natura di dimensione via via più piccola. \n",
    "\n",
    "Concettualmente, l'algoritmo funziona nel seguente modo:\n",
    "- Se la sequenza da ordinare ha lunghezza 0 oppure 1, è già ordinata. Altrimenti:\n",
    "- La sequenza viene divisa (divide) in due metà (se la sequenza contiene un numero dispari di elementi, viene divisa in due sottosequenze di cui la prima ha un elemento in più della seconda)\n",
    "- Ognuna di queste sottosequenze viene ordinata, applicando ricorsivamente l'algoritmo (impera)\n",
    "- Le due sottosequenze ordinate vengono fuse (combina). Per fare questo, si estrae ripetutamente il minimo delle due sottosequenze e lo si pone nella sequenza in uscita, che risulterà ordinata\n",
    "\n",
    "![SegmentLocal](Merge_sort_algorithm_diagram2.jpg \"segment\")\n",
    "\n",
    "Esempio visivo:\n",
    "\n",
    "![SegmentLocal](Merge_sort_animation2.gif \"segment\")"
   ]
  },
  {
   "cell_type": "code",
   "execution_count": 3,
   "metadata": {},
   "outputs": [
    {
     "name": "stdout",
     "output_type": "stream",
     "text": [
      "Given array is\n",
      "[12, 11, 13, 5, 6, 7]\n",
      "Sorted array is : \n",
      "[5, 6, 7, 11, 12, 13]\n"
     ]
    }
   ],
   "source": [
    "# Python program for implementation of  \n",
    "# MergeSort  \n",
    "  \n",
    "def merge_sort(values): \n",
    "  \n",
    "    if len(values)>1: \n",
    "        m = len(values)//2\n",
    "        left = values[:m] \n",
    "        right = values[m:] \n",
    "        left = merge_sort(left) \n",
    "        right = merge_sort(right) \n",
    "  \n",
    "        values =[] \n",
    "  \n",
    "        while len(left)>0 and len(right)>0: \n",
    "            if left[0]<right[0]: \n",
    "                values.append(left[0]) \n",
    "                left.pop(0) \n",
    "            else: \n",
    "                values.append(right[0]) \n",
    "                right.pop(0) \n",
    "  \n",
    "        for i in left: \n",
    "            values.append(i) \n",
    "        for i in right: \n",
    "            values.append(i) \n",
    "                  \n",
    "    return values \n",
    "  \n",
    "# Input list \n",
    "a = [12, 11, 13, 5, 6, 7] \n",
    "print(\"Given array is\") \n",
    "print(a) \n",
    "  \n",
    "a = merge_sort(a) \n",
    "  \n",
    "# Print output \n",
    "print(\"Sorted array is : \") \n",
    "print(a) "
   ]
  },
  {
   "cell_type": "code",
   "execution_count": null,
   "metadata": {},
   "outputs": [],
   "source": []
  }
 ],
 "metadata": {
  "kernelspec": {
   "display_name": "Python 3",
   "language": "python",
   "name": "python3"
  },
  "language_info": {
   "codemirror_mode": {
    "name": "ipython",
    "version": 3
   },
   "file_extension": ".py",
   "mimetype": "text/x-python",
   "name": "python",
   "nbconvert_exporter": "python",
   "pygments_lexer": "ipython3",
   "version": "3.7.7"
  }
 },
 "nbformat": 4,
 "nbformat_minor": 4
}
