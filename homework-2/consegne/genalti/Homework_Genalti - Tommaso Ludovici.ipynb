{
 "cells": [
  {
   "cell_type": "markdown",
   "metadata": {
    "id": "myLz0ycsuMMY"
   },
   "source": [
    "#Web scraping del sito della collana di libri Adelphi \n",
    "Una delle task più comuni per cui viene impiegato Python è il così detto **web scraping**. Il web scraping consiste nell'automatizzare l'ottenimento di alcune informazioni dal web tramite un codice e di utilizzarle di conseguenza. La qualità e la semplicità nell'ottenimento delle informazioni è dato solitamente dalla struttura della fonte: alcuni siti sono molto più semplici da navigare mentre altri possono essere più complessi. Per questo motivo il web scraping è spesso molto complesso. \n",
    "In questo esercizio vi verrà fornito uno scraper già fatto in grado di ottenere informazioni dal catalogo online della nota collana di **libri Adelphi** (https://www.adelphi.it/): calandovi nei panni di un avido lettore e collezionista di libri, il vostro obiettivo sarà di utilizzarlo per digitalizzare interamente la vostra collezione di libri, in modo da poter velocemente controllare l'inventario dei vostri libri ed alcune informazioni a riguardo con un semplice comando ogni volta che lo vorrete."
   ]
  },
  {
   "cell_type": "code",
   "execution_count": 1,
   "metadata": {
    "colab": {
     "base_uri": "https://localhost:8080/",
     "height": 124
    },
    "executionInfo": {
     "elapsed": 6465,
     "status": "ok",
     "timestamp": 1602763937339,
     "user": {
      "displayName": "Corso Python",
      "photoUrl": "https://lh3.googleusercontent.com/a-/AOh14GhUJnZlNXXV-eAoMnBindJd9r8g8VQoai18e-XA=s64",
      "userId": "02320948615677398231"
     },
     "user_tz": -120
    },
    "id": "D_37H-lC7lK3",
    "outputId": "aaa4db14-6f1b-46a4-e8c1-0bc34f97463b"
   },
   "outputs": [
    {
     "name": "stdout",
     "output_type": "stream",
     "text": [
      "Requirement already satisfied: requests in c:\\users\\tomlu\\appdata\\local\\programs\\python\\python39\\lib\\site-packages (2.24.0)\n",
      "Requirement already satisfied: chardet<4,>=3.0.2 in c:\\users\\tomlu\\appdata\\local\\programs\\python\\python39\\lib\\site-packages (from requests) (3.0.4)\n",
      "Requirement already satisfied: idna<3,>=2.5 in c:\\users\\tomlu\\appdata\\local\\programs\\python\\python39\\lib\\site-packages (from requests) (2.10)\n",
      "Requirement already satisfied: certifi>=2017.4.17 in c:\\users\\tomlu\\appdata\\local\\programs\\python\\python39\\lib\\site-packages (from requests) (2020.6.20)\n",
      "Requirement already satisfied: urllib3!=1.25.0,!=1.25.1,<1.26,>=1.21.1 in c:\\users\\tomlu\\appdata\\local\\programs\\python\\python39\\lib\\site-packages (from requests) (1.25.11)\n",
      "Requirement already satisfied: beautifulsoup4 in c:\\users\\tomlu\\appdata\\local\\programs\\python\\python39\\lib\\site-packages (4.9.3)\n",
      "Requirement already satisfied: soupsieve>1.2; python_version >= \"3.0\" in c:\\users\\tomlu\\appdata\\local\\programs\\python\\python39\\lib\\site-packages (from beautifulsoup4) (2.0.1)\n"
     ]
    }
   ],
   "source": [
    "# IMPORTANTE\n",
    "# questa cella di codice serve ad installare nel vostro Python due tra i principali strumenti di web scraping: beautiful soup e requests.\n",
    "# qualora di fossero problemi con la loro installazione o import non esitate a contattarci\n",
    "!pip install requests\n",
    "!pip install beautifulsoup4"
   ]
  },
  {
   "cell_type": "markdown",
   "metadata": {
    "id": "DucKAxg-6g50"
   },
   "source": [
    "# Implementazione dello scraper\n",
    "Come anticipato, non vi sarà richiesto di implementare lo scraper. Tuttavia gli interessati possono trovare informazioni su come utilizzare al meglio le due librerie per lo scraping *requests* e *beautifulsoup* e cercare di comprendere il codice della classe AdelphiScraper. Se non siete tra questi potete saltare alla prossima sezione.\n",
    "Qui qualche risorsa:\n",
    "\n",
    "https://www.crummy.com/software/BeautifulSoup/bs4/doc/\n",
    "\n",
    "https://requests.readthedocs.io/en/master/user/quickstart/ "
   ]
  },
  {
   "cell_type": "code",
   "execution_count": 1,
   "metadata": {
    "id": "Gr5uChnzMN4a"
   },
   "outputs": [],
   "source": [
    "import requests as req\n",
    "import bs4 as bs"
   ]
  },
  {
   "cell_type": "code",
   "execution_count": 2,
   "metadata": {
    "id": "zUZulxHc7smv"
   },
   "outputs": [],
   "source": [
    "class AdelphiScraper():\n",
    "  def __init__(self):\n",
    "    self.catalog      = 'https://www.adelphi.it/catalogo/'\n",
    "    self.subject      = 'https://www.adelphi.it/catalogo/materia/'\n",
    "    self.subjects_map = self.init_subjects()\n",
    "\n",
    "  def init_subjects(self):\n",
    "    resp  = req.get(self.catalog)\n",
    "    soup  = bs.BeautifulSoup(resp.text, \"html.parser\")\n",
    "    items = soup.find_all('ul', class_='subject')\n",
    "    ret = dict()\n",
    "    for i in items:\n",
    "      for j in i:\n",
    "        ret.update({int(j.a['href'].split('/')[-1]) : j.text})\n",
    "    return ret\n",
    "\n",
    "  def get_subject_list(self):\n",
    "    return self.subjects_map\n",
    "  \n",
    "  def get_subject_books(self, subject_code):\n",
    "    page_found = True\n",
    "    suffix = ''\n",
    "    page_counter = 1\n",
    "    books = dict()\n",
    "    isbns = dict()\n",
    "    while page_found:\n",
    "      try:\n",
    "        resp = req.get(self.subject + str(subject_code) + suffix, allow_redirects = False)\n",
    "        soup = bs.BeautifulSoup(resp.text, \"html.parser\")\n",
    "        if not len(soup):\n",
    "          raise ValueError()\n",
    "        book_infos, isbn_maps = self.extract_books(soup)\n",
    "        books.update(book_infos)\n",
    "        isbns.update(isbn_maps)\n",
    "        page_counter += 1\n",
    "        suffix = '/p' + str(page_counter)\n",
    "      except:\n",
    "        page_found = False\n",
    "    return books, isbns\n",
    "\n",
    "  def extract_books(self, soup):\n",
    "    items = soup.find_all('div', class_='list_impressum')\n",
    "    items2 = soup.find_all('div', class_='data' )\n",
    "    items3 = soup.find_all('div', class_ = \"abstract hidden-xs\")\n",
    "    isbn_map  = dict()\n",
    "    book_info = dict()\n",
    "    counter = 0\n",
    "    for i in items:\n",
    "      isbn_map.update({i.a['href'].split('/')[-1] : i.a.text}) #isbn : titolo\n",
    "      book_info.update({i.a.text : {'Autore': i.div.text, \\\n",
    "                                    'Anno': items2[counter].text.split(' ')[0].split(',')[0], \\\n",
    "                                    'Prezzo Originale' : i.span.text.split(' ')[1].replace(',','.'), \\\n",
    "                                    'Sconto': i.span.text.split(' ')[2], \\\n",
    "                                    'Pagine' :items2[counter].text.split(' ')[2].split(',')[0].split('-')[-1], \\\n",
    "                                    'Abstract': items3[counter].text}})\n",
    "      counter += 1\n",
    "    return book_info, isbn_map"
   ]
  },
  {
   "cell_type": "markdown",
   "metadata": {
    "id": "iwoSPBLFkHDm"
   },
   "source": [
    "#Utilizzo della classe AdelphiScraper\n",
    "\n",
    "*   La classe AdelphiScraper non richiede alcun argomento di inizializzazione.\n",
    "*   Essendo un WebScraper richiede ovviamente la connessione ad internet.\n",
    "*   Essa contiene al suo interno diversi attributi e metodi, i metodi che vi serviranno sono:\n",
    "    * `get_subject_list()` : questo metodo restituisce un dizionario contenente tutte le categorie della collana di libri Adelphi e il codice numerico a cui sono associate sul sito.\n",
    "    * `get_subject_books(category_code)` : questo metodo riceve il codice numerico (**come intero**) di una categoria e restituisce due dizionari: \n",
    "        * Il primo ha come chiave i titoli dei libri appartenenti alla categoria e come valori svariati dati ad essi inerenti (Autore, prezzo, anno di stampa dell'ultima edizione, etc.)\n",
    "        * Il secondo ha come chiavi gli ISBN (codice univoco diverso da libro a libro) e come valori i titoli dei libri associati.\n",
    "\n",
    "\n"
   ]
  },
  {
   "cell_type": "code",
   "execution_count": 3,
   "metadata": {
    "id": "TJl4Yq15njPs"
   },
   "outputs": [],
   "source": [
    "## Come prima cosa istanziate un oggetto di classe AdelphiScraper e provate ad utilizzare i due metodi sopra descritti per osservarne l'output,\n",
    "## questa operazione è molto importante al fine di capire bene quali sono le strutture dati a vostra dispozione.\n",
    "## ATTENZIONE : osservate bene quali sono i tipi dei dati contenuti nelle strutture che riceverete in output, più avanti avrete bisogno di farvi operazioni o conversioni.\n",
    "\n",
    "Ad_Scraper = AdelphiScraper()"
   ]
  },
  {
   "cell_type": "markdown",
   "metadata": {
    "id": "hVALXmT6meTC"
   },
   "source": [
    "# Creazione di una libreria digitale\n",
    "Richieste dell'esercizio:\n",
    "\n",
    "*   Implementare la classe `Book(ISBN)`: questa classe dovrà essere inizializzata soltanto dall'ISBN di un libro, utilizzando AdelphiScraper dovrà essere in grado di inizializzarsi con i seguenti attributi:\n",
    "    *   `self.ISBN` : ISBN del libro.\n",
    "    *   `self.title` : il titolo del libro.\n",
    "    *   `self.print_year` : l'anno dell'ultima ristampa.\n",
    "    *   `self.author` : l'autore del libro.\n",
    "    *   `self.abstract` : abstract del libro.\n",
    "    *   `self.pages` : numero di pagine del libro.\n",
    "    *   `self.category` : categoria a cui appartiene il libro.\n",
    "\n",
    "  **Suggerimento**: tutte queste informazioni devono essere reperite con varie chiamate ai metodi di AdelphiScraper e tramite trasformazioni alle strutture dati ricevute, si consiglia caldamente di chiamare AdelphiScraper esternamente e creare una struttura dati adeguata a cercare tutte le informazioni velocemente dato **soltanto** l'ISBN di un libro, a quel punto la classe Book potrà attingere da lì senza connettersi allo scraper in ogni sua istanza.\n",
    "\n",
    "  Dovrà inoltre possedere i seguenti metodi:\n",
    "    *   `get_whole_price(self)` : restituirà il prezzo lordo del libro usando AdelphiScraper.\n",
    "    *   `get_net_price(self)` : restituirà il prezzo netto del libro usando AdelphiScraper.\n",
    "    *   `print_book_infos(self)` : stamperà in output le varie informazioni sul libro.\n",
    "    *   `abstract_len` : restituisce lunghezza dell'abstract del libro\n",
    "\n",
    "* Vi è richiesto di digitalizzare le informazioni di alcuni libri, creare una classe chiamata `MyLibrary(ISBN_list)` che possa essere inizializzata soltanto con una lista di ISBN. In modo simile alla classe `Book(ISBN)` questa dovrà far uso di AdelphiScraper per collezionare le informazioni di tutti i libri in essa contenuti, si suggerisce l'utilizzo di dizionari e oggetti di tipo Book come strutture dati replicando gli stessi attributi e metodi (in questi ultimi si possa specificare il libro del quale siamo interessati al prezzo, all'abstract etc.).\n",
    "La classe dovrà inoltre avere i seguenti metodi:\n",
    "    * `insert_book(self, ISBN) `: inserisca nella libreria l'oggetto di tipo Book corrispondente all'ISBN passato.\n",
    "    * `remove_book(self, ISBN) `: rimuova dall libreria l'oggetto di tipo Book corrispondente all'ISBN passato.\n",
    "    * `get_library_value(self) `: restituirà il valore totale (dato dai prezzi) dei libri contenuti nella libreria, sia lordo che al netto degli sconti.\n",
    "    * `get_total_pages(self) ` : restituirà il numero totale di pagine dei libri nella nostra libreria\n",
    "    * `get_categories_number(self) ` : restituirà il numero di categorie differenti che sono presenti nella nostra libreria.\n",
    "\n",
    "* Introduciamo il concetto di libri \"vicini\": diciamo che due libri sono vicini se appartengono alla stessa categoria **oppure** il loro ISBN modulo 3 è lo stesso: se ad esempio due libri hanno come ISBN 134434**6** e ISBN 294823**9** questi avranno entrambi ISBN modulo 3 uguale a 0 e saranno vicini.\n",
    "    * Si inserisca nella classe `Book(ISBN)` il metodo `is_near(self, book_2)` che restituisca `True` se l'oggetto di tipo Book passato in input è vicino al libro rappresentato dall'oggetto Book che chiama il metodo, `False` altrimenti.\n",
    "```\n",
    "b1 = Book(123456)\n",
    "b2 = Book(123456789)\n",
    "b1.is_near(b2)\n",
    ">> True\n",
    "```\n",
    "    * Si inserisca nella classe `MyLibrary(ISBN_list)` il metodo `minimum_path(self, start_ISBN, end_ISBN) ` che riceve in input due ISBN appartenenti alla libreria, uno iniziale ed uno finale, e restituisca la lista ordinata degli ISBN dei libri facenti parte della libreria da cui bisogna passare per arrivare da quello iniziale a quello finale. Tuttavia, è possibile passare da un libro ad un altro solo se sono vicini, questa funzione deve restituire la sequenza di passaggi di lunghezza **più breve** per arrivare a destinazione.\n",
    "    * Si inserisca nella classe `MyLibrary(ISBN_list)` il metodo `minimum_cost_path(self, start_ISBN, end_ISBN) `, una versione alternativa del metodo precedente che invece che il cammino di lunghezza minore restituisce quello con il costo **netto** totale dei libri facenti parte del cammino minore possibile.\n",
    "\n",
    "Si usino i seguenti ISBN come caso prova delle varie implementazioni:\n",
    "\n",
    "Cose che potrebbero esservi utili: \n",
    "  * Attributi dei dizionari: .keys(), .values(), ...\n",
    "  * Teoria dei grafi\n",
    "  "
   ]
  },
  {
   "cell_type": "code",
   "execution_count": 4,
   "metadata": {},
   "outputs": [],
   "source": [
    "def book_info(ISBN):\n",
    "    ISBN = str(ISBN)\n",
    "    generi = Ad_Scraper.get_subject_list()\n",
    "    for i in generi:\n",
    "        codice_genere = int(i)\n",
    "        libri_genere = Ad_Scraper.get_subject_books(codice_genere)\n",
    "        if ISBN in libri_genere[1]:\n",
    "            genere = generi[i]\n",
    "            titolo = libri_genere[1][ISBN]\n",
    "            break\n",
    "    libro = {\n",
    "        'titolo' : titolo,\n",
    "        'categoria' : genere,\n",
    "        'anno' : libri_genere[0][titolo]['Anno'],\n",
    "        'autore' : libri_genere[0][titolo]['Autore'],\n",
    "        'sunto' : libri_genere[0][titolo]['Abstract'],\n",
    "        'pagine' : libri_genere[0][titolo]['Pagine'],\n",
    "        'prezzo' : int(libri_genere[0][titolo]['Prezzo']),\n",
    "        'sconto' : libri_genere[0][titolo]['Sconto']\n",
    "    }\n",
    "    return libro"
   ]
  },
  {
   "cell_type": "code",
   "execution_count": 5,
   "metadata": {},
   "outputs": [],
   "source": [
    "class Book():\n",
    "    def __init__(self, ISBN):\n",
    "        book = book_info(ISBN)\n",
    "        self.ISBN = ISBN\n",
    "        self.title = book['titolo']\n",
    "        self.print_year = book['anno']\n",
    "        self.author = book['autore']\n",
    "        self.abstract = book['sunto']\n",
    "        self.pages = book['pagine']\n",
    "        self.category = book['categoria']\n",
    "        \n",
    "    def get_whole_price(self):\n",
    "        book = book_info(self.ISBN)\n",
    "        return book['prezzo']\n",
    "    \n",
    "    def get_net_price(self):\n",
    "        lordo = get_whole_price(self)\n",
    "        book = book_info(self.ISBN)\n",
    "        sconto = int(book['sconto'][1:-2])\n",
    "        return lordo*(100-sconto)/100\n",
    "    \n",
    "    def print_book_infos(self):\n",
    "        print(f\"\"\"\n",
    "        {self.title}\\n\n",
    "        Genere: {self.category}\\n\n",
    "        Scritto da {self.author}\\n\n",
    "        \"{self.author}\"\\n\n",
    "        Edizione {self.print_year}, {self.pages} pagine, ISBN: {self.ISBN}\n",
    "        \"\"\")\n",
    "        \n",
    "    def abstract_len(self):\n",
    "        return len(self.abstract)\n",
    "    \n",
    "    def is_near(self,book_2):\n",
    "        if self.category == book_2.category:\n",
    "            return True\n",
    "        if self.ISBN%3 == book_2.ISBN%3:\n",
    "            return True\n",
    "        return False"
   ]
  },
  {
   "cell_type": "code",
   "execution_count": 6,
   "metadata": {},
   "outputs": [],
   "source": [
    "class MyLibrary():\n",
    "    def __init__(self, ISBN_list):\n",
    "        for ISBN in ISBN_list:\n",
    "            self.library.append(Book(ISBN))\n",
    "            \n",
    "    def insert_book(self, ISBN):\n",
    "        self.library.append(Book(ISBN))\n",
    "        \n",
    "    def remove_book(self, ISBN):\n",
    "        if Book(ISBN) in self.library:\n",
    "            self.library.remove(Book(ISBN))\n",
    "            \n",
    "    def get_library_value(self):\n",
    "        lordo = 0\n",
    "        netto = 0\n",
    "        for book in self.library:\n",
    "            lordo += book.get_whole_price()\n",
    "            netto += book.get_net_price()\n",
    "        return [lordo, netto]\n",
    "    \n",
    "    def get_total_pages(self):\n",
    "        pagine = 0\n",
    "        for book in self.library:\n",
    "            pagine += book.pages\n",
    "        return pagine\n",
    "    \n",
    "    def get_categories_number(self):\n",
    "        categorie = []\n",
    "        for book in self.library:\n",
    "            if book.category not in categorie:\n",
    "                categorie.append(book.categorie)\n",
    "        return len(categorie)\n",
    "    \n",
    "    def compare(book_path_0, book_path_1, metric):\n",
    "        if metric == 'length':\n",
    "            if len(book_path_0) < len(book_path_1):\n",
    "                return 0\n",
    "            else:\n",
    "                return 1\n",
    "            \n",
    "        if metric == 'cost':\n",
    "            lib_0 = [book.ISBN for book in book_path_0]\n",
    "            lib_1 = [book.ISBN for book in book_path_1]\n",
    "            mylib_0 = MyLibrary(lib_0)\n",
    "            mylib_1 = MyLibrary(lib_1)\n",
    "            if mylib_0.get_library_value()[1] < mylib_1.get_library_value()[1]:\n",
    "                return 0\n",
    "            else:\n",
    "                return 1\n",
    "    \n",
    "    def minimum_path_recursive(self, start_book, end_book, book_path, metric):\n",
    "        path = self.library\n",
    "        counter = 0\n",
    "        min_path_book = None\n",
    "        \n",
    "        if start_book.isnear(end_book):\n",
    "            return [end_book]\n",
    "        for book_2 in self.library:\n",
    "            if book_2!=start_book and book_2.isnear(start_book):\n",
    "                book_2_path = self.minimum_path_recursive(book_2, end_book, book_path+[book_2], metric)\n",
    "                if compare_paths(path, book_2_path, metric):\n",
    "                    book_2 = min_path_book\n",
    "                    path = book_2_path\n",
    "            else:\n",
    "                counter += 1\n",
    "        if counter == len(self.library):\n",
    "            return self.library+[x]\n",
    "        return [min_book_path]+path\n",
    "    \n",
    "    def minimum_path(self, start_ISBN, end_ISBN):\n",
    "        start_book = Book(start_ISBN)\n",
    "        end_book = Book(end_book)\n",
    "        if start_book not in self.library or end_book not in self.library:\n",
    "            return None\n",
    "        path = self.minimum_path_recursive(start_book, end_book, [start_book],'length')\n",
    "        if len(path) > len(self.library):\n",
    "            return None\n",
    "        return path\n",
    "    \n",
    "    def minimum_cost_path(self, start_ISBN, end_ISBN):\n",
    "        start_book = Book(start_ISBN)\n",
    "        end_book = Book(end_book)\n",
    "        if start_book not in self.library or end_book not in self.library:\n",
    "            return None\n",
    "        path = self.minimum_path_recursive(start_book, end_book, [start_book],'cost')\n",
    "        if len(path) > len(self.library):\n",
    "            return None\n",
    "        return path"
   ]
  },
  {
   "cell_type": "code",
   "execution_count": null,
   "metadata": {},
   "outputs": [],
   "source": [
    "mago = Book(9788845934872)\n",
    "mago.print_book_infos()\n",
    "print(mago.title)\n",
    "print('mago')"
   ]
  }
 ],
 "metadata": {
  "colab": {
   "authorship_tag": "ABX9TyNztnY58LrNzNTbzrZACDHp",
   "collapsed_sections": [],
   "name": "adelphi_scraping.ipynb",
   "provenance": []
  },
  "kernelspec": {
   "display_name": "Python 3",
   "language": "python",
   "name": "python3"
  },
  "language_info": {
   "codemirror_mode": {
    "name": "ipython",
    "version": 3
   },
   "file_extension": ".py",
   "mimetype": "text/x-python",
   "name": "python",
   "nbconvert_exporter": "python",
   "pygments_lexer": "ipython3",
   "version": "3.9.0"
  }
 },
 "nbformat": 4,
 "nbformat_minor": 1
}
