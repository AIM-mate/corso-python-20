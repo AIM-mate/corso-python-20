{
 "cells": [
  {
   "cell_type": "markdown",
   "metadata": {
    "id": "myLz0ycsuMMY"
   },
   "source": [
    "#Web scraping del sito della collana di libri Adelphi \n",
    "Una delle task più comuni per cui viene impiegato Python è il così detto **web scraping**. Il web scraping consiste nell'automatizzare l'ottenimento di alcune informazioni dal web tramite un codice e di utilizzarle di conseguenza. La qualità e la semplicità nell'ottenimento delle informazioni è dato solitamente dalla struttura della fonte: alcuni siti sono molto più semplici da navigare mentre altri possono essere più complessi. Per questo motivo il web scraping è spesso molto complesso. \n",
    "In questo esercizio vi verrà fornito uno scraper già fatto in grado di ottenere informazioni dal catalogo online della nota collana di **libri Adelphi** (https://www.adelphi.it/): calandovi nei panni di un avido lettore e collezionista di libri, il vostro obiettivo sarà di utilizzarlo per digitalizzare interamente la vostra collezione di libri, in modo da poter velocemente controllare l'inventario dei vostri libri ed alcune informazioni a riguardo con un semplice comando ogni volta che lo vorrete."
   ]
  },
  {
   "cell_type": "code",
   "execution_count": null,
   "metadata": {
    "colab": {
     "base_uri": "https://localhost:8080/",
     "height": 124
    },
    "executionInfo": {
     "elapsed": 6465,
     "status": "ok",
     "timestamp": 1602763937339,
     "user": {
      "displayName": "Corso Python",
      "photoUrl": "https://lh3.googleusercontent.com/a-/AOh14GhUJnZlNXXV-eAoMnBindJd9r8g8VQoai18e-XA=s64",
      "userId": "02320948615677398231"
     },
     "user_tz": -120
    },
    "id": "D_37H-lC7lK3",
    "outputId": "aaa4db14-6f1b-46a4-e8c1-0bc34f97463b"
   },
   "outputs": [
    {
     "name": "stdout",
     "output_type": "stream",
     "text": [
      "Requirement already satisfied: requests in /usr/local/lib/python3.6/dist-packages (2.23.0)\n",
      "Requirement already satisfied: idna<3,>=2.5 in /usr/local/lib/python3.6/dist-packages (from requests) (2.10)\n",
      "Requirement already satisfied: chardet<4,>=3.0.2 in /usr/local/lib/python3.6/dist-packages (from requests) (3.0.4)\n",
      "Requirement already satisfied: urllib3!=1.25.0,!=1.25.1,<1.26,>=1.21.1 in /usr/local/lib/python3.6/dist-packages (from requests) (1.24.3)\n",
      "Requirement already satisfied: certifi>=2017.4.17 in /usr/local/lib/python3.6/dist-packages (from requests) (2020.6.20)\n",
      "Requirement already satisfied: beautifulsoup4 in /usr/local/lib/python3.6/dist-packages (4.6.3)\n"
     ]
    }
   ],
   "source": [
    "# IMPORTANTE\n",
    "# questa cella di codice serve ad installare nel vostro Python due tra i principali strumenti di web scraping: beautiful soup e requests.\n",
    "# qualora di fossero problemi con la loro installazione o import non esitate a contattarci\n",
    "!pip install requests\n",
    "!pip install beautifulsoup4"
   ]
  },
  {
   "cell_type": "markdown",
   "metadata": {
    "id": "DucKAxg-6g50"
   },
   "source": [
    "# Implementazione dello scraper\n",
    "Come anticipato, non vi sarà richiesto di implementare lo scraper. Tuttavia gli interessati possono trovare informazioni su come utilizzare al meglio le due librerie per lo scraping *requests* e *beautifulsoup* e cercare di comprendere il codice della classe AdelphiScraper. Se non siete tra questi potete saltare alla prossima sezione.\n",
    "Qui qualche risorsa:\n",
    "\n",
    "https://www.crummy.com/software/BeautifulSoup/bs4/doc/\n",
    "\n",
    "https://requests.readthedocs.io/en/master/user/quickstart/ "
   ]
  },
  {
   "cell_type": "code",
   "execution_count": 9,
   "metadata": {
    "id": "Gr5uChnzMN4a"
   },
   "outputs": [],
   "source": [
    "import requests as req\n",
    "import bs4 as bs"
   ]
  },
  {
   "cell_type": "code",
   "execution_count": 10,
   "metadata": {
    "id": "zUZulxHc7smv"
   },
   "outputs": [],
   "source": [
    "class AdelphiScraper():\n",
    "  def __init__(self):\n",
    "    self.catalog      = 'https://www.adelphi.it/catalogo/'\n",
    "    self.subject      = 'https://www.adelphi.it/catalogo/materia/'\n",
    "    self.subjects_map = self.init_subjects()\n",
    "\n",
    "  def init_subjects(self):\n",
    "    resp  = req.get(self.catalog)\n",
    "    soup  = bs.BeautifulSoup(resp.text, \"html.parser\")\n",
    "    items = soup.find_all('ul', class_='subject')\n",
    "    ret = dict()\n",
    "    for i in items:\n",
    "      for j in i:\n",
    "        ret.update({int(j.a['href'].split('/')[-1]) : j.text})\n",
    "    return ret\n",
    "\n",
    "  def get_subject_list(self):\n",
    "    return self.subjects_map\n",
    "  \n",
    "  def get_subject_books(self, subject_code):\n",
    "    page_found = True\n",
    "    suffix = ''\n",
    "    page_counter = 1\n",
    "    books = dict()\n",
    "    isbns = dict()\n",
    "    while page_found:\n",
    "      try:\n",
    "        resp = req.get(self.subject + str(subject_code) + suffix, allow_redirects = False)\n",
    "        soup = bs.BeautifulSoup(resp.text, \"html.parser\")\n",
    "        if not len(soup):\n",
    "          raise ValueError()\n",
    "        book_infos, isbn_maps = self.extract_books(soup)\n",
    "        books.update(book_infos)\n",
    "        isbns.update(isbn_maps)\n",
    "        page_counter += 1\n",
    "        suffix = '/p' + str(page_counter)\n",
    "      except:\n",
    "        page_found = False\n",
    "    return books, isbns\n",
    "\n",
    "  def extract_books(self, soup):\n",
    "    items = soup.find_all('div', class_='list_impressum')\n",
    "    items2 = soup.find_all('div', class_='data' )\n",
    "    items3 = soup.find_all('div', class_ = \"abstract hidden-xs\")\n",
    "    isbn_map  = dict()\n",
    "    book_info = dict()\n",
    "    counter = 0\n",
    "    for i in items:\n",
    "      isbn_map.update({i.a['href'].split('/')[-1] : i.a.text}) #isbn : titolo\n",
    "      book_info.update({i.a.text : {'Autore': i.div.text, \\\n",
    "                                    'Anno': items2[counter].text.split(' ')[0].split(',')[0], \\\n",
    "                                    'Prezzo Originale' : i.span.text.split(' ')[1].replace(',','.'), \\\n",
    "                                    'Sconto': i.span.text.split(' ')[2], \\\n",
    "                                    'Pagine' :items2[counter].text.split(' ')[2].split(',')[0].split('-')[-1], \\\n",
    "                                    'Abstract': items3[counter].text}})\n",
    "      counter += 1\n",
    "    return book_info, isbn_map"
   ]
  },
  {
   "cell_type": "markdown",
   "metadata": {
    "id": "iwoSPBLFkHDm"
   },
   "source": [
    "#Utilizzo della classe AdelphiScraper\n",
    "\n",
    "*   La classe AdelphiScraper non richiede alcun argomento di inizializzazione.\n",
    "*   Essendo un WebScraper richiede ovviamente la connessione ad internet.\n",
    "*   Essa contiene al suo interno diversi attributi e metodi, i metodi che vi serviranno sono:\n",
    "    * `get_subject_list()` : questo metodo restituisce un dizionario contenente tutte le categorie della collana di libri Adelphi e il codice numerico a cui sono associate sul sito.\n",
    "    * `get_subject_books(category_code)` : questo metodo riceve il codice numerico (**come intero**) di una categoria e restituisce due dizionari: \n",
    "        * Il primo ha come chiave i titoli dei libri appartenenti alla categoria e come valori svariati dati ad essi inerenti (Autore, prezzo, anno di stampa dell'ultima edizione, etc.)\n",
    "        * Il secondo ha come chiavi gli ISBN (codice univoco diverso da libro a libro) e come valori i titoli dei libri associati.\n",
    "\n",
    "\n"
   ]
  },
  {
   "cell_type": "code",
   "execution_count": 13,
   "metadata": {
    "id": "TJl4Yq15njPs",
    "scrolled": true
   },
   "outputs": [
    {
     "name": "stdout",
     "output_type": "stream",
     "text": [
      "{54: 'Aforismi e frammenti', 49: 'Antichità classica', 30: 'Antropologia', 71: 'Architettura', 26: 'Arte', 3: 'Autobiografie', 25: 'Biografie', 50: 'Biologia', 82: 'Buddhismo', 63: 'Cina', 12: 'Cinema', 70: 'Civiltà arcaiche', 15: 'Classici greci e latini', 88: 'Cosmologia', 11: 'Cristianesimo', 19: 'Critica della cultura', 18: 'Critica e storia letteraria', 87: 'Cucina', 53: 'Diari', 85: 'Diritto', 45: 'Ebraismo e letteratura ebraica', 9: 'Economia', 76: 'Editoria', 90: 'Egittologia', 4: 'Epistolari', 44: 'Eros', 60: 'Etologia', 75: 'Fantascienza', 33: 'Filosofia', 62: 'Filosofia della scienza', 28: 'Fisica', 55: 'Fotografia', 66: 'Giappone', 42: 'Giardinaggio', 67: 'Giochi', 6: 'India', 17: 'Interviste', 68: 'Islam', 93: 'Letteratura coreana', 16: 'Letteratura di viaggi', 91: 'Letteratura ellenica', 84: 'Letteratura fantastica', 21: 'Letteratura francese', 1: 'Letteratura inglese', 8: 'Letteratura italiana', 47: 'Letteratura mitteleuropea', 74: 'Letteratura neerlandese', 13: 'Letteratura nordamericana', 79: \"Letteratura per l'infanzia\", 10: 'Letteratura portoghese e brasiliana', 92: 'Letteratura romena', 32: 'Letteratura spagnola e iberoamericana', 69: 'Letteratura turca', 7: 'Letterature di lingua tedesca', 37: 'Letterature scandinave', 5: 'Letterature slave', 78: 'Lezioni e conversazioni', 39: 'Libelli', 65: 'Linguistica', 29: 'Matematica', 64: 'Medicina', 61: 'Mistici occidentali', 27: 'Mitologie', 43: 'Musica', 59: 'Neuroscienze', 89: 'Paleontologia', 52: 'Poesia', 58: 'Politica', 80: 'Polizieschi', 46: 'Prose saggistiche', 35: 'Psicologia / Psicoanalisi / Psichiatria', 31: 'Quaderni', 20: 'Reportage', 22: 'Ritratti', 36: 'Scienze cognitive', 57: 'Simbolica', 48: 'Sociologia', 86: 'Spettacolo', 83: 'Storia antica', 56: 'Storia contemporanea', 81: 'Storia del gusto', 51: 'Storia della scienza', 34: 'Storia delle idee', 14: 'Storia medioevale', 40: 'Storia moderna', 41: 'Teatro', 72: 'Tecniche del corpo', 23: 'Testi cinesi', 2: 'Testi indiani', 73: 'Testi islamici', 77: 'Testi medioevali', 38: 'Testimonianze', 24: 'Testi tibetani'}\n"
     ]
    },
    {
     "data": {
      "text/plain": [
       "({'I diari bollenti di Mary Astor': {'Autore': 'Edward Sorel',\n",
       "   'Anno': '2017',\n",
       "   'Prezzo Originale': '20.00',\n",
       "   'Sconto': '-5%',\n",
       "   'Pagine': '169',\n",
       "   'Abstract': '\\n Il segreto che rende questo libro anche fisicamente diverso da qualsiasi altro non è il fascino di un vecchio processo a Hollywood, anche se lo scandalo che trascinò Mary Astor dal set di Infedeltà in aula è stato uno dei più rumorosi – e, per la stampa, più succulenti – che la storia ancora giovane, ma già parecchio movimentata, di Tinseltown avesse fino a quel momento conosciuto. \\n'},\n",
       "  'Gypsy': {'Autore': 'Gypsy Rose Lee',\n",
       "   'Anno': '2017',\n",
       "   'Prezzo Originale': '14.00',\n",
       "   'Sconto': '-5%',\n",
       "   'Pagine': '169',\n",
       "   'Abstract': '«La presentazione italiana di Gypsy – le memorie della regina dello striptease Gypsy Rose Lee – fa risuonare fior di campanelli (altro che la famosa “madeleine” proustiana), perché riporta alla memoria quel mirabile musical che ne fu tratto nel ’59: una delle più fantastiche stagioni di Broadway ... Gypsy, Bildungsroman moderno esemplare per crudeltà...'},\n",
       "  'Eros e Qabbalah': {'Autore': 'Moshe Idel',\n",
       "   'Anno': '2011',\n",
       "   'Prezzo Originale': '28.00',\n",
       "   'Sconto': '-5%',\n",
       "   'Pagine': '416',\n",
       "   'Abstract': 'Il maschile, il femminile e le relazioni erotiche che ne derivano costituiscono, fin dall’epoca più remota, anche un modo di pensare le coppie di elementi opposti o complementari e i rapporti che fra essi intercorrono. In Occidente, alla tradizione di pensiero che da Empedocle e dal Simposio di Platone giunge sino ai testi ermetici si affianca quella ebraica, e più specificamente...'},\n",
       "  'Kamasutra': {'Autore': 'Amori leciti e illeciti, tattiche di seduzione, cataloghi di carezze, gemiti e percosse, posizioni erotiche raccomandate o da evitare, suggerimenti ai mariti e alle mogli, consigli alle cortigiane su come intrecciare o troncare una relazione, sguardi indiscreti sugli svaghi dei ginecei reali, e poi varie tipologie umane, descrizioni di passatempi, regole di bon ton, norme dietetiche, istruzioni per...',\n",
       "   'Anno': '2011',\n",
       "   'Prezzo Originale': '32.00',\n",
       "   'Sconto': '-5%',\n",
       "   'Pagine': '416',\n",
       "   'Abstract': 'Amori leciti e illeciti, tattiche di seduzione, cataloghi di carezze, gemiti e percosse, posizioni erotiche raccomandate o da evitare, suggerimenti ai mariti e alle mogli, consigli alle cortigiane su come intrecciare o troncare una relazione, sguardi indiscreti sugli svaghi dei ginecei reali, e poi varie tipologie umane, descrizioni di passatempi, regole di bon ton, norme dietetiche, istruzioni per...'},\n",
       "  'La trappola della giumenta': {'Autore': 'I manoscritti del Kāmasūtra, il trattato sull’arte erotica composto in India intorno al III secolo d.C., erano spesso miniati, ma nessuno degli esemplari più antichi è sopravvissuto. A risarcirci di quella perdita provvedono le mirabili miniature eseguite nel Bikaner (India settentrionale) nell’ultimo scorcio del XVII secolo, probabilmente ascrivibili all’artista noto con il nome di Ruknuddin.',\n",
       "   'Anno': '2007',\n",
       "   'Prezzo Originale': '12.00',\n",
       "   'Sconto': '-5%',\n",
       "   'Pagine': '371',\n",
       "   'Abstract': 'I manoscritti del Kāmasūtra, il trattato sull’arte erotica composto in India intorno al III secolo d.C., erano spesso miniati, ma nessuno degli esemplari più antichi è sopravvissuto. A risarcirci di quella perdita provvedono le mirabili miniature eseguite nel Bikaner (India settentrionale) nell’ultimo scorcio del XVII secolo, probabilmente ascrivibili all’artista noto con il nome di Ruknuddin.'},\n",
       "  'Anatomia dell’immagine': {'Autore': 'Hans Bellmer',\n",
       "   'Anno': '2007',\n",
       "   'Prezzo Originale': '8.00',\n",
       "   'Sconto': '-5%',\n",
       "   'Pagine': '371',\n",
       "   'Abstract': 'Molto si parla, e si è parlato, del corpo negli ultimi decenni. Ma era rimasto sinora destinato a una circolazione esoterica questo breve, eversivo, trattato di Hans Bellmer, il pittore che, insieme a Max Ernst, seppe immettere nel surrealismo una carica demoniaca che traeva le sue origini dal primo Romanticismo tedesco. Fin dagli anni Trenta, quando inventò la sua perversa Bambola –...'},\n",
       "  'Mio padre e io': {'Autore': 'J.R. Ackerley',\n",
       "   'Anno': '2003',\n",
       "   'Prezzo Originale': '11.00',\n",
       "   'Sconto': '-5%',\n",
       "   'Pagine': '335',\n",
       "   'Abstract': 'La morte del padre e la scoperta dei suoi segreti dà al figlio la spinta per rivelare quella parte di sé che gli aveva sempre celato: la propria omosessualità, raccontata in un tono asciutto, ironico, idiosincratico, con il tocco di un maestro della prosa.'},\n",
       "  'Le mie confessioni': {'Autore': 'Wanda von Sacher-Masoch',\n",
       "   'Anno': '2003',\n",
       "   'Prezzo Originale': '12.00',\n",
       "   'Sconto': '-5%',\n",
       "   'Pagine': '335',\n",
       "   'Abstract': '«Spero di poterla vedere prestissimo. Aspetto con ansia di poterle esporre la mia visione del mondo, e di essere frustato da Lei. Non dimentichi dunque... con la pelliccia». Così scriveva Leopold von Sacher-Masoch alla giovane Aurora Rümelin, che assumerà poi il nome di Wanda. Wanda si mostrò più che comprensiva, e disposta a seguirlo sia in un regolare...'},\n",
       "  'Senza domani': {'Autore': 'Vivant Denon',\n",
       "   'Anno': '2003',\n",
       "   'Prezzo Originale': '11.00',\n",
       "   'Sconto': '-5%',\n",
       "   'Pagine': '77',\n",
       "   'Abstract': 'A Parigi, una qualche sera di uno degli ultimi anni dell’Ancien Régime, un gruppo di amici si pose la seguente questione: è possibile raccontare una storia erotica senza usare parole indecenti? Pensavano tutti di no, salvo il giovane Vivant Denon. Per dimostrare la sua tesi, Denon scrisse allora Senza domani, un racconto che oggi ci appare come un vertice della letteratura erotica.'},\n",
       "  'Vita privata del maresciallo di Richelieu': {'Autore': 'Il maresciallo di Richelieu fu un illustre condottiero, ma ancora più illustre come conquistatore, e quasi predatore, di donne. Già a quindici anni si nascondeva dietro le tende della duchessa di Borgogna, Delfina di Francia. E da allora sino alla sua estrema vecchiaia di «macchina galante» non cessò mai di ordire intrighi con donne di ogni rango, suscitando una quantità...',\n",
       "   'Anno': '2003',\n",
       "   'Prezzo Originale': '12.00',\n",
       "   'Sconto': '-5%',\n",
       "   'Pagine': '77',\n",
       "   'Abstract': 'Il maresciallo di Richelieu fu un illustre condottiero, ma ancora più illustre come conquistatore, e quasi predatore, di donne. Già a quindici anni si nascondeva dietro le tende della duchessa di Borgogna, Delfina di Francia. E da allora sino alla sua estrema vecchiaia di «macchina galante» non cessò mai di ordire intrighi con donne di ogni rango, suscitando una quantità...'},\n",
       "  'La vita sessuale nell’antica Cina': {'Autore': 'R.H. Van Gulik',\n",
       "   'Anno': '1987',\n",
       "   'Prezzo Originale': '42.00',\n",
       "   'Sconto': '-5%',\n",
       "   'Pagine': '451',\n",
       "   'Abstract': 'Nel 1949, l’illustre sinologo e diplomatico olandese R.H. van Gulik trovò da un antiquario di Tokyo le matrici xilografiche di un album erotico cinese dell’epoca Ming, dal titolo Variegati ordini di battaglia del Campo fiorito. L’estrema rarità di questo album lo spinse all’idea di pubblicarlo con una prefazione che tratteggiasse la storia dell’arte erotica cinese.'},\n",
       "  'Sull’amore': {'Autore': 'Plutarco',\n",
       "   'Anno': '1987',\n",
       "   'Prezzo Originale': '12.00',\n",
       "   'Sconto': '-5%',\n",
       "   'Pagine': '451',\n",
       "   'Abstract': 'Ismenodora, giovane vedova irreprensibile, molto ricca e di grande bellezza, si innamora del ragazzo Baccone e si propone di sposarlo. Con audacia, addirittura lo fa rapire. Ma Baccone è desiderato anche da altri giovani, che si indignano contro Ismenodora. Chi avrà ragione? Chi difende la normalità dell’amore omosessuale? O chi difende la stranezza di un matrimonio con ratto...'},\n",
       "  'Gitagovinda': {'Autore': 'Jayadeva',\n",
       "   'Anno': '1986',\n",
       "   'Prezzo Originale': '14.00',\n",
       "   'Sconto': '-5%',\n",
       "   'Pagine': '162',\n",
       "   'Abstract': 'Il Gītagovinda, «il pastore del canto», è uno dei grandi testi dell’eros indiano – celebrazione della voluttà senza soggetto e insieme delle nozze dell’anima con Dio, che qui appare come il giovane Krsna «inghirlandato di bosco», incarnazione di Visnu. Il Gītagovinda canta le sue inesauribili avventure d’amore con le molte pastorelle...'},\n",
       "  'Simposio': {'Autore': 'Platone',\n",
       "   'Anno': '1986',\n",
       "   'Prezzo Originale': '10.00',\n",
       "   'Sconto': '-5%',\n",
       "   'Pagine': '162',\n",
       "   'Abstract': 'Se esiste il testo sull’amore nella nostra civiltà, a cui ogni testo successivo non può che ricondursi, questo è il Simposio, il dialogo di Platone che più di ogni altro ha mantenuto intatto il «fiore della gioventù» e ci si offre naturalmente non già come una disputa filosofica, ma come una lunga conversazione – forse la più bella conversazione...'},\n",
       "  'Memorie di una maîtresse americana': {'Autore': 'Nell Kimball',\n",
       "   'Anno': '1982',\n",
       "   'Prezzo Originale': '12.00',\n",
       "   'Sconto': '-5%',\n",
       "   'Pagine': '187',\n",
       "   'Abstract': '«Ogni ragazza siede sulla sua fortuna, e non lo sa» disse la zia Letty alla nipote Nell Kimball, che aveva allora otto anni. E si può dire che tutta la vita di Nell – prima come puttana di bordello, poi come mantenuta, infine come tenutaria essa stessa di bordelli di lusso a New Orleans e a San Francisco, da lei innalzati a una sorta di perfezione – sia stata un adeguato, intelligentissimo...'},\n",
       "  'Le dame romane': {'Autore': 'Pierre Klossowski',\n",
       "   'Anno': '1982',\n",
       "   'Prezzo Originale': '9.00',\n",
       "   'Sconto': '-5%',\n",
       "   'Pagine': '187',\n",
       "   'Abstract': 'Come avvenne che illustri matrone romane furono coinvolte in scandali erotici connessi con il culto della Bona Dea? Quale senso avevano le sopravvivenze della prostituzione sacra nella Roma antica? E certi ludi scenici apparentemente blasfemi? Con la sua rabdomantica sottigliezza, con una sensibilità pronta a captare aspetti ambigui e segreti dell’antichità, Klossowski ha provato a rispondere...'}},\n",
       " {'9788845931994': 'I diari bollenti di Mary Astor',\n",
       "  '9788845926099': 'Gypsy',\n",
       "  '9788845922336': 'Eros e Qabbalah',\n",
       "  '9788845917844': 'Kamasutra',\n",
       "  '9788845918292': 'La trappola della giumenta',\n",
       "  '9788845916564': 'Anatomia dell’immagine',\n",
       "  '9788845915253': 'Mio padre e io',\n",
       "  '9788845914126': 'Le mie confessioni',\n",
       "  '9788845906855': 'Senza domani',\n",
       "  '9788845907005': 'Vita privata del maresciallo di Richelieu',\n",
       "  '9788845902710': 'La vita sessuale nell’antica Cina',\n",
       "  '9788845906497': 'Sull’amore',\n",
       "  '9788845905070': 'Gitagovinda',\n",
       "  '9788845903915': 'Simposio',\n",
       "  '9788845902031': 'Memorie di una maîtresse americana',\n",
       "  '9788845901621': 'Le dame romane'})"
      ]
     },
     "execution_count": 13,
     "metadata": {},
     "output_type": "execute_result"
    }
   ],
   "source": [
    "## Come prima cosa istanziate un oggetto di classe AdelphiScraper e provate ad utilizzare i due metodi sopra descritti per osservarne l'output,\n",
    "## questa operazione è molto importante al fine di capire bene quali sono le strutture dati a vostra dispozione.\n",
    "## ATTENZIONE : osservate bene quali sono i tipi dei dati contenuti nelle strutture che riceverete in output, più avanti avrete bisogno di farvi operazioni o conversioni.\n",
    "\n",
    "Ad_Scraper = AdelphiScraper()\n",
    "print(Ad_Scraper.get_subject_list())\n",
    "Ad_Scraper.get_subject_books(44)"
   ]
  },
  {
   "cell_type": "code",
   "execution_count": 22,
   "metadata": {},
   "outputs": [
    {
     "ename": "AttributeError",
     "evalue": "'tuple' object has no attribute 'isbns'",
     "output_type": "error",
     "traceback": [
      "\u001b[1;31m---------------------------------------------------------------------------\u001b[0m",
      "\u001b[1;31mAttributeError\u001b[0m                            Traceback (most recent call last)",
      "\u001b[1;32m<ipython-input-22-362fddc487ee>\u001b[0m in \u001b[0;36m<module>\u001b[1;34m\u001b[0m\n\u001b[1;32m----> 1\u001b[1;33m \u001b[0mAd_Scraper\u001b[0m\u001b[1;33m.\u001b[0m\u001b[0mget_subject_books\u001b[0m\u001b[1;33m(\u001b[0m\u001b[1;36m44\u001b[0m\u001b[1;33m)\u001b[0m\u001b[1;33m.\u001b[0m\u001b[0misbns\u001b[0m\u001b[1;33m\u001b[0m\u001b[1;33m\u001b[0m\u001b[0m\n\u001b[0m",
      "\u001b[1;31mAttributeError\u001b[0m: 'tuple' object has no attribute 'isbns'"
     ]
    }
   ],
   "source": []
  },
  {
   "cell_type": "markdown",
   "metadata": {
    "id": "hVALXmT6meTC"
   },
   "source": [
    "# Creazione di una libreria digitale\n",
    "Richieste dell'esercizio:\n",
    "\n",
    "*   Implementare la classe `Book(ISBN)`: questa classe dovrà essere inizializzata soltanto dall'ISBN di un libro, utilizzando AdelphiScraper dovrà essere in grado di inizializzarsi con i seguenti attributi:\n",
    "    *   `self.ISBN` : ISBN del libro.\n",
    "    *   `self.title` : il titolo del libro.\n",
    "    *   `self.print_year` : l'anno dell'ultima ristampa.\n",
    "    *   `self.author` : l'autore del libro.\n",
    "    *   `self.abstract` : abstract del libro.\n",
    "    *   `self.pages` : numero di pagine del libro.\n",
    "    *   `self.category` : categoria a cui appartiene il libro.\n",
    "\n",
    "  **Suggerimento**: tutte queste informazioni devono essere reperite con varie chiamate ai metodi di AdelphiScraper e tramite trasformazioni alle strutture dati ricevute, si consiglia caldamente di chiamare AdelphiScraper esternamente e creare una struttura dati adeguata a cercare tutte le informazioni velocemente dato **soltanto** l'ISBN di un libro, a quel punto la classe Book potrà attingere da lì senza connettersi allo scraper in ogni sua istanza.\n",
    "\n",
    "  Dovrà inoltre possedere i seguenti metodi:\n",
    "    *   `get_whole_price(self)` : restituirà il prezzo lordo del libro usando AdelphiScraper.\n",
    "    *   `get_net_price(self)` : restituirà il prezzo netto del libro usando AdelphiScraper.\n",
    "    *   `print_book_infos(self)` : stamperà in output le varie informazioni sul libro.\n",
    "    *   `abstract_len` : restituisce lunghezza dell'abstract del libro\n",
    "\n",
    "* Vi è richiesto di digitalizzare le informazioni di alcuni libri, creare una classe chiamata `MyLibrary(ISBN_list)` che possa essere inizializzata soltanto con una lista di ISBN. In modo simile alla classe `Book(ISBN)` questa dovrà far uso di AdelphiScraper per collezionare le informazioni di tutti i libri in essa contenuti, si suggerisce l'utilizzo di dizionari e oggetti di tipo Book come strutture dati replicando gli stessi attributi e metodi (in questi ultimi si possa specificare il libro del quale siamo interessati al prezzo, all'abstract etc.).\n",
    "La classe dovrà inoltre avere i seguenti metodi:\n",
    "    * `insert_book(self, ISBN) `: inserisca nella libreria l'oggetto di tipo Book corrispondente all'ISBN passato.\n",
    "    * `remove_book(self, ISBN) `: rimuova dall libreria l'oggetto di tipo Book corrispondente all'ISBN passato.\n",
    "    * `get_library_value(self) `: restituirà il valore totale (dato dai prezzi) dei libri contenuti nella libreria, sia lordo che al netto degli sconti.\n",
    "    * `get_total_pages(self) ` : restituirà il numero totale di pagine dei libri nella nostra libreria\n",
    "    * `get_categories_number(self) ` : restituirà il numero di categorie differenti che sono presenti nella nostra libreria.\n",
    "\n",
    "* Introduciamo il concetto di libri \"vicini\": diciamo che due libri sono vicini se appartengono alla stessa categoria **oppure** il loro ISBN modulo 3 è lo stesso: se ad esempio due libri hanno come ISBN 134434**6** e ISBN 294823**9** questi avranno entrambi ISBN modulo 3 uguale a 0 e saranno vicini.\n",
    "    * Si inserisca nella classe `Book(ISBN)` il metodo `is_near(self, book_2)` che restituisca `True` se l'oggetto di tipo Book passato in input è vicino al libro rappresentato dall'oggetto Book che chiama il metodo, `False` altrimenti.\n",
    "```\n",
    "b1 = Book(123456)\n",
    "b2 = Book(123456789)\n",
    "b1.is_near(b2)\n",
    ">> True\n",
    "```\n",
    "    * Si inserisca nella classe `MyLibrary(ISBN_list)` il metodo `minimum_path(self, start_ISBN, end_ISBN) ` che riceve in input due ISBN appartenenti alla libreria, uno iniziale ed uno finale, e restituisca la lista ordinata degli ISBN dei libri facenti parte della libreria da cui bisogna passare per arrivare da quello iniziale a quello finale. Tuttavia, è possibile passare da un libro ad un altro solo se sono vicini, questa funzione deve restituire la sequenza di passaggi di lunghezza **più breve** per arrivare a destinazione.\n",
    "    * Si inserisca nella classe `MyLibrary(ISBN_list)` il metodo `minimum_cost_path(self, start_ISBN, end_ISBN) `, una versione alternativa del metodo precedente che invece che il cammino di lunghezza minore restituisce quello con il costo **netto** totale dei libri facenti parte del cammino minore possibile.\n",
    "\n",
    "Si usino i seguenti ISBN come caso prova delle varie implementazioni:\n",
    "\n",
    "Cose che potrebbero esservi utili: \n",
    "  * Attributi dei dizionari: .keys(), .values(), ...\n",
    "  * Teoria dei grafi\n",
    "  "
   ]
  },
  {
   "cell_type": "code",
   "execution_count": null,
   "metadata": {},
   "outputs": [],
   "source": [
    "class Book(ISBN):\n",
    "    def __init__(self):\n",
    "        self.ISBN = ISBN\n",
    "        self.title = title\n",
    "        self.print_year = print_year\n",
    "        self.author = author\n",
    "        self.abstract = abstract\n",
    "        self.pages = pages\n",
    "        self.category = category"
   ]
  }
 ],
 "metadata": {
  "colab": {
   "authorship_tag": "ABX9TyNztnY58LrNzNTbzrZACDHp",
   "collapsed_sections": [],
   "name": "adelphi_scraping.ipynb",
   "provenance": []
  },
  "kernelspec": {
   "display_name": "Python 3",
   "language": "python",
   "name": "python3"
  },
  "language_info": {
   "codemirror_mode": {
    "name": "ipython",
    "version": 3
   },
   "file_extension": ".py",
   "mimetype": "text/x-python",
   "name": "python",
   "nbconvert_exporter": "python",
   "pygments_lexer": "ipython3",
   "version": "3.8.5"
  }
 },
 "nbformat": 4,
 "nbformat_minor": 1
}
