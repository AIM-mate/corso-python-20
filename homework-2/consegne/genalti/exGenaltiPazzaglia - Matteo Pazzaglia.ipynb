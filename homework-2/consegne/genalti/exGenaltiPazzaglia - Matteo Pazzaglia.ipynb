{
 "cells": [
  {
   "cell_type": "markdown",
   "metadata": {
    "id": "myLz0ycsuMMY"
   },
   "source": [
    "#Web scraping del sito della collana di libri Adelphi \n",
    "Una delle task più comuni per cui viene impiegato Python è il così detto **web scraping**. Il web scraping consiste nell'automatizzare l'ottenimento di alcune informazioni dal web tramite un codice e di utilizzarle di conseguenza. La qualità e la semplicità nell'ottenimento delle informazioni è dato solitamente dalla struttura della fonte: alcuni siti sono molto più semplici da navigare mentre altri possono essere più complessi. Per questo motivo il web scraping è spesso molto complesso. \n",
    "In questo esercizio vi verrà fornito uno scraper già fatto in grado di ottenere informazioni dal catalogo online della nota collana di **libri Adelphi** (https://www.adelphi.it/): calandovi nei panni di un avido lettore e collezionista di libri, il vostro obiettivo sarà di utilizzarlo per digitalizzare interamente la vostra collezione di libri, in modo da poter velocemente controllare l'inventario dei vostri libri ed alcune informazioni a riguardo con un semplice comando ogni volta che lo vorrete."
   ]
  },
  {
   "cell_type": "code",
   "execution_count": 1,
   "metadata": {
    "colab": {
     "base_uri": "https://localhost:8080/",
     "height": 124
    },
    "executionInfo": {
     "elapsed": 6465,
     "status": "ok",
     "timestamp": 1602763937339,
     "user": {
      "displayName": "Corso Python",
      "photoUrl": "https://lh3.googleusercontent.com/a-/AOh14GhUJnZlNXXV-eAoMnBindJd9r8g8VQoai18e-XA=s64",
      "userId": "02320948615677398231"
     },
     "user_tz": -120
    },
    "id": "D_37H-lC7lK3",
    "outputId": "aaa4db14-6f1b-46a4-e8c1-0bc34f97463b"
   },
   "outputs": [
    {
     "name": "stdout",
     "output_type": "stream",
     "text": [
      "Requirement already satisfied: requests in c:\\users\\pazma\\anaconda3\\lib\\site-packages (2.23.0)\n",
      "Requirement already satisfied: certifi>=2017.4.17 in c:\\users\\pazma\\anaconda3\\lib\\site-packages (from requests) (2019.11.28)\n",
      "Requirement already satisfied: urllib3!=1.25.0,!=1.25.1,<1.26,>=1.21.1 in c:\\users\\pazma\\anaconda3\\lib\\site-packages (from requests) (1.25.8)\n",
      "Requirement already satisfied: idna<3,>=2.5 in c:\\users\\pazma\\anaconda3\\lib\\site-packages (from requests) (2.9)\n",
      "Requirement already satisfied: chardet<4,>=3.0.2 in c:\\users\\pazma\\anaconda3\\lib\\site-packages (from requests) (3.0.4)\n",
      "Requirement already satisfied: beautifulsoup4 in c:\\users\\pazma\\anaconda3\\lib\\site-packages (4.8.2)\n",
      "Requirement already satisfied: soupsieve>=1.2 in c:\\users\\pazma\\anaconda3\\lib\\site-packages (from beautifulsoup4) (2.0)\n"
     ]
    }
   ],
   "source": [
    "# IMPORTANTE\n",
    "# questa cella di codice serve ad installare nel vostro Python due tra i principali strumenti di web scraping: beautiful soup e requests.\n",
    "# qualora di fossero problemi con la loro installazione o import non esitate a contattarci\n",
    "!pip install requests\n",
    "!pip install beautifulsoup4"
   ]
  },
  {
   "cell_type": "markdown",
   "metadata": {
    "id": "DucKAxg-6g50"
   },
   "source": [
    "# Implementazione dello scraper\n",
    "Come anticipato, non vi sarà richiesto di implementare lo scraper. Tuttavia gli interessati possono trovare informazioni su come utilizzare al meglio le due librerie per lo scraping *requests* e *beautifulsoup* e cercare di comprendere il codice della classe AdelphiScraper. Se non siete tra questi potete saltare alla prossima sezione.\n",
    "Qui qualche risorsa:\n",
    "\n",
    "https://www.crummy.com/software/BeautifulSoup/bs4/doc/\n",
    "\n",
    "https://requests.readthedocs.io/en/master/user/quickstart/ "
   ]
  },
  {
   "cell_type": "code",
   "execution_count": 2,
   "metadata": {
    "id": "Gr5uChnzMN4a"
   },
   "outputs": [],
   "source": [
    "import requests as req\n",
    "import bs4 as bs"
   ]
  },
  {
   "cell_type": "code",
   "execution_count": 3,
   "metadata": {
    "id": "zUZulxHc7smv"
   },
   "outputs": [],
   "source": [
    "class AdelphiScraper():\n",
    "  def __init__(self):\n",
    "    self.catalog      = 'https://www.adelphi.it/catalogo/'\n",
    "    self.subject      = 'https://www.adelphi.it/catalogo/materia/'\n",
    "    self.subjects_map = self.init_subjects()\n",
    "\n",
    "  def init_subjects(self):\n",
    "    resp  = req.get(self.catalog)\n",
    "    soup  = bs.BeautifulSoup(resp.text, \"html.parser\")\n",
    "    items = soup.find_all('ul', class_='subject')\n",
    "    ret = dict()\n",
    "    for i in items:\n",
    "      for j in i:\n",
    "        ret.update({int(j.a['href'].split('/')[-1]) : j.text})\n",
    "    return ret\n",
    "\n",
    "  def get_subject_list(self):\n",
    "    return self.subjects_map\n",
    "  \n",
    "  def get_subject_books(self, subject_code):\n",
    "    page_found = True\n",
    "    suffix = ''\n",
    "    page_counter = 1\n",
    "    books = dict()\n",
    "    isbns = dict()\n",
    "    while page_found:\n",
    "      try:\n",
    "        resp = req.get(self.subject + str(subject_code) + suffix, allow_redirects = False)\n",
    "        soup = bs.BeautifulSoup(resp.text, \"html.parser\")\n",
    "        if not len(soup):\n",
    "          raise ValueError()\n",
    "        book_infos, isbn_maps = self.extract_books(soup)\n",
    "        books.update(book_infos)\n",
    "        isbns.update(isbn_maps)\n",
    "        page_counter += 1\n",
    "        suffix = '/p' + str(page_counter)\n",
    "      except:\n",
    "        page_found = False\n",
    "    return books, isbns\n",
    "\n",
    "  def extract_books(self, soup):\n",
    "    items = soup.find_all('div', class_='list_impressum')\n",
    "    items2 = soup.find_all('div', class_='data' )\n",
    "    items3 = soup.find_all('div', class_ = \"abstract hidden-xs\")\n",
    "    isbn_map  = dict()\n",
    "    book_info = dict()\n",
    "    counter = 0\n",
    "    for i in items:\n",
    "      isbn_map.update({i.a['href'].split('/')[-1] : i.a.text}) #isbn : titolo\n",
    "      book_info.update({i.a.text : {'Autore': i.div.text, \\\n",
    "                                    'Anno': items2[counter].text.split(' ')[0].split(',')[0], \\\n",
    "                                    'Prezzo Originale' : i.span.text.split(' ')[1].replace(',','.'), \\\n",
    "                                    'Sconto': i.span.text.split(' ')[2], \\\n",
    "                                    'Pagine' :items2[counter].text.split(' ')[2].split(',')[0].split('-')[-1], \\\n",
    "                                    'Abstract': items3[counter].text}})\n",
    "      counter += 1\n",
    "    return book_info, isbn_map"
   ]
  },
  {
   "cell_type": "markdown",
   "metadata": {
    "id": "iwoSPBLFkHDm"
   },
   "source": [
    "#Utilizzo della classe AdelphiScraper\n",
    "\n",
    "*   La classe AdelphiScraper non richiede alcun argomento di inizializzazione.\n",
    "*   Essendo un WebScraper richiede ovviamente la connessione ad internet.\n",
    "*   Essa contiene al suo interno diversi attributi e metodi, i metodi che vi serviranno sono:\n",
    "    * `get_subject_list()` : questo metodo restituisce un dizionario contenente tutte le categorie della collana di libri Adelphi e il codice numerico a cui sono associate sul sito.\n",
    "    * `get_subject_books(category_code)` : questo metodo riceve il codice numerico (**come intero**) di una categoria e restituisce due dizionari: \n",
    "        * Il primo ha come chiave i titoli dei libri appartenenti alla categoria e come valori svariati dati ad essi inerenti (Autore, prezzo, anno di stampa dell'ultima edizione, etc.)\n",
    "        * Il secondo ha come chiavi gli ISBN (codice univoco diverso da libro a libro) e come valori i titoli dei libri associati.\n",
    "\n",
    "\n"
   ]
  },
  {
   "cell_type": "code",
   "execution_count": 4,
   "metadata": {
    "id": "TJl4Yq15njPs"
   },
   "outputs": [
    {
     "name": "stdout",
     "output_type": "stream",
     "text": [
      "{54: 'Aforismi e frammenti', 49: 'Antichità classica', 30: 'Antropologia', 71: 'Architettura', 26: 'Arte', 3: 'Autobiografie', 25: 'Biografie', 50: 'Biologia', 82: 'Buddhismo', 63: 'Cina', 12: 'Cinema', 70: 'Civiltà arcaiche', 15: 'Classici greci e latini', 88: 'Cosmologia', 11: 'Cristianesimo', 19: 'Critica della cultura', 18: 'Critica e storia letteraria', 87: 'Cucina', 53: 'Diari', 85: 'Diritto', 45: 'Ebraismo e letteratura ebraica', 9: 'Economia', 76: 'Editoria', 90: 'Egittologia', 4: 'Epistolari', 44: 'Eros', 60: 'Etologia', 75: 'Fantascienza', 33: 'Filosofia', 62: 'Filosofia della scienza', 28: 'Fisica', 55: 'Fotografia', 66: 'Giappone', 42: 'Giardinaggio', 67: 'Giochi', 6: 'India', 17: 'Interviste', 68: 'Islam', 93: 'Letteratura coreana', 16: 'Letteratura di viaggi', 91: 'Letteratura ellenica', 84: 'Letteratura fantastica', 21: 'Letteratura francese', 1: 'Letteratura inglese', 8: 'Letteratura italiana', 47: 'Letteratura mitteleuropea', 74: 'Letteratura neerlandese', 13: 'Letteratura nordamericana', 79: \"Letteratura per l'infanzia\", 10: 'Letteratura portoghese e brasiliana', 92: 'Letteratura romena', 32: 'Letteratura spagnola e iberoamericana', 69: 'Letteratura turca', 7: 'Letterature di lingua tedesca', 37: 'Letterature scandinave', 5: 'Letterature slave', 78: 'Lezioni e conversazioni', 39: 'Libelli', 65: 'Linguistica', 29: 'Matematica', 64: 'Medicina', 61: 'Mistici occidentali', 27: 'Mitologie', 43: 'Musica', 59: 'Neuroscienze', 89: 'Paleontologia', 52: 'Poesia', 58: 'Politica', 80: 'Polizieschi', 46: 'Prose saggistiche', 35: 'Psicologia / Psicoanalisi / Psichiatria', 31: 'Quaderni', 20: 'Reportage', 22: 'Ritratti', 36: 'Scienze cognitive', 57: 'Simbolica', 48: 'Sociologia', 86: 'Spettacolo', 83: 'Storia antica', 56: 'Storia contemporanea', 81: 'Storia del gusto', 51: 'Storia della scienza', 34: 'Storia delle idee', 14: 'Storia medioevale', 40: 'Storia moderna', 41: 'Teatro', 72: 'Tecniche del corpo', 23: 'Testi cinesi', 2: 'Testi indiani', 73: 'Testi islamici', 77: 'Testi medioevali', 38: 'Testimonianze', 24: 'Testi tibetani'}\n",
      "<class 'dict'>\n",
      "({'Il tango': {'Autore': 'Jorge Luis Borges', 'Anno': '2019', 'Prezzo Originale': '14.00', 'Sconto': '-5%', 'Pagine': '170', 'Abstract': 'Il tango, è stato scritto, è «un pensiero triste che si balla». Ma la malinconia del tango, la sua natura di scena drammatica, di lamento amoroso, di ballo lento, languido e voluttuoso, sono legate al periodo in cui si afferma nelle capitali europee (a Parigi, anzitutto) e viene universalmente accettato. Un periodo che a Borges poco interessa, perché nulla ha a che vedere...'}, 'Il viandante musicale': {'Autore': 'Mario Bortolotto', 'Anno': '2019', 'Prezzo Originale': '32.00', 'Sconto': '-5%', 'Pagine': '170', 'Abstract': \"\\n Per oltre cinquant'anni, a partire da Chopin o del timbro, Mario Bortolotto è stato la guida indispensabile per chiunque volesse avventurarsi in quel territorio sconfinato e irto di pericoli che è la musica moderna (dal Lied romantico all'Ottocento russo e francese, all’Opera, passando per Wagner e Strauss, fino alla Nuova Musica). \\n\"}, 'Abbecedario di un pianista': {'Autore': 'Alfred Brendel', 'Anno': '2018', 'Prezzo Originale': '12.00', 'Sconto': '-5%', 'Pagine': '517', 'Abstract': \"«Questo libro è il distillato di quanto ho da dire, in età avanzata, sulla musica, sui musicisti e su questioni relative alla mia professione» dichiara Al\\xadfred Brendel, che, scegliendo la forma dell'ab\\xadbe\\xadcedario musicale – da «Accenti» a «Zarzuela per pia\\xadnoforte solo» –, rivela ancora una volta la sua duplice natura di musicista...\"}, 'Lo stile classico': {'Autore': 'Charles Rosen', 'Anno': '2018', 'Prezzo Originale': '65.00', 'Sconto': '-5%', 'Pagine': '517', 'Abstract': \"Se c'è un'epoca nella storia della musica che si possa definire aurea, certamente è quella del «grande triumvirato»: i sei-sette decenni – dai primi exploit compositivi del giovane Haydn (mentre Mozart già stupiva l'Europa) alla morte di Beethoven nel 1827 – che videro nascere «un'arte nuova». Benché divisi da «caratteri diversissimi...\"}, 'Fogli multicolori': {'Autore': 'Mario Bortolotto', 'Anno': '2014', 'Prezzo Originale': '30.00', 'Sconto': '-5%', 'Pagine': '156', 'Abstract': 'Nuovo invito a un attraversamento della musica per aspera ad astra, Fogli multicolori raccoglie una vasta scelta degli articoli che nel corso di questi ultimi anni sono andati depositandosi sulle pagine di un quotidiano. Schoenberg, Strauss, Schumann, Stockhausen, Mahler, Debussy, Monteverdi, Strawinsky, Bartók, Janáček, Ives, Ligeti: sono solo alcuni dei luoghi musicali su cui...'}, 'Pensieri verticali': {'Autore': 'Morton Feldman', 'Anno': '2014', 'Prezzo Originale': '30.00', 'Sconto': '-5%', 'Pagine': '156', 'Abstract': \"Come un rosario di suoni sgranati, come un mulino tibetano regolato da una pazienza celeste: così, nelle parole di Mario Bortolotto, apparve la musica quieta e smisurata di Morton Feldman all'orizzonte della Neue Musik. Ma se la novità radicale rappresentata dall'irruzione di Feldman sulla scena newyorkese fu in quel modo di comporre diverso da ogni altro (compreso quello del suo maestro...\"}, 'Corrispondenze': {'Autore': 'Mario Bortolotto', 'Anno': '2013', 'Prezzo Originale': '36.00', 'Sconto': '-5%', 'Pagine': '626', 'Abstract': 'Un Mozart assai meno apollineo di come viene solitamente dipinto, un Mendelssohn tragico e moderno e un Verdi anziano, saturo di vitalità e contraddizioni; una lettera al «cavaliere Gluck», l’intervista che Brahms decise di rilasciare in esclusiva ai posteri e le feroci critiche di Hindemith e Strawinsky allo «spaventoso gigante» Beethoven: sono solo alcune delle...'}, 'Musicofilia': {'Autore': 'Oliver Sacks', 'Anno': '2013', 'Prezzo Originale': '15.00', 'Sconto': '-5%', 'Pagine': '626', 'Abstract': '«Il rapporto tra il cervello e gli organi uditivi, tra questi e le emozioni, la relazione tra eccitazione vitale o depressione ferale e musica, la capacità dell’organismo di autoriparare le proprie ferite neurologiche potenziando alcune abilità per compensare quelle carenti, il rapporto tra la memoria e l’organizzazione del ritmo, sono alcuni dei temi di Sacks: ma, come...'}, 'Fase seconda': {'Autore': 'Mario Bortolotto', 'Anno': '2013', 'Prezzo Originale': '38.00', 'Sconto': '-5%', 'Pagine': '377', 'Abstract': 'Ci fu un’epoca – una breve epoca, dal 1946 al 1964 se si prendono come estremi la Sonatine di Boulez e Momente di Stockhausen – in cui il cielo della musica fu attraversato da una meteora detta nuova musica. Era un modo di comporre che dichiarava di porsi oltre Webern, quindi di là dal punto più arrischiato che la musica aveva sino allora raggiunto. Il centro irradiante,...'}, 'Ricordi e commenti': {'Autore': 'Igor’ Stravinskij, Robert Craft', 'Anno': '2013', 'Prezzo Originale': '36.00', 'Sconto': '-5%', 'Pagine': '377', 'Abstract': '«Posso andare soltanto dove i miei appetiti musicali mi portano» – così Igor’ Stravinskij riassumeva il proprio percorso compositivo, aggiungendo perentoriamente: «Non abdicherò mai alla regola del mio orecchio». Orecchio pronto a cogliere stimoli di ogni sorta, avidamente assorbiti da una curiosità sonora mai sazia e rielaborati da un ingegno...'}, 'La serpe in seno': {'Autore': 'Mario Bortolotto', 'Anno': '2007', 'Prezzo Originale': '40.00', 'Sconto': '-5%', 'Pagine': '342', 'Abstract': 'Troppo a lungo si è detto che il Novecento musicale si muoveva fra due poli – Schoenberg e Stravinskij –, finché (in anni piuttosto recenti) non ci si è resi conto della presenza di un terzo incomodo: Richard Strauss. Incompreso dai fedeli della Nuova Musica e reo di troppo successo, Strauss di fatto percorse per tutta la vita – e fino agli estremi, prodigiosi Vier...'}, 'Bach, Debussy, Strawinsky': {'Autore': 'Paolo Castaldi', 'Anno': '2007', 'Prezzo Originale': '22.00', 'Sconto': '-5%', 'Pagine': '342', 'Abstract': 'Spesso è stato detto che l’Arte della Fuga di Bach sarebbe un raggiungimento supremo della musica. Ma perché lo sia e in quale modo difficilmente si troverà spiegato. E di questo tratta invece Paolo Castaldi, con la veemenza e l’incisività che sono il sigillo dei suoi scritti, nel tentativo di illuminare ciò che qui viene definito il «Terzo Stile»...'}, 'La generazione romantica': {'Autore': 'Charles Rosen', 'Anno': '2006', 'Prezzo Originale': '20.00', 'Sconto': '-5%', 'Pagine': '184', 'Abstract': '«Si può dire con certezza che La generazione romantica di Charles Rosen – che segue Lo stile classico – sia il più importante libro di musica non solo del 1995, ma di molti anni a venire.\\nROBERT CRAFT'}, 'In nome del padre': {'Autore': 'Paolo Castaldi', 'Anno': '2006', 'Prezzo Originale': '10.00', 'Sconto': '-5%', 'Pagine': '184', 'Abstract': 'La Filosofia della musica moderna di Adorno (1949) aveva stabilito una perentoria bipolarità Schoenberg-Strawinsky. A Strawinsky toccava il ruolo del villain, del reprobo, dell’origine ideologico-compositiva di tutte le aberrazioni. Con accigliata faziosità, il testo adorniano imponeva sul panorama del grande Novecento storico il proprio quadro di riferimento. Nel 1972, in un numero...'}, 'Marescialle e libertini': {'Autore': 'Alberto Arbasino', 'Anno': '2005', 'Prezzo Originale': '25.00', 'Sconto': '-5%', 'Pagine': '791', 'Abstract': 'La grande musica del Novecento si presentava spesso agli amici come un complesso di regole senza gioco. Per gli spettatori debuttanti ‘sul campo’ nei lontani anni Cinquanta – fra i neorealismi e gli astrattismi, l’Epico e l’Assurdo, la Callas e l’Osiris e le ideologie minatorie e il culto del Progresso – le discusse novità ‘live’ nei festival erano...'}, 'Wagner l’oscuro': {'Autore': 'Mario Bortolotto', 'Anno': '2005', 'Prezzo Originale': '42.00', 'Sconto': '-5%', 'Pagine': '791', 'Abstract': 'Non è possibile scrivere oggi su Wagner senza fare i conti con due formidabili pamphlet contro Wagner: Der Fall Wagner di Nietzsche e quel Versuch über Wagner di Adorno che ha a lungo scompigliato le carte della critica. Ma non solo: bisogna fare i conti anche con il wagnerismo e i wagneriani – temibile genia, questi ultimi, di laudatori genuflessi nella devozione. Infine: è...'}, 'Il signor Croche antidilettante': {'Autore': 'Claude Debussy', 'Anno': '2005', 'Prezzo Originale': '14.00', 'Sconto': '-5%', 'Pagine': '169', 'Abstract': 'Il 10 settembre 1893 «L’Idée libre» annunciò la pubblicazione di un articolo di Claude Debussy dal titolo Sull’inutilità del wagnerismo. L’annuncio venne ripetuto nei cinque numeri successivi, ma lo scritto non apparve mai; e solo sette anni più tardi il musicista cominciò a collaborare regolarmente con alcune riviste. Quell’esordio mancato...'}, 'Il velo dell’ordine': {'Autore': 'Alfred Brendel', 'Anno': '2005', 'Prezzo Originale': '25.00', 'Sconto': '-5%', 'Pagine': '169', 'Abstract': 'Alfred Brendel è uno dei massimi pianisti viventi, ammirato e seguito ovunque da un pubblico vasto e compatto. Ed è un pianista che cambia il modo di ascoltare certe opere: il suo Schubert, il suo Beethoven, il suo Haydn, il suo Liszt hanno trasformato la nostra visione di questi sommi compositori. Ma Brendel è anche un acuto saggista, che ha analizzato in numerosi scritti questioni...'}, 'Il Don Giovanni di Mozart': {'Autore': 'Pierre-Jean Jouve', 'Anno': '2004', 'Prezzo Originale': '14.00', 'Sconto': '-5%', 'Pagine': '479', 'Abstract': '«Un’esperienza complessa della Morte in un’arte che ha il dono della grazia: ecco come definirei, in una sola frase, il Don Giovanni». La precisione di tale diagnosi è un buon viatico per questo saggio, in cui Pierre-Jean Jouve sa di avere trovato lo «stile giusto» per un’impresa fra le più ardue e ammirevoli: scrivere di Mozart. Incoraggiato da Bruno Walter (incontrato a Salisburgo...'}, 'Il Paese del melodramma': {'Autore': 'Bruno Barilli', 'Anno': '2004', 'Prezzo Originale': '15.00', 'Sconto': '-5%', 'Pagine': '479', 'Abstract': 'Quando apparve nel 1930, Il Paese del melodramma fu come un colpo di scure piantato sulla tavola impeccabilmente imbandita dei musicologi «competenti», per i quali Verdi coincideva solo con la «verve discreta e senile» del Falstaff. Contro quegli «intellettuali accantonati ed ostili» Barilli rivendicava la grandezza perentoria e insindacabile del Verdi del Trovatore...'}, 'Est dell’Oriente': {'Autore': 'Mario Bortolotto', 'Anno': '1999', 'Prezzo Originale': '42.00', 'Sconto': '-5%', 'Pagine': '492', 'Abstract': 'Quando nell’Ottocento, prima con la meteora Puškin poi con la rivelazione di Tolstoj e Dostoevskij, la Russia irruppe sulla scena della letteratura, il mutamento fu radicale e irreversibile. Qualcosa di analogo, ma ben più discreto, avvenne con la musica, nata anch’essa d’improvviso, con Glinka, e sviluppatasi attraverso una fioritura di compositori. Si scoprì in...'}, 'L’ala del turbine intelligente': {'Autore': 'Glenn Gould', 'Anno': '1999', 'Prezzo Originale': '14.00', 'Sconto': '-5%', 'Pagine': '492', 'Abstract': 'Questi scritti del leggendario pianista compongono una sorta di storia della musica a mosaico, altamente idiosincratica e non meno illuminante delle sue grandi interpretazioni.'}, 'Il teatro delle passioni': {'Autore': 'Giovanni Macchia', 'Anno': '1993', 'Prezzo Originale': '38.00', 'Sconto': '-5%', 'Pagine': '416', 'Abstract': 'Questo libro è nato dai venti e più volumi che formano l’opera di Giovanni Macchia. Ma non può essere definito un’antologia delle sue pagine più belle. Egli ha tentato invece di porre in evidenza i temi che hanno maggiormente attratto il suo straordinario intuito critico e il suo gusto.  Ciò che si può scorgere dall’insieme di queste pagine...'}, 'Epistolario': {'Autore': 'Hugo von Hofmannsthal, Richard Strauss', 'Anno': '1993', 'Prezzo Originale': '48.00', 'Sconto': '-5%', 'Pagine': '416', 'Abstract': 'Un sodalizio artistico, spesso un’alleanza, talvolta una complicità, forse mai una vera amicizia: per oltre vent’anni Hugo von Hofmannsthal e Richard Strauss lavorarono insieme, quasi sempre restando lontani, l’uno in Austria, l’altro in Germania. Di questo lavoro comune, da cui nacquero opere come Elettra, Il cavaliere della rosa, Arianna a Nasso, La donna senz’ombra,...'}, 'La musica primitiva': {'Autore': 'Marius Schneider', 'Anno': '1993', 'Prezzo Originale': '12.00', 'Sconto': '-5%', 'Pagine': '615', 'Abstract': '«Gli dèi sono canti». Prima di essere figure e volti, gli dèi furono un ritmo e una melodia, perché l’origine è sonora, una vibrazione. Se indaghiamo con sufficiente tenacia le cosmologie arcaiche, a questo arriviamo. Ma occorreva la combinazione di un musicologo e di un mitologo, oltre che un’inflessibile audacia di pensiero, perché da questo si giungesse...'}, 'Dopo una battaglia': {'Autore': 'Mario Bortolotto', 'Anno': '1993', 'Prezzo Originale': '30.00', 'Sconto': '-5%', 'Pagine': '615', 'Abstract': 'Questo libro tratta un grandioso paradosso e misconoscimento storico: siamo abituati a vedere la musica moderna nascere per i rami della musica tedesca e austriaca, fra Wagner e Schoenberg, con l’apporto folgorante del russo Strawinsky. Ma in realtà la poetica del moderno, in tutte le sue ramificazioni, si era già elaborata a Parigi, tra Saint-Saëns e Debussy, innanzitutto in...'}, 'Vita avventure e morte di Don Giovanni': {'Autore': 'Giovanni Macchia', 'Anno': '1993', 'Prezzo Originale': '20.00', 'Sconto': '-5%', 'Pagine': '806', 'Abstract': '«Questa storia di Don Giovanni, dove il critico letterario si unisce al musicologo, raggiunge nel suo genere la perfezione» scrisse una volta Guido Piovene. E, sul versante musicologico, Massimo Mila giudicò «geniale e definitivo» questo libro che, pubblicato per la prima volta nel 1966, da allora non ha cessato di arricchirsi, suscitando sempre un vasto interesse. Nella...'}, 'Gödel, Escher, Bach: un’Eterna Ghirlanda Brillante': {'Autore': 'Douglas R. Hofstadter', 'Anno': '1993', 'Prezzo Originale': '23.00', 'Sconto': '-5%', 'Pagine': '806', 'Abstract': 'Il libro che ha svelato a una immensa quantità di lettori, in tutto il mondo, gli incanti e le trappole di un’Eterna Ghirlanda Brillante i cui fili si chiamano intelligenza artificiale, macchina di Turing, teorema di Gödel. Una «fuga metaforica» nel variegato mondo che si dispiega fra la mente, il cervello e i computer.\\n «Ogni due o tre decenni un autore ignoto produce un libro di tale profondità,...'}, 'Introduzione al Lied romantico': {'Autore': 'Mario Bortolotto', 'Anno': '1992', 'Prezzo Originale': '16.00', 'Sconto': '-5%', 'Pagine': '138', 'Abstract': 'Il Lied è il «compagno segreto» della musica moderna: dal Beethoven di Kennst du das Land (1810) allo Strauss dei Vier Letzte Lieder (1948), questa forma accompagna tutti i trasalimenti e le incandescenze della musica assoluta, nata con i romantici in terra tedesca. Una introduzione al Lied implica lo schiudersi di uno spazio interiore, dove si avverte «l’elastico respiro...'}, 'Scritti su Wagner': {'Autore': 'Friedrich Nietzsche', 'Anno': '1992', 'Prezzo Originale': '14.00', 'Sconto': '-5%', 'Pagine': '138', 'Abstract': 'L’incontro, l’amicizia e il dissidio fra Nietzsche e Wagner formano una vicenda inesauribile, che si pone sulla soglia di tutto il moderno. E non solo per l’enormità dei due amici-avversari. Ma per la natura ingannevole, enigmatica, perennemente teatrale del loro rapporto: per cui vediamo Nietzsche che, nella fase della massima venerazione per Wagner, insinua i dubbi più...'}, 'Il caso Wagner - Crepuscolo degli idoli - L’anticristo - Ecce homo - Nietzsche contra Wagner': {'Autore': 'Friedrich Nietzsche', 'Anno': '1970', 'Prezzo Originale': '65.00', 'Sconto': '-5%', 'Pagine': '621', 'Abstract': 'Gli scritti del 1888, ultimo anno di attività di Nietzsche, suonano come un «finale» tempestoso: nel giro bruciante di pochi mesi si allineano, perfettamente compiute, brevi opere dal potere dirompente: Il caso Wagner, Crepuscolo degli idoli, L’anticristo, Ecce homo e Nietzsche contra Wagner. Su questi scritti è stata sempre accesissima la disputa: in quanto immediatamente precedenti alla...'}}, {'9788845932816': 'Il tango', '9788845932465': 'Il viandante musicale', '9788845928604': 'Abbecedario di un pianista', '9788845927690': 'Lo stile classico', '9788845927782': 'Fogli multicolori', '9788845927607': 'Pensieri verticali', '9788845924972': 'Corrispondenze', '9788845925351': 'Musicofilia', '9788845922893': 'Fase seconda', '9788845922442': 'Ricordi e commenti', '9788845921858': 'La serpe in seno', '9788845920967': 'Bach, Debussy, Strawinsky', '9788845920240': 'La generazione romantica', '9788845919565': 'In nome del padre', '9788845919107': 'Marescialle e libertini', '9788845918049': 'Wagner l’oscuro', '9788845918018': 'Il signor Croche antidilettante', '9788845917264': 'Il velo dell’ordine', '9788845915994': 'Il Don Giovanni di Mozart', '9788845915246': 'Il Paese del melodramma', '9788845914829': 'Est dell’Oriente', '9788845909696': 'L’ala del turbine intelligente', '9788845909375': 'Il teatro delle passioni', '9788845910012': 'Epistolario', '9788845909214': 'La musica primitiva', '9788845909306': 'Dopo una battaglia', '9788845908262': 'Vita avventure e morte di Don Giovanni', '9788845907555': 'Gödel, Escher, Bach: un’Eterna Ghirlanda Brillante', '9788845905841': 'Introduzione al Lied romantico', '9788845903854': 'Scritti su Wagner', '9788845900228': 'Il caso Wagner - Crepuscolo degli idoli - L’anticristo - Ecce homo - Nietzsche contra Wagner'})\n",
      "<class 'tuple'>\n"
     ]
    }
   ],
   "source": [
    "## Come prima cosa istanziate un oggetto di classe AdelphiScraper e provate ad utilizzare i due metodi sopra descritti per osservarne l'output,\n",
    "## questa operazione è molto importante al fine di capire bene quali sono le strutture dati a vostra dispozione.\n",
    "## ATTENZIONE : osservate bene quali sono i tipi dei dati contenuti nelle strutture che riceverete in output, più avanti avrete bisogno di farvi operazioni o conversioni.\n",
    "\n",
    "Ad_Scraper = AdelphiScraper()\n",
    "\n",
    "test1=Ad_Scraper.get_subject_list()\n",
    "print(test1)\n",
    "print(type(test1))\n",
    "\n",
    "test2=Ad_Scraper.get_subject_books(43)\n",
    "print(test2)\n",
    "print(type(test2))\n"
   ]
  },
  {
   "cell_type": "markdown",
   "metadata": {
    "id": "hVALXmT6meTC"
   },
   "source": [
    "# Creazione di una libreria digitale\n",
    "Richieste dell'esercizio:\n",
    "\n",
    "*   Implementare la classe `Book(ISBN)`: questa classe dovrà essere inizializzata soltanto dall'ISBN di un libro, utilizzando AdelphiScraper dovrà essere in grado di inizializzarsi con i seguenti attributi:\n",
    "    *   `self.ISBN` : ISBN del libro.\n",
    "    *   `self.title` : il titolo del libro.\n",
    "    *   `self.print_year` : l'anno dell'ultima ristampa.\n",
    "    *   `self.author` : l'autore del libro.\n",
    "    *   `self.abstract` : abstract del libro.\n",
    "    *   `self.pages` : numero di pagine del libro.\n",
    "    *   `self.category` : categoria a cui appartiene il libro.\n",
    "\n",
    "  **Suggerimento**: tutte queste informazioni devono essere reperite con varie chiamate ai metodi di AdelphiScraper e tramite trasformazioni alle strutture dati ricevute, si consiglia caldamente di chiamare AdelphiScraper esternamente e creare una struttura dati adeguata a cercare tutte le informazioni velocemente dato **soltanto** l'ISBN di un libro, a quel punto la classe Book potrà attingere da lì senza connettersi allo scraper in ogni sua istanza.\n",
    "\n",
    "  Dovrà inoltre possedere i seguenti metodi:\n",
    "    *   `get_whole_price(self)` : restituirà il prezzo lordo del libro usando AdelphiScraper.\n",
    "    *   `get_net_price(self)` : restituirà il prezzo netto del libro usando AdelphiScraper.\n",
    "    *   `print_book_infos(self)` : stamperà in output le varie informazioni sul libro.\n",
    "    *   `abstract_len` : restituisce lunghezza dell'abstract del libro\n",
    "\n",
    "* Vi è richiesto di digitalizzare le informazioni di alcuni libri, creare una classe chiamata `MyLibrary(ISBN_list)` che possa essere inizializzata soltanto con una lista di ISBN. In modo simile alla classe `Book(ISBN)` questa dovrà far uso di AdelphiScraper per collezionare le informazioni di tutti i libri in essa contenuti, si suggerisce l'utilizzo di dizionari e oggetti di tipo Book come strutture dati replicando gli stessi attributi e metodi (in questi ultimi si possa specificare il libro del quale siamo interessati al prezzo, all'abstract etc.).\n",
    "La classe dovrà inoltre avere i seguenti metodi:\n",
    "    * `insert_book(self, ISBN) `: inserisca nella libreria l'oggetto di tipo Book corrispondente all'ISBN passato.\n",
    "    * `remove_book(self, ISBN) `: rimuova dall libreria l'oggetto di tipo Book corrispondente all'ISBN passato.\n",
    "    * `get_library_value(self) `: restituirà il valore totale (dato dai prezzi) dei libri contenuti nella libreria, sia lordo che al netto degli sconti.\n",
    "    * `get_total_pages(self) ` : restituirà il numero totale di pagine dei libri nella nostra libreria\n",
    "    * `get_categories_number(self) ` : restituirà il numero di categorie differenti che sono presenti nella nostra libreria.\n",
    "\n",
    "* Introduciamo il concetto di libri \"vicini\": diciamo che due libri sono vicini se appartengono alla stessa categoria **oppure** il loro ISBN modulo 3 è lo stesso: se ad esempio due libri hanno come ISBN 134434**6** e ISBN 294823**9** questi avranno entrambi ISBN modulo 3 uguale a 0 e saranno vicini.\n",
    "    * Si inserisca nella classe `Book(ISBN)` il metodo `is_near(self, book_2)` che restituisca `True` se l'oggetto di tipo Book passato in input è vicino al libro rappresentato dall'oggetto Book che chiama il metodo, `False` altrimenti.\n",
    "```\n",
    "b1 = Book(123456)\n",
    "b2 = Book(123456789)\n",
    "b1.is_near(b2)\n",
    ">> True\n",
    "```\n",
    "    * Si inserisca nella classe `MyLibrary(ISBN_list)` il metodo `minimum_path(self, start_ISBN, end_ISBN) ` che riceve in input due ISBN appartenenti alla libreria, uno iniziale ed uno finale, e restituisca la lista ordinata degli ISBN dei libri facenti parte della libreria da cui bisogna passare per arrivare da quello iniziale a quello finale. Tuttavia, è possibile passare da un libro ad un altro solo se sono vicini, questa funzione deve restituire la sequenza di passaggi di lunghezza **più breve** per arrivare a destinazione.\n",
    "    * Si inserisca nella classe `MyLibrary(ISBN_list)` il metodo `minimum_cost_path(self, start_ISBN, end_ISBN) `, una versione alternativa del metodo precedente che invece che il cammino di lunghezza minore restituisce quello con il costo **netto** totale dei libri facenti parte del cammino minore possibile.\n",
    "\n",
    "Si usino i seguenti ISBN come caso prova delle varie implementazioni:\n",
    "\n",
    "Cose che potrebbero esservi utili: \n",
    "  * Attributi dei dizionari: .keys(), .values(), ...\n",
    "  * Teoria dei grafi\n",
    "  "
   ]
  },
  {
   "cell_type": "code",
   "execution_count": 5,
   "metadata": {},
   "outputs": [],
   "source": [
    "# ISBN è una stringa\n",
    "book = AdelphiScraper()\n",
    "def scraper(ISBN):\n",
    "    \n",
    "    \n",
    "    \"\"\"riceve in input un ISBN e in output un dizionario con le chiavi che ci servono nella classe Book.\"\"\"\n",
    "    chiavi_categorie=list(book.get_subject_list().keys())  # seleziono le chiavi di categoria e ciclo su queste\n",
    "    catalogo={}\n",
    "    catalogo['ISBN']=ISBN\n",
    "    for c in range(len(chiavi_categorie)):\n",
    "        listISBN=list(book.get_subject_books(c)[1].keys())\n",
    "        for i in range(len(listISBN)):\n",
    "            if ISBN == listISBN[i]:  # cerco ISBN\n",
    "                cc=c\n",
    "                listtititoli=list(book.get_subject_books(c)[1].values())\n",
    "                titolo=listtititoli[i]\n",
    "                print(titolo)\n",
    "                break\n",
    "    catalogo['title']=titolo\n",
    "    searchtitolo=list(book.get_subject_books(cc)[0].keys())\n",
    "    for g in range(len(searchtitolo)):\n",
    "                   if titolo==searchtitolo[g]:\n",
    "                       index=g\n",
    "    searchinfo=list(book.get_subject_books(cc)[0].values())\n",
    "    dic=list(searchinfo[g].values())\n",
    "    catalogo['print_year']=dic[1]\n",
    "    catalogo['author']=dic[0]\n",
    "    catalogo['abstract']=dic[5]    \n",
    "    catalogo['pages']=dic[4]    \n",
    "    catalogo['category']=cc\n",
    "    catalogo['price']=dic[2]\n",
    "    catalogo['sconto']=dic[3]\n",
    "    return catalogo"
   ]
  },
  {
   "cell_type": "code",
   "execution_count": 48,
   "metadata": {
    "scrolled": true
   },
   "outputs": [
    {
     "name": "stdout",
     "output_type": "stream",
     "text": [
      "inserisci isbn:9788845912528\n",
      "Concetti fluidi e analogie creative\n",
      "Concetti fluidi e analogie creative\n",
      "Concetti fluidi e analogie creative\n",
      "<class 'str'>\n"
     ]
    },
    {
     "ename": "TypeError",
     "evalue": "str() argument 2 must be str, not tuple",
     "output_type": "error",
     "traceback": [
      "\u001b[1;31m---------------------------------------------------------------------------\u001b[0m",
      "\u001b[1;31mTypeError\u001b[0m                                 Traceback (most recent call last)",
      "\u001b[1;32m<ipython-input-48-ee4247a7958c>\u001b[0m in \u001b[0;36m<module>\u001b[1;34m\u001b[0m\n\u001b[0;32m      8\u001b[0m \u001b[0mprint\u001b[0m\u001b[1;33m(\u001b[0m\u001b[0mtype\u001b[0m\u001b[1;33m(\u001b[0m\u001b[0mISBN\u001b[0m\u001b[1;33m)\u001b[0m\u001b[1;33m)\u001b[0m\u001b[1;33m\u001b[0m\u001b[1;33m\u001b[0m\u001b[0m\n\u001b[0;32m      9\u001b[0m \u001b[1;33m\u001b[0m\u001b[0m\n\u001b[1;32m---> 10\u001b[1;33m \u001b[1;32mclass\u001b[0m \u001b[0mBook\u001b[0m\u001b[1;33m(\u001b[0m\u001b[0mISBN\u001b[0m\u001b[1;33m)\u001b[0m\u001b[1;33m:\u001b[0m\u001b[1;33m\u001b[0m\u001b[1;33m\u001b[0m\u001b[0m\n\u001b[0m\u001b[0;32m     11\u001b[0m \u001b[1;33m\u001b[0m\u001b[0m\n\u001b[0;32m     12\u001b[0m     \u001b[1;32mdef\u001b[0m \u001b[0m__init__\u001b[0m\u001b[1;33m(\u001b[0m\u001b[0mself\u001b[0m\u001b[1;33m,\u001b[0m \u001b[0mcatalogo\u001b[0m\u001b[1;33m)\u001b[0m\u001b[1;33m:\u001b[0m\u001b[1;33m\u001b[0m\u001b[1;33m\u001b[0m\u001b[0m\n",
      "\u001b[1;31mTypeError\u001b[0m: str() argument 2 must be str, not tuple"
     ]
    }
   ],
   "source": [
    "# Non ho completato l'esercizio, lascio quello che ho fatto, come ci eravamo già sentiti in settimana\n",
    "\n",
    "ISBN=input(\"inserisci isbn:\" )\n",
    "ISBN=str(ISBN)\n",
    "\n",
    "catalogo=scraper(ISBN)\n",
    "print(type(ISBN))\n",
    "\n",
    "class Book(ISBN):\n",
    "    \n",
    "    def __init__(self, catalogo):\n",
    "        self.catalogo=catalogo\n",
    "     \n",
    "    def get_whole_price(self):\n",
    "        prezzo=float(self.catalogo['price']) # converto il prezzo in un float\n",
    "        return prezzo\n",
    "        \n",
    "        \n",
    "        \n",
    "    def get_net_price(self):\n",
    "        prezzo=get_whole_price()   \n",
    "        olddiscount=self.catalogo['sconto']  # lo sconto è una stringa, elimino il primo e l'ultimo elemento, cioè il meno e il % in modo da avete un numero\n",
    "        newdiscount = olddiscount.replace(\"-\", \"\")\n",
    "        discount = newdiscount.replace(\"%\", \"\")\n",
    "        discount=float(discount)\n",
    "        return (prezzo-discount*prezzo)\n",
    "    \n",
    "    def abstract_len(self):\n",
    "        return (len(self.abstract))\n",
    "    \n",
    "    def print_book_infos(self):\n",
    "        print('titolo', self.catalogo['title'], '\\n')\n",
    "        print('autore', self.catalogo['author'], '\\n')\n",
    "        print('riassunto', self.catalogo['abstract'], '\\n')\n",
    "        print('pagine', self.catalogo['pages'], '\\n')\n",
    "        print('categoria', self.catalogo['category'], '\\n')\n",
    "        print('prezzo intero', get_whole_price(), '\\n')\n",
    "        print('prezzo netto', get_net_price(), '\\n')"
   ]
  },
  {
   "cell_type": "code",
   "execution_count": 6,
   "metadata": {},
   "outputs": [
    {
     "name": "stdout",
     "output_type": "stream",
     "text": [
      "Concetti fluidi e analogie creative\n",
      "Concetti fluidi e analogie creative\n",
      "Concetti fluidi e analogie creative\n",
      "{'ISBN': '9788845912528', 'title': 'Concetti fluidi e analogie creative', 'print_year': '2000', 'author': 'Reuben Fine', 'abstract': '«Mi piace vederli dibattersi»: così confessò, a proposito dei suoi avversari, Bobby Fischer, prima di strappare a Spassky, nel 1972, il titolo di campione mondiale di scacchi. Al di là delle spiegazioni più immediate (denaro e fama), questo libro ricerca le motivazioni segrete che hanno indotto uomini dai talenti più diversi a dedicare al gioco uno smisurato spazio mentale e pratico. L’autore...', 'pages': '146', 'category': 67, 'price': '13.00', 'sconto': '-5%'}\n"
     ]
    }
   ],
   "source": [
    "catalogo=scraper(str(9788845912528))\n",
    "print(catalogo)"
   ]
  },
  {
   "cell_type": "code",
   "execution_count": null,
   "metadata": {},
   "outputs": [],
   "source": [
    "# utilizzando i moduli precedenti creo una lista con tutti i libri \n",
    "\n",
    "# ISBN_list è una lista di stringhe di ISBN\n",
    "\n",
    "ISBN_list=str(ISBN_list[:])\n",
    "\n",
    "class MyLibrary(ISBN_list):\n",
    "    \n",
    "    def __init__(self,libri):\n",
    "        self.libri=[]\n",
    "        self.build()\n",
    "        \n",
    "    def build(self):\n",
    "        for i in range(len(ISBN_list)):\n",
    "            self.libri.append(Book[i])\n",
    "            \n",
    "    def insert_book(self, ISBN):\n",
    "        self.libri.append(Book(ISBN))\n",
    "        \n",
    "    def remove_book(self, ISBN):\n",
    "        self.libri.remove(Book(ISBN))\n",
    "    \n",
    "    def get_library_value(self):\n",
    "        prezzolordo=0\n",
    "        prezzonetto=0\n",
    "        for i in range(len(self.libri)):\n",
    "            prezzolordo=prezzolordo+get_whole_price(self.libri[i])\n",
    "            prezzonetto=prezzonetto+get_net_price(self.libri[i])\n",
    "        return prezzolordo, prezzonetto\n",
    "    \n",
    "    def get_total_pages(self):\n",
    "        totpagine=0\n",
    "        for i in range(len(self.libri)):\n",
    "            totpagine=totpagine+self.libri[i]['pagine']\n",
    "            \n",
    "    def get_categories_number(self):\n",
    "        howmanycategories=0\n",
    "        temp=[]\n",
    "        tempp=[]\n",
    "        for i in range(len(self.libri)):\n",
    "            temp.append(self.libri[i]['categoria'])  # temp contiene tutte le categorie della mia lista di libri\n",
    "        tempp=temp[:]\n",
    "        if len(tempp)==1:\n",
    "            return 1\n",
    "        else:\n",
    "            while len(temp)>0:\n",
    "                contatore=temp.count(temp[i]) # conto quante volte c'è l'elemento j nella lista\n",
    "                howmanycategories=howmanycategories+1\n",
    "                for j in range(contatore):\n",
    "                    temp.remove(temp[i])      # rimuovo l'elemento n volte, con n è il numero di elementi nella lista\n",
    "            return howmanycategories\n",
    "        \n",
    "                    \n",
    "        \n",
    "# non finito\n",
    "    "
   ]
  },
  {
   "cell_type": "code",
   "execution_count": null,
   "metadata": {},
   "outputs": [],
   "source": []
  }
 ],
 "metadata": {
  "colab": {
   "authorship_tag": "ABX9TyNztnY58LrNzNTbzrZACDHp",
   "collapsed_sections": [],
   "name": "adelphi_scraping.ipynb",
   "provenance": []
  },
  "kernelspec": {
   "display_name": "Python 3",
   "language": "python",
   "name": "python3"
  },
  "language_info": {
   "codemirror_mode": {
    "name": "ipython",
    "version": 3
   },
   "file_extension": ".py",
   "mimetype": "text/x-python",
   "name": "python",
   "nbconvert_exporter": "python",
   "pygments_lexer": "ipython3",
   "version": "3.7.3"
  }
 },
 "nbformat": 4,
 "nbformat_minor": 1
}
