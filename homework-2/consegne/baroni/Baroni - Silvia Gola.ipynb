{
 "cells": [
  {
   "cell_type": "markdown",
   "metadata": {},
   "source": [
    "# Magliette AzIM: ordini, prezzi e consegne"
   ]
  },
  {
   "cell_type": "markdown",
   "metadata": {},
   "source": [
    "L'**Azienda degli Ingegneri Matematici** ha bisogno del tuo aiuto: uno stagista chiamato F.B. ha eliminato il database degli ordini delle stupende **magliette ufficiali AzIM**! Tutto quello che rimane sono 420 frammenti di email con le richieste dei clienti, spetta a te recuperarle e determinare che ordini accettare!\n",
    "\n",
    "\n",
    "0. Nella cartella data trovi tutti i file di testo con i frammenti di email, sono tutti diversi! Contengono la **taglia** delle magliette, la **quantità** di magliette ordinate, la **posizione** in coordinate GCS della consegna, il **nome** del cliente e il **prezzo** a cui vorrebbe acquistare il singolo capo\n",
    "\n",
    "\n",
    "1. [1pt] Registra gli ordini in una **lista di oggetti** \"Order\"\n",
    "\n",
    "\n",
    "2. [1pt] Ogni cliente ha richiesto un prezzo diverso, ma il prezzo di vendita deve essere unico. Considerando 6€ come costo di produzione di una maglietta, determina il **prezzo di vendita** a cui si otterrebbe il maggior  profitto totale (se il prezzo richiesto dal cliente è strettamente inferiore al prezzo di vendita, il cliente non acquisterà)\n",
    "\n",
    "\n",
    "3. [1pt] Considera i **costi di consegna**: viene applicato un costo di 0.10€/km a capo per per ogni ordine sotto le 100 unità, mentre di 0.05€/km per ogni ordine di almeno 100 unità. Trova il nuovo prezzo di vendita che porti al maggior profitto totale e componi la lista degli ordini da eseguire, riordinata dall'ordine che porterebbe al profitto maggiore fino a quella che porterebbe al profitto minore.\n",
    "\n",
    "\n",
    "4. [FACOLTATIVO per lode] Considera la curvatura terrestre per il calcolo della distanza per le consegne (riscrivi la funzione \"Distance\")\n",
    "\n",
    "\n",
    "Utilizza il seguente codice come punto di partenza, riempiendo gli spazi dove manca codice!\n",
    "\n",
    "\n",
    "Per qualsiasi domanda contattare Jean Paul G. Baroni +393315969286"
   ]
  },
  {
   "cell_type": "code",
   "execution_count": 181,
   "metadata": {},
   "outputs": [
    {
     "name": "stdout",
     "output_type": "stream",
     "text": [
      "<class 'str'>\n",
      "['Cari Ingegneri,', 'Scriviamo per ordinare 33 magliette AzIM taglia S', 'Coordinate di consegna [45.386683,8.176936]', 'Prezzo di acquisto 19.16€', 'Distinti Saluti,', 'Enrico Zacchei IB']\n",
      "S\n",
      "33\n",
      "Enrico Zacchei IB\n",
      "19.16€\n",
      "19.16\n",
      "6\n",
      "19.1\n",
      "19.1\n"
     ]
    }
   ],
   "source": [
    "#prova\n",
    "import numpy as np\n",
    "email_fragment_init=open(\"2.txt\",\"r\").read()\n",
    "print(type(email_fragment_init))\n",
    "#email_fragment=str(email_fragment_init)\n",
    "#print(type(email_fragment))\n",
    "\n",
    "# Separa le righe del frammento e le salva nella lista lines\n",
    "#lines1= email_fragment_init.readlines()\n",
    "lines = email_fragment_init.split(\"\\n\")\n",
    "#print(lines1)\n",
    "print(lines)\n",
    "#lines = email_fragment.split(\"\\n\")\n",
    "\n",
    "# Salva la taglia della maglietta\n",
    "size = lines[1].split(\" \")[-1]\n",
    "print(size)\n",
    "\n",
    "# Salva la quantità di magliette richieste\n",
    "quantity = int(lines[1].split(\" \")[-5])######## SCRIVI CODICE ########\n",
    "print(quantity)\n",
    "\n",
    "# Salva la posizione di consegna dell'ordine come due elementi float di una lista\n",
    "#GCS = [float(lines[2].split(\" \")[-1].split(\",\")[0][1:]),float(lines[2].split(\" \")[-1].split(\",\")[1][:-1])]\n",
    "#print(GCS)\n",
    "\n",
    "# Salva il nome del cliente (ultima riga del txt)\n",
    "customer = lines[-1]######## SCRIVI CODICE ########\n",
    "print(customer)\n",
    "\n",
    "# Salva il prezzo richiesto dal cliente (bid price)\n",
    "bid_price = lines[3].split(\" \")[-1]######## SCRIVI CODICE ########\n",
    "print(bid_price)\n",
    "print(bid_price[:5])\n",
    "print(len(bid_price))\n",
    "print(bid_price[:-2])\n",
    "print(float(bid_price[:-2]))\n",
    "\n",
    "#print(bid_price[0,len(bid_price)-1])"
   ]
  },
  {
   "cell_type": "code",
   "execution_count": 182,
   "metadata": {},
   "outputs": [],
   "source": [
    "# 1. Registra gli ordini in una lista di classi Order\n",
    "\n",
    "GCS_Piazza_Leo = [45.478104, 9.227040] # Coordinate di Piazza Leonardo da Vinci, Milano\n",
    "production_cost = 6 # Costo fisso di produzione della maglietta\n",
    "num_orders = 420 # Numero di ordini nella cartella \"data\"\n",
    "\n",
    "orders = [] # Lista di oggetti che descrivono gli ordini ricevuti\n",
    "\n",
    "# Classe che descrive ciascun ordine ricevuto\n",
    "class Order:\n",
    "    \n",
    "    # Costruttore della classe (prende in input il frammento di email salvato nei .txt)\n",
    "    def __init__(self, email_fragment):\n",
    "        \n",
    "        # Separa le righe del frammento e le salva nella lista lines\n",
    "        lines=(str(email_fragment)).split(\"\\n\")\n",
    "        #lines = email_fragment.split(\"\\n\")\n",
    "        #lines=email_fragment.readlines()\n",
    "        #print(lines)\n",
    "        \n",
    "        # Salva la taglia della maglietta\n",
    "        self.size = lines[1].split(\" \")[-1]\n",
    "        \n",
    "        # Salva la quantità di magliette richieste\n",
    "        self.quantity = int(lines[1].split(\" \")[-5])######## SCRIVI CODICE ########\n",
    "        \n",
    "        # Salva la posizione di consegna dell'ordine come due elementi float di una lista\n",
    "        self.GCS = [float(lines[2].split(\" \")[-1].split(\",\")[0][1:]),float(lines[2].split(\" \")[-1].split(\",\")[1][:-1])]\n",
    "        \n",
    "        # Salva il nome del cliente (ultima riga del txt)\n",
    "        self.customer = lines[-1]######## SCRIVI CODICE ########\n",
    "        \n",
    "        # Salva il prezzo richiesto dal cliente (bid price)\n",
    "        self.bid_price = float(lines[3].split(\" \")[-1][:-2])######## SCRIVI CODICE ########\n",
    "    \n",
    "    # Calcola il pagamento che questo cliente effettuerebbe dato un prezzo di vendita\n",
    "    def Payment(self, ask_price):\n",
    "        ######## SCRIVI CODICE (Punto 2.) ########\n",
    "        if (ask_price>self.bid_price):\n",
    "            return 0\n",
    "        else:\n",
    "            return ask_price*self.quantity\n",
    "            \n",
    "    \n",
    "    # Calcola il profitto (ricavi - costi) per un ordine a questo cliente dato un prezzo di vendita\n",
    "    def Profit(self, ask_price, cost_per_km):\n",
    "        ######## SCRIVI CODICE (Punto 2.) ########\n",
    "        if (ask_price>self.bid_price):\n",
    "            return 0\n",
    "        else:\n",
    "            return self.quantity*(ask_price-6) - cost_per_km*self.Distance()      \n",
    "            #return self.quantity*(ask_price-6)    \n",
    "    \n",
    "    # Calcola una distanza approssimata in km tra piazza Leonardo da Vinci (punto di partenza delle consegne) e la destinazione\n",
    "    def Distance(self, starting_GCS = GCS_Piazza_Leo):\n",
    "        return (((starting_GCS[0] - self.GCS[0])*111)**2+((starting_GCS[1] - self.GCS[1])*78)**2)**0.5\n",
    "    \n",
    "    # Stampa i dettagli dell'oggetto\n",
    "    def Details(self):\n",
    "        print(self.customer,\"ha ordinato\",self.quantity,\"magliette taglia\",self.size,\"a \"+str(self.bid_price)+\"€ all'indirizzo\",self.GCS)\n",
    "    "
   ]
  },
  {
   "cell_type": "code",
   "execution_count": 183,
   "metadata": {},
   "outputs": [
    {
     "name": "stdout",
     "output_type": "stream",
     "text": [
      "165\n",
      "0\n",
      "165\n",
      "Enrico Zacchei IB ha ordinato 33 magliette taglia S a 19.1€ all'indirizzo [45.386683, 8.176936]\n"
     ]
    }
   ],
   "source": [
    "# prova Classe\n",
    "email_fragment_init=open(\"2.txt\",'r').read()\n",
    "prova_ordine = Order(email_fragment_init)\n",
    "print(prova_ordine.Payment(5))\n",
    "print(prova_ordine.Payment(50))\n",
    "ew_email = open(f\"{2}.txt\",\"r\").read()\n",
    "prova_ordine = Order(ew_email)\n",
    "print(prova_ordine.Payment(5))\n",
    "prova_ordine.Details()"
   ]
  },
  {
   "cell_type": "code",
   "execution_count": 184,
   "metadata": {},
   "outputs": [],
   "source": [
    "# Crea gli oggetti Order e li registra nella lista orders\n",
    "for i in range(1,num_orders):\n",
    "    _######## SCRIVI CODICE ########\n",
    "    # Apri il file ... orders.append( ... Chiudi il file\n",
    "    new_email = open(f\"{i}.txt\",\"r\").read()\n",
    "    orders.append(Order(new_email))"
   ]
  },
  {
   "cell_type": "code",
   "execution_count": 189,
   "metadata": {},
   "outputs": [
    {
     "name": "stdout",
     "output_type": "stream",
     "text": [
      "357672.0\n",
      "Il miglior prezzo è €13.0\n",
      "Si eseguiranno 199 ordini\n"
     ]
    }
   ],
   "source": [
    "# 2. [1pt] Ogni cliente ha richiesto un prezzo diverso, ma il prezzo di vendita deve essere unico. Considerando 6€ come costo di produzione di una maglietta, determina il **prezzo di vendita** a cui si otterrebbe il maggior  profitto totale (se il prezzo richiesto dal cliente è strettamente inferiore al prezzo di vendita, il cliente non acquisterà)\n",
    "\n",
    "possible_profits1 = []\n",
    "for order_ext in orders:\n",
    "    bid_ext = order_ext.bid_price\n",
    "    current_profit=0\n",
    "    for order_int in orders:\n",
    "        current_profit+=order_int.Profit(bid_ext,0)\n",
    "    possible_profits1.append(current_profit)\n",
    "\n",
    "max_profit = max(possible_profits1) ######## SCRIVI CODICE ########\n",
    "print(max_profit)\n",
    "# Determina il prezzo migliore\n",
    "best_ord_index=np.argmax(possible_profits1)\n",
    "best_price =orders[best_ord_index].bid_price ######## SCRIVI CODICE ########\n",
    "print(\"Il miglior prezzo è €\"+str(best_price))\n",
    "\n",
    "# Trova gli ordini da eseguire dato il miglior prezzo\n",
    "orders_to_go = [ord1 for ord1 in orders if ord1.Profit(best_price,0) > 0]\n",
    "print(\"Si eseguiranno\", len(orders_to_go),\"ordini\")"
   ]
  },
  {
   "cell_type": "code",
   "execution_count": 180,
   "metadata": {},
   "outputs": [
    {
     "name": "stdout",
     "output_type": "stream",
     "text": [
      "356020.1326088006\n",
      "Il miglior prezzo è €13.0\n"
     ]
    }
   ],
   "source": [
    "# 3. [1pt] Considera i **costi di consegna**: viene applicato un costo di 0.10€/km a capo per per ogni ordine sotto le 100 unità, mentre di 0.05€/km per ogni ordine di almeno 100 unità. Trova il nuovo prezzo di vendita che porti al maggior profitto totale e componi la lista degli ordini da eseguire, riordinata dall'ordine che porterebbe al profitto maggiore fino a quella che porterebbe al profitto minore.\n",
    "cost_less_100 = 0.10\n",
    "cost_at_least_100 = 0.05\n",
    "\n",
    "possible_profits2 = []\n",
    "for order_ext in orders:\n",
    "    bid_ext = order_ext.bid_price\n",
    "    current_profit=0 \n",
    "    for order_int in orders:\n",
    "        if (order_int.quantity>=100):\n",
    "            cost=cost_at_least_100\n",
    "        else:\n",
    "            cost=cost_less_100\n",
    "        current_profit+=order_int.Profit(bid_ext,cost)\n",
    "    possible_profits2.append(current_profit)\n",
    "#print(possible_profits2)\n",
    "max_profit = max(possible_profits2) ######## SCRIVI CODICE ########\n",
    "print(max_profit)\n",
    "# Determina il prezzo migliore\n",
    "best_ord_index=np.argmax(possible_profits2)\n",
    "best_price =orders[best_ord_index].bid_price ######## SCRIVI CODICE ########\n",
    "print(\"Il miglior prezzo è €\"+str(best_price))\n",
    "\n",
    "# Trova gli ordini da eseguire dato il miglior prezzo\n",
    "#orders_to_go = [ord1 for ord1 in orders if ord1.Profit(best_price) > 0]\n",
    "#print(\"Si eseguiranno\", len(orders_to_go),\"ordini\")"
   ]
  },
  {
   "cell_type": "code",
   "execution_count": null,
   "metadata": {},
   "outputs": [],
   "source": []
  }
 ],
 "metadata": {
  "kernelspec": {
   "display_name": "Python 3",
   "language": "python",
   "name": "python3"
  },
  "language_info": {
   "codemirror_mode": {
    "name": "ipython",
    "version": 3
   },
   "file_extension": ".py",
   "mimetype": "text/x-python",
   "name": "python",
   "nbconvert_exporter": "python",
   "pygments_lexer": "ipython3",
   "version": "3.8.3"
  }
 },
 "nbformat": 4,
 "nbformat_minor": 4
}
