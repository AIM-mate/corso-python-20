{
 "cells": [
  {
   "cell_type": "markdown",
   "metadata": {},
   "source": [
    "# Magliette AzIM: ordini, prezzi e consegne"
   ]
  },
  {
   "cell_type": "markdown",
   "metadata": {},
   "source": [
    "L'**Azienda degli Ingegneri Matematici** ha bisogno del tuo aiuto: uno stagista chiamato F.B. ha eliminato il database degli ordini delle stupende **magliette ufficiali AzIM**! Tutto quello che rimane sono 420 frammenti di email con le richieste dei clienti, spetta a te recuperarle e determinare che ordini accettare!\n",
    "\n",
    "\n",
    "0. Nella cartella data trovi tutti i file di testo con i frammenti di email, sono tutti diversi! Contengono la **taglia** delle magliette, la **quantità** di magliette ordinate, la **posizione** in coordinate GCS della consegna, il **nome** del cliente e il **prezzo** a cui vorrebbe acquistare il singolo capo\n",
    "\n",
    "\n",
    "1. [1pt] Registra gli ordini in una **lista di oggetti** \"Order\"\n",
    "\n",
    "\n",
    "2. [1pt] Ogni cliente ha richiesto un prezzo diverso, ma il prezzo di vendita deve essere unico. Considerando 6€ come costo di produzione di una maglietta, determina il **prezzo di vendita** a cui si otterrebbe il maggior  profitto totale (se il prezzo richiesto dal cliente è strettamente inferiore al prezzo di vendita, il cliente non acquisterà)\n",
    "\n",
    "\n",
    "3. [1pt] Considera i **costi di consegna**: viene applicato un costo di 0.10€/km a capo per per ogni ordine sotto le 100 unità, mentre di 0.05€/km per ogni ordine di almeno 100 unità. Trova il nuovo prezzo di vendita che porti al maggior profitto totale e componi la lista degli ordini da eseguire, riordinata dall'ordine che porterebbe al profitto maggiore fino a quella che porterebbe al profitto minore.\n",
    "\n",
    "\n",
    "4. [FACOLTATIVO per lode] Considera la curvatura terrestre per il calcolo della distanza per le consegne (riscrivi la funzione \"Distance\")\n",
    "\n",
    "\n",
    "Utilizza il seguente codice come punto di partenza, riempiendo gli spazi dove manca codice!\n",
    "\n",
    "\n",
    "Per qualsiasi domanda contattare Jean Paul G. Baroni +393315969286"
   ]
  },
  {
   "cell_type": "code",
   "execution_count": 1,
   "metadata": {},
   "outputs": [],
   "source": [
    "# 1. Registra gli ordini in una lista di classi Order\n",
    "\n",
    "GCS_Piazza_Leo = [45.478104, 9.227040] # Coordinate di Piazza Leonardo da Vinci, Milano\n",
    "production_cost = 6 # Costo fisso di produzione della maglietta\n",
    "num_orders = 420 # Numero di ordini nella cartella \"data\"\n",
    "\n",
    "orders = [] # Lista di oggetti che descrivono gli ordini ricevuti\n",
    "\n",
    "# Classe che descrive ciascun ordine ricevuto\n",
    "class Order:\n",
    "    \n",
    "    # Costruttore della classe (prende in input il frammento di email salvato nei .txt)\n",
    "    def __init__(self, email_fragment):\n",
    "        \n",
    "        # Separa le righe del frammento e le salva nella lista lines\n",
    "        lines = email_fragment.split(\"\\n\")\n",
    "        \n",
    "        # Salva la taglia della maglietta\n",
    "        self.size = lines[1].split(\" \")[-1]\n",
    "        \n",
    "        # Salva la quantità di magliette richieste\n",
    "        self.quantity = [int(n) for n in lines[1].split() if n.isdigit()][0] #trova il primo numero\n",
    "        \n",
    "        # Salva la posizione di consegna dell'ordine come due elementi float di una lista\n",
    "        self.GCS = [float(lines[2].split(\" \")[-1].split(\",\")[0][1:]),float(lines[2].split(\" \")[-1].split(\",\")[1][:-1])]\n",
    "        \n",
    "        # Salva il nome del cliente (ultima riga del txt)\n",
    "        self.customer = lines[-1]\n",
    "        \n",
    "        # Salva il prezzo richiesto dal cliente (bid price)\n",
    "        self.bid_price = float(lines[3].split(\" \")[-1].replace('\\x80', ''))\n",
    "    \n",
    "    # Calcola il pagamento che questo cliente effettuerebbe dato un prezzo di vendita\n",
    "    def Payment(self, ask_price):\n",
    "        return (ask_price * self.quantity)\n",
    "    \n",
    "    # Calcola il profitto (ricavi - costi) per un ordine a questo cliente dato un prezzo di vendita\n",
    "    def Profit(self, ask_price, cost_per_km = 0):\n",
    "        global production_cost\n",
    "        return (self.quantity * (ask_price - production_cost))\n",
    "    \n",
    "    # Calcola una distanza approssimata in km tra piazza Leonardo da Vinci (punto di partenza delle consegne) e la destinazione\n",
    "    def Distance(self, starting_GCS = GCS_Piazza_Leo):\n",
    "        return (((starting_GCS[0] - self.GCS[0])*111)**2+((starting_GCS[1] - self.GCS[1])*78)**2)**0.5\n",
    "    \n",
    "    \n",
    "    # Stampa i dettagli dell'oggetto\n",
    "    def Details(self):\n",
    "        print(self.customer,\"ha ordinato\",self.quantity,\"magliette taglia\",self.size,\"a \"+str(self.bid_price)+\"€ all'indirizzo\",self.GCS)\n",
    "        \n",
    "# Crea gli oggetti Order e li registra nella lista orders\n",
    "for i in range(num_orders):\n",
    "    ######## SCRIVI CODICE ########\n",
    "    file = open(f\"{i+1}.txt\", \"r\", encoding=\"ISO-8859-1\") \n",
    "    #ho dovuto aggiungere encoding=\"ISO-8859-1\" perchè mi dave errori nell'apertura dei files\n",
    "    email = file.read()\n",
    "    orders.append (Order(email))\n",
    "    file.close()\n",
    "    # Apri il file ... ordrs.append( ... Chiudi il file"
   ]
  },
  {
   "cell_type": "code",
   "execution_count": 4,
   "metadata": {},
   "outputs": [
    {
     "name": "stdout",
     "output_type": "stream",
     "text": [
      "Il miglior prezzo è €19.85\n",
      "Si eseguiranno 420 ordini\n",
      "9\n"
     ]
    }
   ],
   "source": [
    "# 2. [1pt] Ogni cliente ha richiesto un prezzo diverso, ma il prezzo di vendita deve essere unico. Considerando 6€ come costo di produzione di una maglietta, determina il **prezzo di vendita** a cui si otterrebbe il maggior  profitto totale (se il prezzo richiesto dal cliente è strettamente inferiore al prezzo di vendita, il cliente non acquisterà)\n",
    "\n",
    "# Determina i profitti per tutti i possibili prezzi di vendita, riferendosi ai prezzi richiesti dai clienti \n",
    "possible_profits = [row.Profit(row.bid_price) for row in orders]\n",
    "#[print(pp) for pp in possible_profits]\n",
    "\n",
    "# Determina il profitto maggiore\n",
    "max_profit = orders [possible_profits.index(max(possible_profits))]\n",
    "\n",
    "# Determina il prezzo migliore\n",
    "best_price = max_profit.bid_price\n",
    "print(\"Il miglior prezzo è €\"+str(best_price))\n",
    "\n",
    "# Trova gli ordini da eseguire dato il miglior prezzo\n",
    "orders_to_go = [ord1 for ord1 in orders if ord1.Profit(best_price) > 0]\n",
    "print(\"Si eseguiranno\", len(orders_to_go),\"ordini\")\n",
    "\n",
    "#se il prezzo richiesto dal cliente è strettamente inferiore al prezzo di vendita,\n",
    "#il cliente non acquisterà\n",
    "my_orders_to_go = [ord1 for ord1 in orders if ord1.bid_price > best_price]\n",
    "print (len(my_orders_to_go))"
   ]
  },
  {
   "cell_type": "code",
   "execution_count": 10,
   "metadata": {},
   "outputs": [
    {
     "name": "stdout",
     "output_type": "stream",
     "text": [
      "Il miglior prezzo è €19.85\n",
      "Si eseguiranno 420 ordini\n",
      "9\n",
      "JP Iacovelli SPA ha ordinato 29 magliette taglia XXL a 19.96€ all'indirizzo [46.035413, 6.990662]\n",
      "JP Moneta e Sorelle ha ordinato 55 magliette taglia L a 19.93€ all'indirizzo [45.677897, 7.120169]\n",
      "Francesco Iacovelli SPA ha ordinato 245 magliette taglia L a 19.87€ all'indirizzo [46.633524, 12.232977]\n",
      "JP Cerisola Giochi d'Azzardo ha ordinato 156 magliette taglia L a 19.86€ all'indirizzo [45.337628, 9.235005]\n",
      "MC Zacchei Latte ha ordinato 351 magliette taglia XS a 19.88€ all'indirizzo [45.498935, 8.319235]\n",
      "Alessandro Bressan IB ha ordinato 242 magliette taglia XS a 19.99€ all'indirizzo [45.152525, 8.134165]\n",
      "Filippo Zacchei SRL ha ordinato 353 magliette taglia S a 19.91€ all'indirizzo [45.442417, 11.506261]\n",
      "Carlo Augusto Cerisola e Fratelli ha ordinato 135 magliette taglia XS a 19.88€ all'indirizzo [46.429483, 11.714962]\n",
      "JP Carrara Servizi Finanziari ha ordinato 486 magliette taglia XS a 19.87€ all'indirizzo [46.177794, 8.410633]\n"
     ]
    },
    {
     "data": {
      "text/plain": [
       "[None, None, None, None, None, None, None, None, None]"
      ]
     },
     "execution_count": 10,
     "metadata": {},
     "output_type": "execute_result"
    }
   ],
   "source": [
    "# 3. [1pt] Considera i **costi di consegna**: viene applicato un costo di 0.10€/km a capo per per ogni ordine sotto le 100 unità, mentre di 0.05€/km per ogni ordine di almeno 100 unità. Trova il nuovo prezzo di vendita che porti al maggior profitto totale e componi la lista degli ordini da eseguire, riordinata dall'ordine che porterebbe al profitto maggiore fino a quella che porterebbe al profitto minore.\n",
    "\n",
    "cost_less_100 = 0.10\n",
    "cost_at_least_100 = 0.05\n",
    "\n",
    "# Determina i profitti per tutti i possibili prezzi di vendita, riferendosi ai prezzi richiesti dai clienti \n",
    "delivery_costs = [cost_less_100 * ord1.Distance() if ord1.quantity < 100 else cost_at_least_100 * ord1.Distance() for ord1 in orders]\n",
    "for i in range(len(possible_profits)):\n",
    "    possible_profits[i] += delivery_costs[i]\n",
    "#[print(pp) for pp in possible_profits]\n",
    "\n",
    "# Determina il profitto maggiore\n",
    "max_profit = orders [possible_profits.index(max(possible_profits))]\n",
    "\n",
    "\n",
    "# Determina il prezzo migliore\n",
    "best_price = max_profit.bid_price\n",
    "print(\"Il miglior prezzo è €\"+str(best_price))\n",
    "\n",
    "# Trova gli ordini da eseguire dato il miglior prezzo\n",
    "orders_to_go = [ord1 for ord1 in orders if ord1.Profit(best_price) > 0]\n",
    "print(\"Si eseguiranno\", len(orders_to_go),\"ordini\")\n",
    "\n",
    "######## SCRIVI CODICE ########\n",
    "my_orders_to_go = [ord1 for ord1 in orders if ord1.bid_price > best_price]\n",
    "print (len(my_orders_to_go))\n",
    "######## SCRIVI CODICE ########\n",
    "my_orders_to_go.sort(key =lambda otg: otg.Profit(best_price) )\n",
    "[otg.Details() for otg in my_orders_to_go]"
   ]
  },
  {
   "cell_type": "code",
   "execution_count": null,
   "metadata": {},
   "outputs": [],
   "source": []
  },
  {
   "cell_type": "code",
   "execution_count": null,
   "metadata": {},
   "outputs": [],
   "source": []
  }
 ],
 "metadata": {
  "kernelspec": {
   "display_name": "Python 3",
   "language": "python",
   "name": "python3"
  },
  "language_info": {
   "codemirror_mode": {
    "name": "ipython",
    "version": 3
   },
   "file_extension": ".py",
   "mimetype": "text/x-python",
   "name": "python",
   "nbconvert_exporter": "python",
   "pygments_lexer": "ipython3",
   "version": "3.8.6"
  }
 },
 "nbformat": 4,
 "nbformat_minor": 4
}
