{
 "cells": [
  {
   "cell_type": "markdown",
   "metadata": {},
   "source": [
    "# Magliette AzIM: ordini, prezzi e consegne"
   ]
  },
  {
   "cell_type": "markdown",
   "metadata": {},
   "source": [
    "L'**Azienda degli Ingegneri Matematici** ha bisogno del tuo aiuto: uno stagista chiamato F.B. ha eliminato il database degli ordini delle stupende **magliette ufficiali AzIM**! Tutto quello che rimane sono 420 frammenti di email con le richieste dei clienti, spetta a te recuperarle e determinare che ordini accettare!\n",
    "\n",
    "\n",
    "0. Nella cartella data trovi tutti i file di testo con i frammenti di email, sono tutti diversi! Contengono la **taglia** delle magliette, la **quantità** di magliette ordinate, la **posizione** in coordinate GCS della consegna, il **nome** del cliente e il **prezzo** a cui vorrebbe acquistare il singolo capo\n",
    "\n",
    "\n",
    "1. [1pt] Registra gli ordini in una **lista di oggetti** \"Order\"\n",
    "\n",
    "\n",
    "2. [1pt] Ogni cliente ha richiesto un prezzo diverso, ma il prezzo di vendita deve essere unico. Considerando 6€ come costo di produzione di una maglietta, determina il **prezzo di vendita** a cui si otterrebbe il maggior  profitto totale (se il prezzo richiesto dal cliente è strettamente inferiore al prezzo di vendita, il cliente non acquisterà)\n",
    "\n",
    "\n",
    "3. [1pt] Considera i **costi di consegna**: viene applicato un costo di 0.10€/km a capo per per ogni ordine sotto le 100 unità, mentre di 0.05€/km per ogni ordine di almeno 100 unità. Trova il nuovo prezzo di vendita che porti al maggior profitto totale e componi la lista degli ordini da eseguire, riordinata dall'ordine che porterebbe al profitto maggiore fino a quella che porterebbe al profitto minore.\n",
    "\n",
    "\n",
    "4. [FACOLTATIVO per lode] Considera la curvatura terrestre per il calcolo della distanza per le consegne (riscrivi la funzione \"Distance\")\n",
    "\n",
    "\n",
    "Utilizza il seguente codice come punto di partenza, riempiendo gli spazi dove manca codice!\n",
    "\n",
    "\n",
    "Per qualsiasi domanda contattare Jean Paul G. Baroni +393315969286"
   ]
  },
  {
   "cell_type": "code",
   "execution_count": 26,
   "metadata": {},
   "outputs": [],
   "source": [
    "# 1. Registra gli ordini in una lista di classi Order\n",
    "\n",
    "GCS_Piazza_Leo = [45.478104, 9.227040] # Coordinate di Piazza Leonardo da Vinci, Milano\n",
    "production_cost = 6 # Costo fisso di produzione della maglietta\n",
    "num_orders = 420 # Numero di ordini nella cartella \"data\"\n",
    "\n",
    "orders = [] # Lista di oggetti che descrivono gli ordini ricevuti\n",
    "\n",
    "# Classe che descrive ciascun ordine ricevuto\n",
    "class Order:\n",
    "    \n",
    "    # Costruttore della classe (prende in input il frammento di email salvato nei .txt)\n",
    "    def __init__(self, email_fragment):\n",
    "        \n",
    "        # Separa le righe del frammento e le salva nella lista lines\n",
    "        lines = email_fragment.split(\"\\n\")\n",
    "        \n",
    "        # Salva la taglia della maglietta\n",
    "        self.size = lines[1].split(\" \")[-1]\n",
    "        \n",
    "        # Salva la quantità di magliette richieste \n",
    "        self.quantity = float(lines[1].split(\" \")[-5])\n",
    "        \n",
    "        # Salva la posizione di consegna dell'ordine come due elementi float di una lista\n",
    "        self.GCS = [float(lines[2].split(\" \")[-1].split(\",\")[0][1:]),float(lines[2].split(\" \")[-1].split(\",\")[1][:-1])]\n",
    "        \n",
    "        # Salva il nome del cliente (ultima riga del txt) \n",
    "        self.customer = [lines[5].split(\" \")[0] , lines[5].split(\" \")[1]]\n",
    "        \n",
    "        # Salva il prezzo richiesto dal cliente (bid price)\n",
    "        self.bid_price = float(lines[3].split(\" \")[-1][:-1])\n",
    "    \n",
    "    # Calcola il pagamento che questo cliente effettuerebbe dato un prezzo di vendita\n",
    "    def Payment(self, ask_price): \n",
    "        if (self.bid_price >= ask_price):\n",
    "            return ask_price\n",
    "        else:\n",
    "            return 0\n",
    "    \n",
    "    # Calcola il profitto (ricavi - costi) per un ordine a questo cliente dato un prezzo di vendita\n",
    "    def Profit(self, ask_price, cost_per_km = 0):\n",
    "        if (self.quantity) < 100:\n",
    "            costi_per_km=0.1*self.distance\n",
    "        else:\n",
    "            costi_per_km=0.05*self.distance\n",
    "        return (ask_price - costi_per_km)\n",
    "    \n",
    "    # Calcola una distanza approssimata in km tra piazza Leonardo da Vinci (punto di partenza delle consegne) e la destinazione\n",
    "    def Distance(self, starting_GCS = GCS_Piazza_Leo):\n",
    "        return (((starting_GCS[0] - self.GCS[0])*111)**2+((starting_GCS[1] - self.GCS[1])*78)**2)**0.5\n",
    "    \n",
    "    # Stampa i dettagli dell'oggetto\n",
    "    def Details(self):\n",
    "        print(self.customer,\"ha ordinato\",self.quantity,\"magliette taglia\",self.size,\"a \"+str(self.bid_price)+\"€ all'indirizzo\",self.GCS)\n",
    "    \n",
    "    # debug\n",
    "    def _repr_(self):\n",
    "        return '<Order({!r})>'.format(vars(self))\n",
    "    \n",
    "# Crea gli oggetti Order e li registra nella lista orders\n",
    "for i in range(1,num_orders):         #i txt partono da 1\n",
    "    file=open('./data/'+str(i)+'.txt')\n",
    "    orders.append(Order(''.join(file.readlines())))\n",
    "    file.close()\n",
    "# Apri il file ... orders.append( ... Chiudi il file"
   ]
  },
  {
   "cell_type": "code",
   "execution_count": 3,
   "metadata": {},
   "outputs": [
    {
     "name": "stdout",
     "output_type": "stream",
     "text": [
      "Il miglior prezzo è €\n"
     ]
    },
    {
     "ename": "NameError",
     "evalue": "name 'orders' is not defined",
     "output_type": "error",
     "traceback": [
      "\u001b[1;31m---------------------------------------------------------------------------\u001b[0m",
      "\u001b[1;31mNameError\u001b[0m                                 Traceback (most recent call last)",
      "\u001b[1;32m<ipython-input-3-cd0cc1ef0a6d>\u001b[0m in \u001b[0;36m<module>\u001b[1;34m\u001b[0m\n\u001b[0;32m     16\u001b[0m \u001b[1;33m\u001b[0m\u001b[0m\n\u001b[0;32m     17\u001b[0m \u001b[1;31m# Trova gli ordini da eseguire dato il miglior prezzo\u001b[0m\u001b[1;33m\u001b[0m\u001b[1;33m\u001b[0m\u001b[1;33m\u001b[0m\u001b[0m\n\u001b[1;32m---> 18\u001b[1;33m \u001b[0morders_to_go\u001b[0m \u001b[1;33m=\u001b[0m \u001b[1;33m[\u001b[0m\u001b[0mord1\u001b[0m \u001b[1;32mfor\u001b[0m \u001b[0mord1\u001b[0m \u001b[1;32min\u001b[0m \u001b[0morders\u001b[0m \u001b[1;32mif\u001b[0m \u001b[0mord1\u001b[0m\u001b[1;33m.\u001b[0m\u001b[0mProfit\u001b[0m\u001b[1;33m(\u001b[0m\u001b[0mbest_price\u001b[0m\u001b[1;33m)\u001b[0m \u001b[1;33m>\u001b[0m \u001b[1;36m0\u001b[0m\u001b[1;33m]\u001b[0m\u001b[1;33m\u001b[0m\u001b[1;33m\u001b[0m\u001b[0m\n\u001b[0m\u001b[0;32m     19\u001b[0m \u001b[0mprint\u001b[0m\u001b[1;33m(\u001b[0m\u001b[1;34m\"Si eseguiranno\"\u001b[0m\u001b[1;33m,\u001b[0m \u001b[0mlen\u001b[0m\u001b[1;33m(\u001b[0m\u001b[0morders_to_go\u001b[0m\u001b[1;33m)\u001b[0m\u001b[1;33m,\u001b[0m\u001b[1;34m\"ordini\"\u001b[0m\u001b[1;33m)\u001b[0m\u001b[1;33m\u001b[0m\u001b[1;33m\u001b[0m\u001b[0m\n",
      "\u001b[1;31mNameError\u001b[0m: name 'orders' is not defined"
     ]
    }
   ],
   "source": [
    "# 2. [1pt] Ogni cliente ha richiesto un prezzo diverso, ma il prezzo di vendita deve essere unico. \n",
    "# considerando 6€ come costo di produzione di una maglietta, determina il **prezzo di vendita** a \n",
    "#cui si otterrebbe il maggior  profitto totale (se il prezzo richiesto dal cliente è strettamente \n",
    "#inferiore al prezzo di vendita, il cliente non acquisterà)\n",
    "\n",
    "# Determina i profitti per tutti i possibili prezzi di vendita, riferendosi ai prezzi richiesti dai clienti \n",
    "possible_profits = _######## SCRIVI CODICE ########\n",
    "#_ = [print(pp) for pp in possible_profits]\n",
    "\n",
    "# Determina il profitto maggiore\n",
    "max_profit = _######## SCRIVI CODICE ########\n",
    "\n",
    "# Determina il prezzo migliore\n",
    "best_price = _######## SCRIVI CODICE ########\n",
    "print(\"Il miglior prezzo è €\"+str(best_price))\n",
    "\n",
    "# Trova gli ordini da eseguire dato il miglior prezzo\n",
    "orders_to_go = [ord1 for ord1 in orders if ord1.Profit(best_price) > 0]\n",
    "print(\"Si eseguiranno\", len(orders_to_go),\"ordini\")"
   ]
  },
  {
   "cell_type": "code",
   "execution_count": 6,
   "metadata": {},
   "outputs": [
    {
     "name": "stdout",
     "output_type": "stream",
     "text": [
      "Il miglior prezzo è €\n",
      "Si eseguiranno 0 ordini\n"
     ]
    }
   ],
   "source": [
    "# 3. [1pt] Considera i **costi di consegna**: viene applicato un costo di 0.10€/km a capo per per ogni ordine sotto le 100 unità, mentre di 0.05€/km per ogni ordine di almeno 100 unità. Trova il nuovo prezzo di vendita che porti al maggior profitto totale e componi la lista degli ordini da eseguire, riordinata dall'ordine che porterebbe al profitto maggiore fino a quella che porterebbe al profitto minore.\n",
    "\n",
    "cost_less_100 = 0.10\n",
    "cost_at_least_100 = 0.05\n",
    "\n",
    "# Determina i profitti per tutti i possibili prezzi di vendita, riferendosi ai prezzi richiesti dai clienti \n",
    "possible_profits = _######## SCRIVI CODICE ########\n",
    "#_ = [print(pp) for pp in possible_profits]\n",
    "\n",
    "# Determina il profitto maggiore\n",
    "max_profit = _######## SCRIVI CODICE ########\n",
    "\n",
    "# Determina il prezzo migliore\n",
    "best_price = _######## SCRIVI CODICE ########\n",
    "print(\"Il miglior prezzo è €\"+str(best_price))\n",
    "\n",
    "# Trova gli ordini da eseguire dato il miglior prezzo\n",
    "orders_to_go = _######## SCRIVI CODICE ########\n",
    "print(\"Si eseguiranno\", len(orders_to_go),\"ordini\")\n",
    "\n",
    "######## SCRIVI CODICE ########\n",
    "# ... assembla la lista degli ordini che devono che si possono soddisfare, dando precedenza a quelli che portano maggiore profitto\n",
    "######## SCRIVI CODICE ########\n",
    "\n",
    "_ = [otg.Details() for otg in orders_to_go]"
   ]
  }
 ],
 "metadata": {
  "kernelspec": {
   "display_name": "Python 3",
   "language": "python",
   "name": "python3"
  },
  "language_info": {
   "codemirror_mode": {
    "name": "ipython",
    "version": 3
   },
   "file_extension": ".py",
   "mimetype": "text/x-python",
   "name": "python",
   "nbconvert_exporter": "python",
   "pygments_lexer": "ipython3",
   "version": "3.8.5"
  }
 },
 "nbformat": 4,
 "nbformat_minor": 4
}
