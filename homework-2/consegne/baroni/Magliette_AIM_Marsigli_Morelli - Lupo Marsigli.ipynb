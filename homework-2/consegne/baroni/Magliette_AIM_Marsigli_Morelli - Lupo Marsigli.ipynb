{
 "cells": [
  {
   "cell_type": "markdown",
   "metadata": {},
   "source": [
    "# Magliette AzIM: ordini, prezzi e consegne"
   ]
  },
  {
   "cell_type": "markdown",
   "metadata": {},
   "source": [
    "L'**Azienda degli Ingegneri Matematici** ha bisogno del tuo aiuto: uno stagista chiamato F.B. ha eliminato il database degli ordini delle stupende **magliette ufficiali AzIM**! Tutto quello che rimane sono 420 frammenti di email con le richieste dei clienti, spetta a te recuperarle e determinare che ordini accettare!\n",
    "\n",
    "\n",
    "0. Nella cartella data trovi tutti i file di testo con i frammenti di email, sono tutti diversi! Contengono la **taglia** delle magliette, la **quantità** di magliette ordinate, la **posizione** in coordinate GCS della consegna, il **nome** del cliente e il **prezzo** a cui vorrebbe acquistare il singolo capo\n",
    "\n",
    "\n",
    "1. [1pt] Registra gli ordini in una **lista di oggetti** \"Order\"\n",
    "\n",
    "\n",
    "2. [1pt] Ogni cliente ha richiesto un prezzo diverso, ma il prezzo di vendita deve essere unico. Considerando 6€ come costo di produzione di una maglietta, determina il **prezzo di vendita** a cui si otterrebbe il maggior  profitto totale (se il prezzo richiesto dal cliente è strettamente inferiore al prezzo di vendita, il cliente non acquisterà)\n",
    "\n",
    "\n",
    "3. [1pt] Considera i **costi di consegna**: viene applicato un costo di 0.10€/km a capo per per ogni ordine sotto le 100 unità, mentre di 0.05€/km per ogni ordine di almeno 100 unità. Trova il nuovo prezzo di vendita che porti al maggior profitto totale e componi la lista degli ordini da eseguire, riordinata dall'ordine che porterebbe al profitto maggiore fino a quella che porterebbe al profitto minore.\n",
    "\n",
    "\n",
    "4. [FACOLTATIVO per lode] Considera la curvatura terrestre per il calcolo della distanza per le consegne (riscrivi la funzione \"Distance\")\n",
    "\n",
    "\n",
    "Utilizza il seguente codice come punto di partenza, riempiendo gli spazi dove manca codice!\n",
    "\n",
    "\n",
    "Per qualsiasi domanda contattare Jean Paul G. Baroni +393315969286"
   ]
  },
  {
   "cell_type": "code",
   "execution_count": 52,
   "metadata": {},
   "outputs": [
    {
     "name": "stdout",
     "output_type": "stream",
     "text": [
      "Maurizio Genalti Racing ha ordinato 383 magliette taglia L a 13.35€ all'indirizzo [44.730801, 10.411061]\n",
      "Enrico Zacchei IB ha ordinato 33 magliette taglia S a 19.16€ all'indirizzo [45.386683, 8.176936]\n",
      "Luca Bressan e Fratelli ha ordinato 316 magliette taglia L a 19.58€ all'indirizzo [46.389283, 11.742332]\n",
      "Angelica Fedeli e Sorelle ha ordinato 255 magliette taglia M a 16.6€ all'indirizzo [44.983867, 9.346757]\n",
      "Angelica Cerisola Azienda Agricola ha ordinato 389 magliette taglia M a 11.37€ all'indirizzo [45.219274, 10.508013]\n",
      "Valentina Calcaterra Franchising ha ordinato 398 magliette taglia S a 6.98€ all'indirizzo [46.078556, 10.47238]\n",
      "JP Iacovelli SPA ha ordinato 29 magliette taglia XXL a 19.96€ all'indirizzo [46.035413, 6.990662]\n",
      "Angelica Calcaterra Strumenti Musicali ha ordinato 307 magliette taglia M a 15.22€ all'indirizzo [45.900417, 11.562795]\n",
      "JP Bacchiocchi INC. ha ordinato 384 magliette taglia M a 7.42€ all'indirizzo [45.952838, 8.110702]\n",
      "Gianmarco Sosta Giocattoli ha ordinato 357 magliette taglia XS a 15.86€ all'indirizzo [45.804997, 8.586271]\n"
     ]
    }
   ],
   "source": [
    "# 1. Registra gli ordini in una lista di classi Order\n",
    "\n",
    "GCS_Piazza_Leo = [45.478104, 9.227040] # Coordinate di Piazza Leonardo da Vinci, Milano\n",
    "production_cost = 6 # Costo fisso di produzione della maglietta\n",
    "num_orders = 10 # Numero di ordini nella cartella \"data\"\n",
    "\n",
    "orders = [] # Lista di oggetti che descrivono gli ordini ricevuti\n",
    "\n",
    "# Classe che descrive ciascun ordine ricevuto\n",
    "class Order:\n",
    "    \n",
    "    # Costruttore della classe (prende in input il frammento di email salvato nei .txt)\n",
    "    def __init__(self, email_fragment):\n",
    "        \n",
    "        # Separa le righe del frammento e le salva nella lista lines\n",
    "        lines = email_fragment.split(\"\\n\")\n",
    "        \n",
    "        # Salva la taglia della maglietta\n",
    "        self.size = lines[1].split(\" \")[-1]\n",
    "        \n",
    "        # Salva la quantità di magliette richieste\n",
    "        self.quantity = int(lines[1].split(\" \")[-5])\n",
    "        \n",
    "        # Salva la posizione di consegna dell'ordine come due elementi float di una lista\n",
    "        self.GCS = [float(lines[2].split(\" \")[-1].split(\",\")[0][1:]),float(lines[2].split(\" \")[-1].split(\",\")[1][:-1])]\n",
    "        \n",
    "        # Salva il nome del cliente (ultima riga del txt)\n",
    "        self.customer = lines[-1]\n",
    "        \n",
    "        # Salva il prezzo richiesto dal cliente (bid price)\n",
    "        self.bid_price = float(lines[3].split(\" \")[-1])\n",
    "        #self.bid_price = lines[3].split(\" \")[-1][:-1]\n",
    "    \n",
    "    # Calcola il pagamento che questo cliente effettuerebbe dato un prezzo di vendita\n",
    "    def Payment(self, ask_price):\n",
    "        if (self.bid_price >= ask_price and ask_price >= 6):\n",
    "            return ask_price\n",
    "        else:\n",
    "            return production_cost\n",
    "    \n",
    "    # Calcola il profitto (ricavi - costi) per un ordine a questo cliente dato un prezzo di vendita\n",
    "    def Profit(self, ask_price, cost_per_km = 0):\n",
    "        return self.Payment(ask_price) - production_cost\n",
    "    \n",
    "    # Calcola una distanza approssimata in km tra piazza Leonardo da Vinci (punto di partenza delle consegne) e la destinazione\n",
    "    def Distance(self, starting_GCS = GCS_Piazza_Leo):\n",
    "        return (((starting_GCS[0] - self.GCS[0])*111)**2+((starting_GCS[1] - self.GCS[1])*78)**2)**0.5\n",
    "    \n",
    "    # Stampa i dettagli dell'oggetto\n",
    "    def Details(self):\n",
    "        print(self.customer,\"ha ordinato\",self.quantity,\"magliette taglia\",self.size,\"a \"+str(self.bid_price)+\"€ all'indirizzo\",self.GCS)\n",
    "\"\"\"  \n",
    "file = open('1.txt','r')\n",
    "testo = file.read()\n",
    "file.close()\n",
    "ordine1 = Order(testo)\n",
    "ordine1.Details()\n",
    "\"\"\"\n",
    "# Crea gli oggetti Order e li registra nella lista orders\n",
    "\n",
    "#Abbiamo problemi con la lettura del carattere dell'euro, non lo legge con file.read(), restituisce errore\n",
    "#Di conseguenza abbiamo provato l'esercizio usando i primi 10 file txt, modificati togliendo il carattere non leggibile\n",
    "\n",
    "for i in range(num_orders):\n",
    "    file = open(f'{i+1}.txt','r')\n",
    "    testo = file.read()\n",
    "    orders.append(Order(testo))\n",
    "    file.close()\n",
    "for i in range(num_orders):\n",
    "    orders[i].Details()"
   ]
  },
  {
   "cell_type": "code",
   "execution_count": 54,
   "metadata": {},
   "outputs": [
    {
     "name": "stdout",
     "output_type": "stream",
     "text": [
      "Possibili profitti:  [12348.0, 4974.4800000000005, 4685.099999999999, 6709.800000000001, 11110.529999999999, 2793.9800000000014, 404.84000000000003, 11958.340000000002, 3483.2599999999998, 9761.4]\n",
      "Il miglior prezzo è €13.35\n",
      "Si eseguiranno 7 ordini\n"
     ]
    }
   ],
   "source": [
    "# 2. [1pt] Ogni cliente ha richiesto un prezzo diverso, ma il prezzo di vendita deve essere unico.\n",
    "#Considerando 6€ come costo di produzione di una maglietta, determina il **prezzo di vendita** a cui si otterrebbe\n",
    "#il maggior  profitto totale (se il prezzo richiesto dal cliente è strettamente inferiore al prezzo di vendita,\n",
    "#il cliente non acquisterà)\n",
    "\n",
    "# Determina i profitti per tutti i possibili prezzi di vendita, riferendosi ai prezzi richiesti dai clienti \n",
    "possible_profits = []\n",
    "for i in range (num_orders):\n",
    "    prezzo_vendita = orders[i].bid_price\n",
    "    profitto = 0\n",
    "    for j in range (num_orders):\n",
    "        profitto += orders[j].Profit(prezzo_vendita) * orders[j].quantity\n",
    "    possible_profits.append(profitto)\n",
    "#_ = [print(pp) for pp in possible_profits]\n",
    "print(\"Possibili profitti: \", possible_profits)\n",
    "# Determina il profitto maggiore\n",
    "max_profit = max(possible_profits)\n",
    "indice_max = possible_profits.index(max_profit)\n",
    "\n",
    "# Determina il prezzo migliore\n",
    "best_price = orders[indice_max].bid_price\n",
    "print(\"Il miglior prezzo è €\"+str(best_price))\n",
    "\n",
    "# Trova gli ordini da eseguire dato il miglior prezzo\n",
    "orders_to_go = [ord1 for ord1 in orders if ord1.Profit(best_price) > 0]\n",
    "print(\"Si eseguiranno\", len(orders_to_go),\"ordini\")"
   ]
  },
  {
   "cell_type": "code",
   "execution_count": 6,
   "metadata": {},
   "outputs": [
    {
     "name": "stdout",
     "output_type": "stream",
     "text": [
      "Il miglior prezzo è €\n",
      "Si eseguiranno 0 ordini\n"
     ]
    }
   ],
   "source": [
    "# 3. [1pt] Considera i **costi di consegna**: viene applicato un costo di 0.10€/km a capo per per ogni ordine\n",
    "#sotto le 100 unità, mentre di 0.05€/km per ogni ordine di almeno 100 unità. Trova il nuovo prezzo di vendita\n",
    "#che porti al maggior profitto totale e componi la lista degli ordini da eseguire, riordinata dall'ordine che\n",
    "#porterebbe al profitto maggiore fino a quella che porterebbe al profitto minore.\n",
    "\n",
    "cost_less_100 = 0.10\n",
    "cost_at_least_100 = 0.05\n",
    "\n",
    "# Determina i profitti per tutti i possibili prezzi di vendita, riferendosi ai prezzi richiesti dai clienti \n",
    "possible_profits = _######## SCRIVI CODICE ########\n",
    "#_ = [print(pp) for pp in possible_profits]\n",
    "\n",
    "# Determina il profitto maggiore\n",
    "max_profit = _######## SCRIVI CODICE ########\n",
    "\n",
    "# Determina il prezzo migliore\n",
    "best_price = _######## SCRIVI CODICE ########\n",
    "print(\"Il miglior prezzo è €\"+str(best_price))\n",
    "\n",
    "# Trova gli ordini da eseguire dato il miglior prezzo\n",
    "orders_to_go = _######## SCRIVI CODICE ########\n",
    "print(\"Si eseguiranno\", len(orders_to_go),\"ordini\")\n",
    "\n",
    "######## SCRIVI CODICE ########\n",
    "# ... assembla la lista degli ordini che devono che si possono soddisfare, dando precedenza a quelli che portano maggiore profitto\n",
    "######## SCRIVI CODICE ########\n",
    "\n",
    "_ = [otg.Details() for otg in orders_to_go]"
   ]
  }
 ],
 "metadata": {
  "kernelspec": {
   "display_name": "Python 3",
   "language": "python",
   "name": "python3"
  },
  "language_info": {
   "codemirror_mode": {
    "name": "ipython",
    "version": 3
   },
   "file_extension": ".py",
   "mimetype": "text/x-python",
   "name": "python",
   "nbconvert_exporter": "python",
   "pygments_lexer": "ipython3",
   "version": "3.8.6"
  }
 },
 "nbformat": 4,
 "nbformat_minor": 4
}
