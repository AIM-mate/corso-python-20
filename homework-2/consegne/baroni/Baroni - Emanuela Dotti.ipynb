{
 "cells": [
  {
   "cell_type": "markdown",
   "metadata": {},
   "source": [
    "# Magliette AzIM: ordini, prezzi e consegne"
   ]
  },
  {
   "cell_type": "markdown",
   "metadata": {},
   "source": [
    "L'**Azienda degli Ingegneri Matematici** ha bisogno del tuo aiuto: uno stagista chiamato F.B. ha eliminato il database degli ordini delle stupende **magliette ufficiali AzIM**! Tutto quello che rimane sono 420 frammenti di email con le richieste dei clienti, spetta a te recuperarle e determinare che ordini accettare!\n",
    "\n",
    "\n",
    "0. Nella cartella data trovi tutti i file di testo con i frammenti di email, sono tutti diversi! Contengono la **taglia** delle magliette, la **quantità** di magliette ordinate, la **posizione** in coordinate GCS della consegna, il **nome** del cliente e il **prezzo** a cui vorrebbe acquistare il singolo capo\n",
    "\n",
    "\n",
    "1. [1pt] Registra gli ordini in una **lista di oggetti** \"Order\"\n",
    "\n",
    "\n",
    "2. [1pt] Ogni cliente ha richiesto un prezzo diverso, ma il prezzo di vendita deve essere unico. Considerando 6€ come costo di produzione di una maglietta, determina il **prezzo di vendita** a cui si otterrebbe il maggior  profitto totale (se il prezzo richiesto dal cliente è strettamente inferiore al prezzo di vendita, il cliente non acquisterà)\n",
    "\n",
    "\n",
    "3. [1pt] Considera i **costi di consegna**: viene applicato un costo di 0.10€/km a capo per per ogni ordine sotto le 100 unità, mentre di 0.05€/km per ogni ordine di almeno 100 unità. Trova il nuovo prezzo di vendita che porti al maggior profitto totale e componi la lista degli ordini da eseguire, riordinata dall'ordine che porterebbe al profitto maggiore fino a quella che porterebbe al profitto minore.\n",
    "\n",
    "\n",
    "4. [FACOLTATIVO per lode] Considera la curvatura terrestre per il calcolo della distanza per le consegne (riscrivi la funzione \"Distance\")\n",
    "\n",
    "\n",
    "Utilizza il seguente codice come punto di partenza, riempiendo gli spazi dove manca codice!\n",
    "\n",
    "\n",
    "Per qualsiasi domanda contattare Jean Paul G. Baroni +393315969286"
   ]
  },
  {
   "cell_type": "code",
   "execution_count": 1,
   "metadata": {},
   "outputs": [],
   "source": [
    "def trovanumero(line):\n",
    "    line = line.split(\" \")\n",
    "    i=0\n",
    "    while not line[i].isnumeric():\n",
    "        i=i+1\n",
    "    return line[i]"
   ]
  },
  {
   "cell_type": "code",
   "execution_count": 2,
   "metadata": {},
   "outputs": [],
   "source": [
    "# 1. Registra gli ordini in una lista di classi Order\n",
    "\n",
    "GCS_Piazza_Leo = [45.478104, 9.227040] # Coordinate di Piazza Leonardo da Vinci, Milano\n",
    "production_cost = 6 # Costo fisso di produzione della maglietta\n",
    "num_orders = 420 # Numero di ordini nella cartella \"data\"\n",
    "\n",
    "orders = [] # Lista di oggetti che descrivono gli ordini ricevuti\n",
    "\n",
    "# Classe che descrive ciascun ordine ricevuto\n",
    "class Order:\n",
    "    \n",
    "    # Costruttore della classe (prende in input il frammento di email salvato nei .txt)\n",
    "    def __init__(self, email_fragment):\n",
    "        \n",
    "        # Separa le righe del frammento e le salva nella lista lines\n",
    "        lines = email_fragment.split(\"\\n\")\n",
    "        \n",
    "        # Salva la taglia della maglietta\n",
    "        self.size = lines[1].split(\" \")[-1]\n",
    "        \n",
    "        # Salva la quantità di magliette richieste\n",
    "        self.quantity = float(trovanumero(lines[1]))\n",
    "        \n",
    "        # Salva la posizione di consegna dell'ordine come due elementi float di una lista\n",
    "        self.GCS = [float(lines[2].split(\" \")[-1].split(\",\")[0][1:]),float(lines[2].split(\" \")[-1].split(\",\")[1][:-1])]\n",
    "        \n",
    "        # Salva il nome del cliente (ultima riga del txt)\n",
    "        self.customer = lines[5] \n",
    "        \n",
    "        # Salva il prezzo richiesto dal cliente (bid price)\n",
    "        prezzo_stringa = lines[3].split(\" \")[-1]\n",
    "        self.bid_price = float(prezzo_stringa[:-1])\n",
    "    \n",
    "    # Calcola il pagamento che questo cliente effettuerebbe dato un prezzo di vendita\n",
    "    def Payment(self, ask_price):\n",
    "        if self.bid_price < ask_price:\n",
    "            return 0\n",
    "        else:\n",
    "            return ask_price*self.quantity\n",
    "    \n",
    "    # Calcola una distanza approssimata in km tra piazza Leonardo da Vinci (punto di partenza delle consegne) e la destinazione\n",
    "    def Distance(self, starting_GCS = GCS_Piazza_Leo):\n",
    "        return (((starting_GCS[0] - self.GCS[0])*111)**2+((starting_GCS[1] - self.GCS[1])*78)**2)**0.5\n",
    "    \n",
    "    # Calcola il profitto (ricavi - costi) per un ordine a questo cliente dato un prezzo di vendita\n",
    "    def Profit(self, ask_price, cost_per_km = 0):\n",
    "        if self.bid_price < ask_price:\n",
    "            return 0\n",
    "        else:\n",
    "            return float((ask_price - production_cost - cost_per_km*self.Distance())*self.quantity)\n",
    "    \n",
    "    # Stampa i dettagli dell'oggetto\n",
    "    def Details(self):\n",
    "        print(self.customer,\"ha ordinato\",self.quantity,\"magliette taglia\",self.size,\"a \"+str(self.bid_price)+\"€ all'indirizzo\",self.GCS)\n",
    "    \n",
    "# Crea gli oggetti Order e li registra nella lista orders\n",
    "for i in range(num_orders):\n",
    "    file = open(f\"{i+1}.txt\",'r')\n",
    "    testo = file.read()\n",
    "    orders.append(Order(testo))\n",
    "    file.close()\n",
    "  "
   ]
  },
  {
   "cell_type": "code",
   "execution_count": 7,
   "metadata": {},
   "outputs": [
    {
     "name": "stdout",
     "output_type": "stream",
     "text": [
      "<bound method Order.Distance of <__main__.Order object at 0x0580B970>>\n"
     ]
    }
   ],
   "source": [
    "file = open(\"1.txt\",'r')\n",
    "testo = file.read()\n",
    "orders.append(Order(testo))\n",
    "print(orders[0].Distance)\n",
    "file.close()"
   ]
  },
  {
   "cell_type": "code",
   "execution_count": 3,
   "metadata": {
    "scrolled": true
   },
   "outputs": [
    {
     "name": "stdout",
     "output_type": "stream",
     "text": [
      "Il miglior prezzo è €19.85\n",
      "Si eseguiranno 11 ordini\n"
     ]
    }
   ],
   "source": [
    "# 2. [1pt] Ogni cliente ha richiesto un prezzo diverso, ma il prezzo di vendita deve essere unico. Considerando 6€ come costo di produzione di una maglietta, determina il **prezzo di vendita** a cui si otterrebbe il maggior  profitto totale (se il prezzo richiesto dal cliente è strettamente inferiore al prezzo di vendita, il cliente non acquisterà)\n",
    "\n",
    "# Determina i profitti per tutti i possibili prezzi di vendita, riferendosi ai prezzi richiesti dai clienti \n",
    "possible_profits = [0 for _ in range(num_orders)]\n",
    "\n",
    "for i in range(num_orders):\n",
    "    ask_price = float(orders[i].bid_price)\n",
    "    \n",
    "    for j in range(num_orders):\n",
    "        possible_profits[i] = possible_profits[i] + orders[i].Profit(ask_price)\n",
    "\n",
    "#print(possible_profits)\n",
    "        #_ = [print(pp) for pp in possible_profits]\n",
    "\n",
    "# Determina il profitto maggiore\n",
    "index_max = 0\n",
    "massimo = possible_profits[0]\n",
    "\n",
    "for i in range(num_orders):\n",
    "    if possible_profits[i]>massimo:\n",
    "        massimo = possible_profits[i]\n",
    "        index_max = i\n",
    "\n",
    "# Determina il prezzo migliore\n",
    "best_price = orders[index_max].bid_price\n",
    "print(\"Il miglior prezzo è €\"+str(best_price))\n",
    "\n",
    "# Trova gli ordini da eseguire dato il miglior prezzo\n",
    "orders_to_go = [ord1 for ord1 in orders if ord1.Profit(best_price) > 0]\n",
    "print(\"Si eseguiranno\", len(orders_to_go),\"ordini\")\n"
   ]
  },
  {
   "cell_type": "code",
   "execution_count": 4,
   "metadata": {},
   "outputs": [
    {
     "ename": "TypeError",
     "evalue": "'float' object is not callable",
     "output_type": "error",
     "traceback": [
      "\u001b[1;31m---------------------------------------------------------------------------\u001b[0m",
      "\u001b[1;31mTypeError\u001b[0m                                 Traceback (most recent call last)",
      "\u001b[1;32m<ipython-input-4-78ed3886a87f>\u001b[0m in \u001b[0;36m<module>\u001b[1;34m\u001b[0m\n\u001b[0;32m     11\u001b[0m \u001b[1;33m\u001b[0m\u001b[0m\n\u001b[0;32m     12\u001b[0m     \u001b[1;32mfor\u001b[0m \u001b[0mj\u001b[0m \u001b[1;32min\u001b[0m \u001b[0mrange\u001b[0m\u001b[1;33m(\u001b[0m\u001b[0mnum_orders\u001b[0m\u001b[1;33m)\u001b[0m\u001b[1;33m:\u001b[0m\u001b[1;33m\u001b[0m\u001b[1;33m\u001b[0m\u001b[0m\n\u001b[1;32m---> 13\u001b[1;33m         \u001b[1;32mif\u001b[0m \u001b[0morders\u001b[0m\u001b[1;33m[\u001b[0m\u001b[0mi\u001b[0m\u001b[1;33m]\u001b[0m\u001b[1;33m.\u001b[0m\u001b[0mquantity\u001b[0m\u001b[1;33m(\u001b[0m\u001b[1;33m)\u001b[0m\u001b[1;33m<\u001b[0m\u001b[1;36m100\u001b[0m\u001b[1;33m:\u001b[0m\u001b[1;33m\u001b[0m\u001b[1;33m\u001b[0m\u001b[0m\n\u001b[0m\u001b[0;32m     14\u001b[0m             \u001b[0mpossible_profits\u001b[0m\u001b[1;33m[\u001b[0m\u001b[0mi\u001b[0m\u001b[1;33m]\u001b[0m \u001b[1;33m=\u001b[0m \u001b[0mpossible_profits\u001b[0m\u001b[1;33m[\u001b[0m\u001b[0mi\u001b[0m\u001b[1;33m]\u001b[0m \u001b[1;33m+\u001b[0m \u001b[0morders\u001b[0m\u001b[1;33m[\u001b[0m\u001b[0mi\u001b[0m\u001b[1;33m]\u001b[0m\u001b[1;33m.\u001b[0m\u001b[0mProfit\u001b[0m\u001b[1;33m(\u001b[0m\u001b[0mask_price\u001b[0m\u001b[1;33m,\u001b[0m\u001b[0mcost_less_100\u001b[0m\u001b[1;33m)\u001b[0m\u001b[1;33m\u001b[0m\u001b[1;33m\u001b[0m\u001b[0m\n\u001b[0;32m     15\u001b[0m         \u001b[1;32melse\u001b[0m\u001b[1;33m:\u001b[0m\u001b[1;33m\u001b[0m\u001b[1;33m\u001b[0m\u001b[0m\n",
      "\u001b[1;31mTypeError\u001b[0m: 'float' object is not callable"
     ]
    }
   ],
   "source": [
    "# 3. [1pt] Considera i **costi di consegna**: viene applicato un costo di 0.10€/km a capo per per ogni ordine sotto le 100 unità, mentre di 0.05€/km per ogni ordine di almeno 100 unità. Trova il nuovo prezzo di vendita che porti al maggior profitto totale e componi la lista degli ordini da eseguire, riordinata dall'ordine che porterebbe al profitto maggiore fino a quella che porterebbe al profitto minore.\n",
    "\n",
    "cost_less_100 = 0.10\n",
    "cost_at_least_100 = 0.05\n",
    "\n",
    "# Determina i profitti per tutti i possibili prezzi di vendita, riferendosi ai prezzi richiesti dai clienti \n",
    "possible_profits = [0 for _ in range(num_orders)]\n",
    "\n",
    "for i in range(num_orders):\n",
    "    ask_price = float(orders[i].bid_price)\n",
    "    \n",
    "    for j in range(num_orders):\n",
    "        if orders[i].quantity()<100:\n",
    "            possible_profits[i] = possible_profits[i] + orders[i].Profit(ask_price,cost_less_100)\n",
    "        else: \n",
    "            possible_profits[i] = possible_profits[i] + orders[i].Profit(ask_price,cost_at_least_100)\n",
    "    \n",
    "possible_profits = _######## SCRIVI CODICE ########\n",
    "\n",
    "#_ = [print(pp) for pp in possible_profits]\n",
    "\n",
    "# Determina il profitto maggiore\n",
    "\n",
    "index_max = 0\n",
    "massimo = possible_profits[0]\n",
    "\n",
    "for i in range(num_orders):\n",
    "    if possible_profits[i]>massimo:\n",
    "        massimo = possible_profits[i]\n",
    "        index_max = i\n",
    "        \n",
    "# Determina il prezzo migliore\n",
    "best_price = orders[index_max].bid_price\n",
    "print(\"Il miglior prezzo è €\"+str(best_price))\n",
    "\n",
    "#Trova gli ordini da eseguire dato il miglior prezzo\n",
    "orders_to_go = [ord1 for ord1 in orders if ord1.Profit(best_price) > 0]\n",
    "print(\"Si eseguiranno\", len(orders_to_go),\"ordini\")\n",
    "\n",
    "######## SCRIVI CODICE ########\n",
    "\n",
    "# ... assembla la lista degli ordini che devono che si possono soddisfare, dando precedenza a quelli che portano maggiore profitto\n",
    "\n",
    "######## SCRIVI CODICE ########\n",
    "\n",
    "#_ = [otg.Details() for otg in orders_to_go]"
   ]
  }
 ],
 "metadata": {
  "kernelspec": {
   "display_name": "Python 3",
   "language": "python",
   "name": "python3"
  },
  "language_info": {
   "codemirror_mode": {
    "name": "ipython",
    "version": 3
   },
   "file_extension": ".py",
   "mimetype": "text/x-python",
   "name": "python",
   "nbconvert_exporter": "python",
   "pygments_lexer": "ipython3",
   "version": "3.8.5"
  }
 },
 "nbformat": 4,
 "nbformat_minor": 4
}
