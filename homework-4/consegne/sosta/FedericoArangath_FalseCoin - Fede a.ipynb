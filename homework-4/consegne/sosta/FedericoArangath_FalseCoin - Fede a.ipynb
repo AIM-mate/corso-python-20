{
 "cells": [
  {
   "cell_type": "markdown",
   "metadata": {},
   "source": [
    "# Trova la Moneta Falsa"
   ]
  },
  {
   "cell_type": "markdown",
   "metadata": {},
   "source": [
    "In un numpy array di n elementi (2 < n < 240) ci sono tutte monete di un certo peso ed una leggermente più pesante. Dovete scoprire quale è l'indice della moneta più pesante!\n",
    "Per farlo dovete costruire una funzione TEST che dati due array confronti le loro somme e restituisca:\n",
    "- 1 se il primo è più pesante\n",
    "- 2 se il secondo è più pesante\n",
    "- 0 se hanno lo stesso peso\n",
    "\n",
    "Questa funzione è l'unico modo in cui potete accedere agli elementi dell'array ed il vostro obiettivo è scoprire la moneta falsa in meno TEST possibili."
   ]
  },
  {
   "cell_type": "markdown",
   "metadata": {},
   "source": [
    "Il programma dovrà generare nel main una serie di numpy array di varie dimensione e ogni elemento inizializzato ad un numero casuale tra 10000 e 20000 e successivamente scgeliere un indice casuale e aggiungere 1 a quell'elemento.\n",
    "Create poi una matrice contenente:\n",
    "- Numero di elementi dell'i-esimo array\n",
    "- Indice della moneta più pesante dell'i-esimo array\n",
    "- Indice restituito dal vostro algoritmo dell'i-esimo array\n",
    "- Numero di volte in cui avete usato TEST per l'i-esimo array"
   ]
  },
  {
   "cell_type": "markdown",
   "metadata": {},
   "source": [
    "La valutazione terrà conto dell'ottimalità e dell'esattezza della soluzione in primo luogo, successivamente dello stile e chiarezza del codice.\n",
    "Non è ammesso l'utilizzo di liste, tuple o simili, ma solo di array di numpy.\n",
    "Buon lavoro!"
   ]
  },
  {
   "cell_type": "markdown",
   "metadata": {},
   "source": [
    "EXTRA BONUS: fatelo nel caso in cui non sapete se la moneta falsa è più pesante o leggera"
   ]
  },
  {
   "cell_type": "code",
   "execution_count": 22,
   "metadata": {},
   "outputs": [
    {
     "name": "stdout",
     "output_type": "stream",
     "text": [
      "[[172.  24.  24.   5.]\n",
      " [ 48.  45.  45.   5.]\n",
      " [197. 102. 102.   7.]\n",
      " [103.  10.  10.   5.]\n",
      " [135. 111. 111.   7.]]\n"
     ]
    }
   ],
   "source": [
    "import numpy as np\n",
    "import random\n",
    "\n",
    "def TEST(array1, array2):\n",
    "    if np.sum(array1)>np.sum(array2):\n",
    "        return 1\n",
    "    elif np.sum(array1)<np.sum(array2):\n",
    "        return 2\n",
    "    else:\n",
    "        return 0\n",
    "\n",
    "def find_number(array):\n",
    "    len=int(array.size)\n",
    "    meta=len/2\n",
    "    if len%2!=0:\n",
    "        half=int(meta-0.5)\n",
    "        if len==1:\n",
    "            return array[0], 0 #quando abbiamo lunghezza 0 non abbiamo bisogno di chiamare TEST\n",
    "        if TEST(array[0:half], array[(half+1):len])==0:\n",
    "            return array[half], 0 #non c'è bisogno di chiamare TEST\n",
    "        elif TEST(array[0:half], array[(half+1):len])==1:\n",
    "            return find_number(array[0:half])[0], 1+find_number(array[0:half])[1]\n",
    "        else:\n",
    "            return find_number(array[(half+1):len])[0], 1+find_number(array[(half+1):len])[1]\n",
    "    else:\n",
    "        meta=int(meta)\n",
    "        if TEST(array[0:meta], array[meta:len])==1:\n",
    "            return find_number(array[0:meta])[0], 1+find_number(array[0:meta])[1]\n",
    "        else:\n",
    "            return find_number(array[meta:len])[0], 1+find_number(array[meta:len])[1]\n",
    "\n",
    "def find_index(array):\n",
    "    return (np.where(array==find_number(array)[0]))[0][0], find_number(array)[1]\n",
    "\n",
    "np.random.seed(42)\n",
    "n=5\n",
    "matrix=np.zeros((n,4))\n",
    "for i in range(n):\n",
    "    array=np.ones(random.randint(2,240))*random.randint(10000, 20000)\n",
    "    ind=random.randint(0, array.size-1)\n",
    "    array[ind]=array[ind]+1\n",
    "    matrix[i, 0]=array.size\n",
    "    matrix[i, 1]=ind\n",
    "    matrix[i, 2]=(find_index(array))[0]\n",
    "    matrix[i, 3]=(find_index(array))[1]\n",
    "\n",
    "print(matrix)\n",
    "\n"
   ]
  },
  {
   "cell_type": "code",
   "execution_count": null,
   "metadata": {},
   "outputs": [],
   "source": []
  }
 ],
 "metadata": {
  "kernelspec": {
   "display_name": "Python 3",
   "language": "python",
   "name": "python3"
  },
  "language_info": {
   "codemirror_mode": {
    "name": "ipython",
    "version": 3
   },
   "file_extension": ".py",
   "mimetype": "text/x-python",
   "name": "python",
   "nbconvert_exporter": "python",
   "pygments_lexer": "ipython3",
   "version": "3.7.6"
  }
 },
 "nbformat": 4,
 "nbformat_minor": 4
}
