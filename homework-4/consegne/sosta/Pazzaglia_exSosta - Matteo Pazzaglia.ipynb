{
 "cells": [
  {
   "cell_type": "markdown",
   "metadata": {},
   "source": [
    "# Trova la Moneta Falsa"
   ]
  },
  {
   "cell_type": "markdown",
   "metadata": {},
   "source": [
    "In un numpy array di n elementi (2 < n < 240) ci sono tutte monete di un certo peso ed una leggermente più pesante. Dovete scoprire quale è l'indice della moneta più pesante!\n",
    "Per farlo dovete costruire una funzione TEST che dati due array confronti le loro somme e restituisca:\n",
    "- 1 se il primo è più pesante\n",
    "- 2 se il secondo è più pesante\n",
    "- 0 se hanno lo stesso peso\n",
    "\n",
    "Questa funzione è l'unico modo in cui potete accedere agli elementi dell'array ed il vostro obiettivo è scoprire la moneta falsa in meno TEST possibili."
   ]
  },
  {
   "cell_type": "markdown",
   "metadata": {},
   "source": [
    "Il programma dovrà generare nel main una serie di numpy array di varie dimensione e ogni elemento inizializzato ad un numero casuale tra 10000 e 20000 e successivamente scgeliere un indice casuale e aggiungere 1 a quell'elemento.\n",
    "Create poi una matrice contenente:\n",
    "- Numero di elementi dell'i-esimo array\n",
    "- Indice della moneta più pesante dell'i-esimo array\n",
    "- Indice restituito dal vostro algoritmo dell'i-esimo array\n",
    "- Numero di volte in cui avete usato TEST per l'i-esimo array"
   ]
  },
  {
   "cell_type": "markdown",
   "metadata": {},
   "source": [
    "La valutazione terrà conto dell'ottimalità e dell'esattezza della soluzione in primo luogo, successivamente dello stile e chiarezza del codice.\n",
    "Non è ammesso l'utilizzo di liste, tuple o simili, ma solo di array di numpy.\n",
    "Buon lavoro!"
   ]
  },
  {
   "cell_type": "code",
   "execution_count": 1,
   "metadata": {},
   "outputs": [],
   "source": [
    "import numpy as np"
   ]
  },
  {
   "cell_type": "code",
   "execution_count": null,
   "metadata": {},
   "outputs": [],
   "source": [
    "# non funziona al 100%, "
   ]
  },
  {
   "cell_type": "code",
   "execution_count": 329,
   "metadata": {},
   "outputs": [],
   "source": [
    "def test(arr1,arr2):\n",
    "    if np.sum(arr1)>np.sum(arr2):\n",
    "        return 1\n",
    "    elif np.sum(arr2)>np.sum(arr1):\n",
    "        return 2\n",
    "    else:\n",
    "        return 0"
   ]
  },
  {
   "cell_type": "code",
   "execution_count": 385,
   "metadata": {},
   "outputs": [],
   "source": [
    "def indicemoneta(x,cost):\n",
    "    k=0\n",
    "    while (len(x))>1:\n",
    "        n=len(x) // 2\n",
    "        part1 = x[:n]\n",
    "        part2 = x[n : 2 * n]\n",
    "        result = test(part1, part2)\n",
    "        cost=cost+1\n",
    "        if result == 1:\n",
    "            x = part1\n",
    "        elif result == 2:\n",
    "            x = part2\n",
    "            k=k+len(x)\n",
    "        elif result == 0:\n",
    "            vector = x[2 * n :]\n",
    "            x=vector\n",
    "            k=k+n\n",
    "    return k,cost\n",
    "\n",
    "    "
   ]
  },
  {
   "cell_type": "code",
   "execution_count": 339,
   "metadata": {},
   "outputs": [],
   "source": [
    "def create_coins(x,xnew):\n",
    "    coins=np.zeros(x.shape[0], dtype=np.int32)\n",
    "    for i in range(len(x)):\n",
    "        if x[i]!=xnew[i]:\n",
    "            coins[i]=1\n",
    "    return coins"
   ]
  },
  {
   "cell_type": "code",
   "execution_count": 386,
   "metadata": {},
   "outputs": [
    {
     "name": "stdout",
     "output_type": "stream",
     "text": [
      "inserire numero di array richiesto\n",
      "10\n"
     ]
    },
    {
     "data": {
      "text/plain": [
       "array([[130,  59,  59,   7],\n",
       "       [221, 110, 110,   7],\n",
       "       [107,  60,  60,   6],\n",
       "       [ 33,  31,  31,   5],\n",
       "       [ 50,   5,   4,   5],\n",
       "       [134,  19,  19,   7],\n",
       "       [ 38,  28,  28,   5],\n",
       "       [122,  57,  56,   6],\n",
       "       [ 40,  23,  23,   5],\n",
       "       [210,  92,  92,   7]])"
      ]
     },
     "execution_count": 386,
     "metadata": {},
     "output_type": "execute_result"
    }
   ],
   "source": [
    "print ('inserire numero di array richiesto')\n",
    "howmanyarray=int(input())\n",
    "matrix=np.full((howmanyarray,4), 0)\n",
    "#ho matrice con una dimensione random di righe e come colonne il numero di array stabilito da me\n",
    "for i in range(howmanyarray):\n",
    "    x=np.random.randint((10000), size=(np.random.randint(2,240),1), dtype=np.int32)+10000\n",
    "    indice_moneta=np.random.randint(x.shape[0])\n",
    "    xnew=np.copy(x)\n",
    "    xnew[indice_moneta]=x[indice_moneta]+1\n",
    "    coins=create_coins(x,xnew)\n",
    "    cost=0\n",
    "    idx,c=indicemoneta(coins,cost)\n",
    "    matrix[i][2]=idx #indice algoritmo\n",
    "    matrix[i][0]=x.shape[0] #number elements in array\n",
    "    matrix[i][1]=indice_moneta #indice moneta\n",
    "    matrix[i][3]=c\n",
    "matrix"
   ]
  },
  {
   "cell_type": "code",
   "execution_count": 351,
   "metadata": {},
   "outputs": [
    {
     "data": {
      "text/plain": [
       "array([0, 1, 0, 0, 0, 0, 0, 0, 0, 0, 0])"
      ]
     },
     "execution_count": 351,
     "metadata": {},
     "output_type": "execute_result"
    }
   ],
   "source": [
    "x=np.random.randint((10000), size=(np.random.randint(2,240),1), dtype=np.int32)+10000\n",
    "indice_moneta=np.random.randint(x.shape[0])\n",
    "xnew=np.copy(x)\n",
    "xnew[indice_moneta]=x[indice_moneta]+1\n",
    "coins=create_coins(x,xnew)\n",
    "coins"
   ]
  },
  {
   "cell_type": "code",
   "execution_count": 353,
   "metadata": {},
   "outputs": [
    {
     "data": {
      "text/plain": [
       "array([0, 1, 0, 0, 0])"
      ]
     },
     "execution_count": 353,
     "metadata": {},
     "output_type": "execute_result"
    }
   ],
   "source": [
    "n=len(coins) // 2\n",
    "part1 = coins[:n]\n",
    "part1"
   ]
  },
  {
   "cell_type": "code",
   "execution_count": 354,
   "metadata": {},
   "outputs": [
    {
     "data": {
      "text/plain": [
       "array([0, 0, 0, 0, 0])"
      ]
     },
     "execution_count": 354,
     "metadata": {},
     "output_type": "execute_result"
    }
   ],
   "source": [
    "part2 = coins[n : 2 * n]\n",
    "part2\n"
   ]
  },
  {
   "cell_type": "code",
   "execution_count": 356,
   "metadata": {},
   "outputs": [
    {
     "data": {
      "text/plain": [
       "1"
      ]
     },
     "execution_count": 356,
     "metadata": {},
     "output_type": "execute_result"
    }
   ],
   "source": [
    "part3=coins[2 * n :]\n",
    "len(part3)"
   ]
  },
  {
   "cell_type": "code",
   "execution_count": 362,
   "metadata": {},
   "outputs": [
    {
     "name": "stdout",
     "output_type": "stream",
     "text": [
      "[0 0 0 1]\n"
     ]
    }
   ],
   "source": [
    "v=np.array([0,0,0,1,0,0,0,0,0])\n",
    "print(v[:4])"
   ]
  },
  {
   "cell_type": "markdown",
   "metadata": {},
   "source": [
    "EXTRA BONUS: fatelo nel caso in cui non sapete se la moneta falsa è più pesante o leggera"
   ]
  }
 ],
 "metadata": {
  "kernelspec": {
   "display_name": "Python 3",
   "language": "python",
   "name": "python3"
  },
  "language_info": {
   "codemirror_mode": {
    "name": "ipython",
    "version": 3
   },
   "file_extension": ".py",
   "mimetype": "text/x-python",
   "name": "python",
   "nbconvert_exporter": "python",
   "pygments_lexer": "ipython3",
   "version": "3.7.3"
  }
 },
 "nbformat": 4,
 "nbformat_minor": 4
}
