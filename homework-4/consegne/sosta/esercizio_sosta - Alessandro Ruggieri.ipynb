{
 "cells": [
  {
   "cell_type": "markdown",
   "metadata": {},
   "source": [
    "# Trova la Moneta Falsa"
   ]
  },
  {
   "cell_type": "markdown",
   "metadata": {},
   "source": [
    "In un numpy array di n elementi (2 < n < 240) ci sono tutte monete di un certo peso ed una leggermente più pesante. Dovete scoprire quale è l'indice della moneta più pesante!\n",
    "Per farlo dovete costruire una funzione TEST che dati due array confronti le loro somme e restituisca:\n",
    "- 1 se il primo è più pesante\n",
    "- 2 se il secondo è più pesante\n",
    "- 0 se hanno lo stesso peso\n",
    "\n",
    "Questa funzione è l'unico modo in cui potete accedere agli elementi dell'array ed il vostro obiettivo è scoprire la moneta falsa in meno TEST possibili."
   ]
  },
  {
   "cell_type": "markdown",
   "metadata": {},
   "source": [
    "Il programma dovrà generare nel main una serie di numpy array di varie dimensione e ogni elemento inizializzato ad un numero casuale tra 10000 e 20000 e successivamente scgeliere un indice casuale e aggiungere 1 a quell'elemento.\n",
    "Create poi una matrice contenente:\n",
    "- Numero di elementi dell'i-esimo array\n",
    "- Indice della moneta più pesante dell'i-esimo array\n",
    "- Indice restituito dal vostro algoritmo dell'i-esimo array\n",
    "- Numero di volte in cui avete usato TEST per l'i-esimo array"
   ]
  },
  {
   "cell_type": "markdown",
   "metadata": {},
   "source": [
    "La valutazione terrà conto dell'ottimalità e dell'esattezza della soluzione in primo luogo, successivamente dello stile e chiarezza del codice.\n",
    "Non è ammesso l'utilizzo di liste, tuple o simili, ma solo di array di numpy.\n",
    "Buon lavoro!"
   ]
  },
  {
   "cell_type": "markdown",
   "metadata": {},
   "source": [
    "EXTRA BONUS: fatelo nel caso in cui non sapete se la moneta falsa è più pesante o leggera"
   ]
  },
  {
   "cell_type": "code",
   "execution_count": 97,
   "metadata": {},
   "outputs": [],
   "source": [
    "import numpy as np\n"
   ]
  },
  {
   "cell_type": "code",
   "execution_count": 98,
   "metadata": {},
   "outputs": [],
   "source": [
    "def test(a1,a2):\n",
    "    s1=sum(a1)\n",
    "    s2=sum(a2)\n",
    "    return (s1 > s2) + 2 * (s1 < s2)"
   ]
  },
  {
   "cell_type": "code",
   "execution_count": 137,
   "metadata": {},
   "outputs": [
    {
     "name": "stdout",
     "output_type": "stream",
     "text": [
      "Wall time: 0 ns\n",
      "[[219. 139. 139.   6.]\n",
      " [ 72.  68.  68.   5.]\n",
      " [131.  86.  86.   7.]\n",
      " ...\n",
      " [218.  99.  99.   6.]\n",
      " [ 68.  27.  27.   6.]\n",
      " [ 99.  90.  90.   5.]]\n"
     ]
    }
   ],
   "source": [
    "n=50\n",
    "matrix = np.zeros((n, 4))\n",
    "\n",
    "for p in range(n):\n",
    "    \n",
    "    #Estrazione dei parametri\n",
    "    size = np.random.randint(3,240)\n",
    "    value = np.random.randint(10000,20001)\n",
    "    index = np.random.randint(0,size)\n",
    "    \n",
    "    #Costruzione dei vettori e della matrice\n",
    "    coins = value * np.ones(size)\n",
    "    coins[index] += 1\n",
    "    matrix[p][0] = size\n",
    "    matrix[p][1] = index\n",
    "    \n",
    "    #Inizializzazione di valiabili che serviranno dopo\n",
    "    copy = coins\n",
    "    lun = len(copy)\n",
    "    count = 0\n",
    "    global_lb_index = 0\n",
    "    global_ub_index = 0\n",
    "    sporadic_group = 0\n",
    "    \n",
    "    #Controllo delle monete, verifico la divisibilità della dimensione rispetto a 3 e 2. In teoria nel caso lun=15*2^n  \n",
    "    #converrebbe dividere per 2. Con n>1 sono tutti pari, l'unica eccezione è lun=15 (n=0) \n",
    "    #ma aggiungere un if solo per quello non mi sembrava il caso\n",
    "    while lun > 1:\n",
    "        #Parametri per lo split degli array (i più generali)\n",
    "        med = lun//2\n",
    "        division = med\n",
    "        \n",
    "        if lun % 3 == 0: \n",
    "            #Parametri per lo split degli array (specifici per il caso 'divisibile per 3')\n",
    "            ter = lun//3\n",
    "            division = ter\n",
    "            v = np.zeros((3, len(copy[:ter])))\n",
    "            v[0] = copy[:ter]\n",
    "            v[1] = copy[ter:2*ter]\n",
    "            v[2] = copy[2*ter:]\n",
    "            i = test(v[1],v[2])\n",
    "            copy = v[i]            \n",
    "        elif lun % 2 == 0:          \n",
    "            v = np.zeros((2, len(copy[:med])))\n",
    "            v[0] = copy[:med]\n",
    "            v[1] = copy[med:]\n",
    "            i = test(v[0],v[1]) - 1\n",
    "            copy = v[i]           \n",
    "        else:      \n",
    "            v = np.zeros((2, len(copy[:med])))\n",
    "            v[0] = copy[:med]\n",
    "            v[1] = copy[med:-1]\n",
    "            i = test(v[0],v[1]) - 1         \n",
    "            #Caso in cui la fake coin è quella lasciata fuori da sola\n",
    "            if i == -1: \n",
    "                division = 0\n",
    "                sporadic_group = lun - 1\n",
    "                copy = np.array([copy[-1]])   \n",
    "            else:\n",
    "                copy = v[i]\n",
    "        #Calcolo gli estremi locali (quelli del sottovettore) degli indici dell'aarray contenente la fake coin\n",
    "        local_ub_index = (i+1) * division - 1 \n",
    "        local_lb_index = i * division\n",
    "        \n",
    "        #Calcolo gli estremi globali (quelli del vettore originale)\n",
    "        global_lb_index = global_lb_index + local_lb_index + sporadic_group\n",
    "        global_ub_index = global_lb_index + local_ub_index + sporadic_group\n",
    "        \n",
    "        count += 1\n",
    "        lun = len(copy)\n",
    "        \n",
    "    matrix[p][2] = global_lb_index\n",
    "    matrix[p][3] = count\n",
    "print(matrix)"
   ]
  },
  {
   "cell_type": "code",
   "execution_count": 117,
   "metadata": {},
   "outputs": [
    {
     "data": {
      "text/plain": [
       "14"
      ]
     },
     "execution_count": 117,
     "metadata": {},
     "output_type": "execute_result"
    }
   ],
   "source": [
    "size"
   ]
  },
  {
   "cell_type": "code",
   "execution_count": 119,
   "metadata": {},
   "outputs": [
    {
     "data": {
      "text/plain": [
       "14"
      ]
     },
     "execution_count": 119,
     "metadata": {},
     "output_type": "execute_result"
    }
   ],
   "source": [
    "len(np.ones(size))"
   ]
  }
 ],
 "metadata": {
  "kernelspec": {
   "display_name": "Python 3",
   "language": "python",
   "name": "python3"
  },
  "language_info": {
   "codemirror_mode": {
    "name": "ipython",
    "version": 3
   },
   "file_extension": ".py",
   "mimetype": "text/x-python",
   "name": "python",
   "nbconvert_exporter": "python",
   "pygments_lexer": "ipython3",
   "version": "3.8.5"
  }
 },
 "nbformat": 4,
 "nbformat_minor": 4
}
