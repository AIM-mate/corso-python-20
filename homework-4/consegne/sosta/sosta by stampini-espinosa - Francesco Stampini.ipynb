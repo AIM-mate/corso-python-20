{
 "cells": [
  {
   "cell_type": "markdown",
   "metadata": {},
   "source": [
    "# Trova la Moneta Falsa"
   ]
  },
  {
   "cell_type": "markdown",
   "metadata": {},
   "source": [
    "In un numpy array di n elementi (2 < n < 240) ci sono tutte monete di un certo peso ed una leggermente più pesante. Dovete scoprire quale è l'indice della moneta più pesante!\n",
    "Per farlo dovete costruire una funzione TEST che dati due array confronti le loro somme e restituisca:\n",
    "- 1 se il primo è più pesante\n",
    "- 2 se il secondo è più pesante\n",
    "- 0 se hanno lo stesso peso\n",
    "\n",
    "Questa funzione è l'unico modo in cui potete accedere agli elementi dell'array ed il vostro obiettivo è scoprire la moneta falsa in meno TEST possibili."
   ]
  },
  {
   "cell_type": "markdown",
   "metadata": {},
   "source": [
    "Il programma dovrà generare nel main una serie di numpy array di varie dimensione e ogni elemento inizializzato ad un numero casuale tra 10000 e 20000 e successivamente scgeliere un indice casuale e aggiungere 1 a quell'elemento.\n",
    "Create poi una matrice contenente:\n",
    "- Numero di elementi dell'i-esimo array\n",
    "- Indice della moneta più pesante dell'i-esimo array\n",
    "- Indice restituito dal vostro algoritmo dell'i-esimo array\n",
    "- Numero di volte in cui avete usato TEST per l'i-esimo array"
   ]
  },
  {
   "cell_type": "markdown",
   "metadata": {},
   "source": [
    "La valutazione terrà conto dell'ottimalità e dell'esattezza della soluzione in primo luogo, successivamente dello stile e chiarezza del codice.\n",
    "Non è ammesso l'utilizzo di liste, tuple o simili, ma solo di array di numpy.\n",
    "Buon lavoro!"
   ]
  },
  {
   "cell_type": "markdown",
   "metadata": {},
   "source": [
    "EXTRA BONUS: fatelo nel caso in cui non sapete se la moneta falsa è più pesante o leggera"
   ]
  },
  {
   "cell_type": "code",
   "execution_count": 2,
   "metadata": {},
   "outputs": [],
   "source": [
    "import numpy as np"
   ]
  },
  {
   "cell_type": "code",
   "execution_count": 3,
   "metadata": {},
   "outputs": [],
   "source": [
    "def com_pair(a1, a2):\n",
    "    s1=np.sum(a1)\n",
    "    s2=np.sum(a2)\n",
    "    return 1*int(s1>s2)+2*int(s2>s1)"
   ]
  },
  {
   "cell_type": "code",
   "execution_count": 4,
   "metadata": {},
   "outputs": [
    {
     "name": "stdout",
     "output_type": "stream",
     "text": [
      "[[166.  50.  50.   7.]\n",
      " [219.  20.  20.   5.]\n",
      " [178. 129. 129.   7.]\n",
      " [160.  85.  85.   7.]\n",
      " [117.  77.  77.   5.]\n",
      " [ 70.  29.  29.   6.]\n",
      " [111.  19.  19.   6.]\n",
      " [ 74.  30.  30.   6.]\n",
      " [112.  79.  79.   6.]\n",
      " [ 19.   3.   3.   4.]\n",
      " [217. 185. 185.   7.]\n",
      " [ 86.  67.  67.   5.]\n",
      " [ 94.   5.   5.   4.]\n",
      " [134. 116. 116.   7.]\n",
      " [ 85.  68.  68.   6.]\n",
      " [109.  42.  42.   6.]\n",
      " [ 77.   5.   5.   6.]\n",
      " [216. 202. 202.   4.]\n",
      " [218. 170. 170.   5.]\n",
      " [102.  63.  63.   3.]\n",
      " [157.  56.  56.   7.]\n",
      " [ 63.  55.  55.   3.]\n",
      " [212.  24.  24.   7.]\n",
      " [ 35.   8.   8.   2.]\n",
      " [198.  93.  93.   7.]\n",
      " [240. 134. 134.   7.]\n",
      " [137.  59.  59.   4.]\n",
      " [150. 112. 112.   2.]\n",
      " [115.  77.  77.   6.]\n",
      " [ 55.   4.   4.   5.]\n",
      " [ 86.  12.  12.   6.]\n",
      " [106.  93.  93.   6.]\n",
      " [ 83.  23.  23.   5.]\n",
      " [ 89.  41.  41.   5.]\n",
      " [ 80.  17.  17.   5.]\n",
      " [ 91.   0.   0.   6.]\n",
      " [222. 149. 149.   7.]\n",
      " [ 38.   5.   5.   5.]\n",
      " [124. 103. 103.   6.]\n",
      " [168.  79.  79.   7.]\n",
      " [136.  30.  30.   7.]\n",
      " [ 63.  11.  11.   4.]\n",
      " [161.  45.  45.   7.]\n",
      " [167. 134. 134.   7.]\n",
      " [143.  16.  16.   7.]\n",
      " [199. 193. 193.   7.]\n",
      " [ 30.  25.  25.   4.]\n",
      " [ 48.  46.  46.   5.]\n",
      " [ 13.   2.   2.   3.]\n",
      " [ 38.  36.  36.   5.]\n",
      " [ 82.  53.  53.   5.]\n",
      " [  6.   2.   2.   2.]\n",
      " [ 58.  57.  57.   5.]\n",
      " [123.   6.   6.   6.]\n",
      " [106.  66.  66.   6.]\n",
      " [ 57.  24.  24.   4.]\n",
      " [143.   2.   2.   7.]\n",
      " [ 13.   7.   7.   3.]\n",
      " [181.  13.  13.   6.]\n",
      " [ 29.   0.   0.   4.]\n",
      " [223.  50.  50.   7.]\n",
      " [ 39.   7.   7.   5.]\n",
      " [203.  22.  22.   7.]\n",
      " [127.  89.  89.   6.]\n",
      " [158.  24.  24.   5.]\n",
      " [148. 140. 140.   7.]\n",
      " [ 94.  82.  82.   3.]\n",
      " [  7.   4.   4.   2.]\n",
      " [ 49.   8.   8.   5.]\n",
      " [145. 116. 116.   7.]\n",
      " [178.  46.  46.   7.]\n",
      " [ 79.  57.  57.   6.]\n",
      " [104.  26.  26.   6.]\n",
      " [ 91.  10.  10.   6.]\n",
      " [130.  76.  76.   7.]\n",
      " [ 63.  60.  60.   5.]\n",
      " [202. 144. 144.   7.]\n",
      " [169.  92.  92.   6.]\n",
      " [132.  65.  65.   7.]\n",
      " [ 12.   4.   4.   3.]\n",
      " [ 79.  62.  62.   6.]\n",
      " [ 33.   0.   0.   5.]\n",
      " [ 18.  16.  16.   4.]\n",
      " [221. 114. 114.   7.]\n",
      " [ 73.  46.  46.   6.]\n",
      " [ 56.   6.   6.   5.]\n",
      " [ 32.   0.   0.   5.]\n",
      " [212.  45.  45.   7.]\n",
      " [154.  44.  44.   7.]\n",
      " [128.  60.  60.   7.]\n",
      " [119.  46.  46.   6.]\n",
      " [ 59.  42.  42.   5.]\n",
      " [237. 170. 170.   7.]\n",
      " [ 57.  31.  31.   5.]\n",
      " [152. 129. 129.   7.]\n",
      " [180.   5.   5.   5.]\n",
      " [ 75.  25.  25.   6.]\n",
      " [133.  93.  93.   7.]\n",
      " [123.  95.  95.   6.]\n",
      " [213.  33.  33.   5.]]\n"
     ]
    }
   ],
   "source": [
    "def find_heavycoin(a,n):\n",
    "    ind=0\n",
    "    nt=0\n",
    "    while(len(a)!=1):\n",
    "        a1=a[:int(len(a)/2)]\n",
    "        a2=a[-int(len(a)/2):]\n",
    "        res=com_pair(a1,a2)\n",
    "        nt+=1\n",
    "        if res==0:\n",
    "            return ind+int(len(a)/2),nt\n",
    "        elif res==1:\n",
    "            a=a1\n",
    "        else:\n",
    "            ind+=(int(len(a)/2)+len(a)%2)\n",
    "            a=a2\n",
    "    return ind,nt  \n",
    "\n",
    "m = 100 # n di array che vogliamo considerare\n",
    "mat = np.zeros((m,4))\n",
    "\n",
    "for i in range(0,m):\n",
    "    n = np.random.randint(2,241)\n",
    "    arr = np.random.randint(10000,20001)*np.ones(n)\n",
    "    heavy_ind = np.random.randint(0,n)\n",
    "    arr[heavy_ind] += 1\n",
    "    sol, ntest = find_heavycoin(arr,n);\n",
    "    mat[i,0]=n\n",
    "    mat[i,1]=heavy_ind\n",
    "    mat[i,2]=sol\n",
    "    mat[i,3]=ntest\n",
    "    \n",
    "print(mat)\n",
    "    \n"
   ]
  },
  {
   "cell_type": "code",
   "execution_count": null,
   "metadata": {},
   "outputs": [],
   "source": []
  }
 ],
 "metadata": {
  "kernelspec": {
   "display_name": "Python 3",
   "language": "python",
   "name": "python3"
  },
  "language_info": {
   "codemirror_mode": {
    "name": "ipython",
    "version": 3
   },
   "file_extension": ".py",
   "mimetype": "text/x-python",
   "name": "python",
   "nbconvert_exporter": "python",
   "pygments_lexer": "ipython3",
   "version": "3.8.6"
  }
 },
 "nbformat": 4,
 "nbformat_minor": 4
}
