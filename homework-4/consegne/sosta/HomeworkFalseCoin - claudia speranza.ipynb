{
 "cells": [
  {
   "cell_type": "markdown",
   "metadata": {},
   "source": [
    "# Trova la Moneta Falsa"
   ]
  },
  {
   "cell_type": "markdown",
   "metadata": {},
   "source": [
    "In un numpy array di n elementi (2 < n < 240) ci sono tutte monete di un certo peso ed una leggermente più pesante. Dovete scoprire quale è l'indice della moneta più pesante!\n",
    "Per farlo dovete costruire una funzione TEST che dati due array confronti le loro somme e restituisca:\n",
    "- 1 se il primo è più pesante\n",
    "- 2 se il secondo è più pesante\n",
    "- 0 se hanno lo stesso peso\n",
    "\n",
    "Questa funzione è l'unico modo in cui potete accedere agli elementi dell'array ed il vostro obiettivo è scoprire la moneta falsa in meno TEST possibili."
   ]
  },
  {
   "cell_type": "markdown",
   "metadata": {},
   "source": [
    "Il programma dovrà generare nel main una serie di numpy array di varie dimensione e ogni elemento inizializzato ad un numero casuale tra 10000 e 20000 e successivamente scgeliere un indice casuale e aggiungere 1 a quell'elemento.\n",
    "Create poi una matrice contenente:\n",
    "- Numero di elementi dell'i-esimo array\n",
    "- Indice della moneta più pesante dell'i-esimo array\n",
    "- Indice restituito dal vostro algoritmo dell'i-esimo array\n",
    "- Numero di volte in cui avete usato TEST per l'i-esimo array"
   ]
  },
  {
   "cell_type": "markdown",
   "metadata": {},
   "source": [
    "La valutazione terrà conto dell'ottimalità e dell'esattezza della soluzione in primo luogo, successivamente dello stile e chiarezza del codice.\n",
    "Non è ammesso l'utilizzo di liste, tuple o simili, ma solo di array di numpy.\n",
    "Buon lavoro!"
   ]
  },
  {
   "cell_type": "code",
   "execution_count": 3,
   "metadata": {},
   "outputs": [],
   "source": [
    "import numpy as np"
   ]
  },
  {
   "cell_type": "markdown",
   "metadata": {},
   "source": [
    "Funzione Test"
   ]
  },
  {
   "cell_type": "code",
   "execution_count": 7,
   "metadata": {},
   "outputs": [],
   "source": [
    "def test(arr1,arr2):\n",
    "    s1=sum(arr1)\n",
    "    s2=sum(arr2)\n",
    "    if s1>s2:\n",
    "        return 1\n",
    "    elif s1<s2:\n",
    "        return 2\n",
    "    else: \n",
    "        return 0\n",
    "      \n",
    "    "
   ]
  },
  {
   "cell_type": "markdown",
   "metadata": {},
   "source": [
    "Main"
   ]
  },
  {
   "cell_type": "code",
   "execution_count": 22,
   "metadata": {},
   "outputs": [
    {
     "data": {
      "text/plain": [
       "array([13623, 13623, 13623, 13623, 13623, 13623, 13623, 13623, 13623,\n",
       "       13623, 13623, 13623, 13623, 13623, 13623, 13623, 13623, 13623,\n",
       "       13623, 13623, 13623, 13623, 13623, 13623, 13623, 13623, 13623,\n",
       "       13623, 13623, 13623, 13623, 13623, 13623, 13623, 13623, 13623,\n",
       "       13623, 13624, 13623, 13623, 13623, 13623, 13623, 13623, 13623,\n",
       "       13623, 13623, 13623, 13623, 13623, 13623, 13623, 13623, 13623,\n",
       "       13623, 13623, 13623, 13623, 13623, 13623, 13623, 13623, 13623,\n",
       "       13623, 13623, 13623, 13623, 13623, 13623, 13623, 13623, 13623,\n",
       "       13623, 13623, 13623, 13623, 13623, 13623, 13623, 13623, 13623,\n",
       "       13623, 13623, 13623, 13623, 13623, 13623, 13623, 13623, 13623,\n",
       "       13623, 13623, 13623, 13623, 13623, 13623, 13623, 13623, 13623])"
      ]
     },
     "execution_count": 22,
     "metadata": {},
     "output_type": "execute_result"
    }
   ],
   "source": [
    "n = np.random.randint(2,240, size=1)\n",
    "k = np.random.randint(10000,20000,size=1)\n",
    "\n",
    "arr = np.full(n, k) \n",
    "\n",
    "index= np.random.randint(n, size=1)\n",
    "arr[index]+=1\n",
    "\n",
    "matrix[0]=len(arr)\n",
    "for i in range(n):\n",
    "    if test(arr[:i],np.full(i, k)) == 1:\n",
    "        matrix[1]=i\n",
    "        break\n",
    "        \n"
   ]
  },
  {
   "cell_type": "markdown",
   "metadata": {},
   "source": [
    "EXTRA BONUS: fatelo nel caso in cui non sapete se la moneta falsa è più pesante o leggera"
   ]
  }
 ],
 "metadata": {
  "kernelspec": {
   "display_name": "Python 3",
   "language": "python",
   "name": "python3"
  },
  "language_info": {
   "codemirror_mode": {
    "name": "ipython",
    "version": 3
   },
   "file_extension": ".py",
   "mimetype": "text/x-python",
   "name": "python",
   "nbconvert_exporter": "python",
   "pygments_lexer": "ipython3",
   "version": "3.8.3"
  }
 },
 "nbformat": 4,
 "nbformat_minor": 4
}
