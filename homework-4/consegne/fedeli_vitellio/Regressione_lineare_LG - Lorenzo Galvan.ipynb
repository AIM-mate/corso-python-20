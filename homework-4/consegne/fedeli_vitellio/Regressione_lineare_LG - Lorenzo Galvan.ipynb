{
 "cells": [
  {
   "cell_type": "markdown",
   "metadata": {},
   "source": [
    "# Regressione lineare (parte 1 - max 1.5 punti)\n",
    "Nella carriera di un ingegnere matematico la regressione lineare è uno strumento di straordinaria importanza, ma è veramente necessario vederla in 10 corsi diversi? E ogni volta dall'inizio?\n",
    "\n",
    "Se non ne puoi più, salta questo assignment. "
   ]
  },
  {
   "cell_type": "code",
   "execution_count": 1,
   "metadata": {},
   "outputs": [
    {
     "data": {
      "image/png": "[encoded data removed]",
      "text/plain": [
       "<Figure size 432x288 with 1 Axes>"
      ]
     },
     "metadata": {
      "needs_background": "light"
     },
     "output_type": "display_data"
    }
   ],
   "source": [
    "import numpy as np\n",
    "import matplotlib.pyplot as plt\n",
    "np.random.seed(2020)\n",
    "\n",
    "# Generazione dei dati \n",
    "n = 50 # numero di punti analizzati\n",
    "X = np.random.rand(n)\n",
    "\n",
    "true_beta = [7, 3]# [intercetta, coef. angolare]\n",
    "\n",
    "y_true = true_beta[0] + true_beta[1] * X #y = 3x +7\n",
    "\n",
    "plt.scatter(X, y_true)\n",
    "plt.show()"
   ]
  },
  {
   "cell_type": "code",
   "execution_count": 2,
   "metadata": {},
   "outputs": [
    {
     "data": {
      "image/png": "[encoded data removed]",
      "text/plain": [
       "<Figure size 432x288 with 1 Axes>"
      ]
     },
     "metadata": {
      "needs_background": "light"
     },
     "output_type": "display_data"
    }
   ],
   "source": [
    "y = y_true + np.random.randn(n) # aggiungo un errore gaussiano standard\n",
    "plt.plot(X, y, '.', label = \"Noisy data\")\n",
    "plt.plot(X, y_true, 'r.', label = \"Straight line\")\n",
    "plt.legend()\n",
    "plt.show()"
   ]
  },
  {
   "cell_type": "markdown",
   "metadata": {},
   "source": [
    "### Regressione lineare via least squares estimation\n",
    "\n",
    "Considera come riferimento https://en.wikipedia.org/wiki/Linear_regression#Estimation_methods\n",
    "\n",
    "Calcola i parametri $\\beta$ della regressione e plotta il risultato ottenuto\n",
    "\n",
    "$\\hat{\\beta} = (X^T X)^{-1} X^T Y$"
   ]
  },
  {
   "cell_type": "code",
   "execution_count": 3,
   "metadata": {},
   "outputs": [
    {
     "data": {
      "text/plain": [
       "array([7.58758297, 2.00364768])"
      ]
     },
     "execution_count": 3,
     "metadata": {},
     "output_type": "execute_result"
    }
   ],
   "source": [
    "one = np.ones(n)\n",
    "X_matr = np.c_[one, X]\n",
    "stima_beta = np.dot(np.linalg.inv((np.dot(X_matr.transpose(),X_matr))),(np.dot(X_matr.transpose(),y)))\n",
    "stima_beta"
   ]
  },
  {
   "cell_type": "code",
   "execution_count": 4,
   "metadata": {},
   "outputs": [
    {
     "ename": "SyntaxError",
     "evalue": "unexpected EOF while parsing (<ipython-input-4-405665cf9a91>, line 5)",
     "output_type": "error",
     "traceback": [
      "\u001b[1;36m  File \u001b[1;32m\"<ipython-input-4-405665cf9a91>\"\u001b[1;36m, line \u001b[1;32m5\u001b[0m\n\u001b[1;33m    plt.show(\u001b[0m\n\u001b[1;37m             ^\u001b[0m\n\u001b[1;31mSyntaxError\u001b[0m\u001b[1;31m:\u001b[0m unexpected EOF while parsing\n"
     ]
    }
   ],
   "source": [
    "y_regr_ls = stima_beta[0] + stima_beta[1] * X\n",
    "plt.plot(X, y, '.', label = \"Noisy data\")\n",
    "plt.plot(X, y_regr_ls, 'k.', label = \"Regression line least squares\")\n",
    "plt.legend()\n",
    "plt.show("
   ]
  },
  {
   "cell_type": "markdown",
   "metadata": {},
   "source": [
    "### Regressione lineare via sklearn\n",
    "\n",
    "Trova in sklearn ciò che fa al caso nostro e plotta il risultato ottenuto"
   ]
  },
  {
   "cell_type": "code",
   "execution_count": 5,
   "metadata": {},
   "outputs": [
    {
     "data": {
      "text/plain": [
       "['__abstractmethods__',\n",
       " '__class__',\n",
       " '__delattr__',\n",
       " '__dict__',\n",
       " '__dir__',\n",
       " '__doc__',\n",
       " '__eq__',\n",
       " '__format__',\n",
       " '__ge__',\n",
       " '__getattribute__',\n",
       " '__getstate__',\n",
       " '__gt__',\n",
       " '__hash__',\n",
       " '__init__',\n",
       " '__init_subclass__',\n",
       " '__le__',\n",
       " '__lt__',\n",
       " '__module__',\n",
       " '__ne__',\n",
       " '__new__',\n",
       " '__reduce__',\n",
       " '__reduce_ex__',\n",
       " '__repr__',\n",
       " '__setattr__',\n",
       " '__setstate__',\n",
       " '__sizeof__',\n",
       " '__str__',\n",
       " '__subclasshook__',\n",
       " '__weakref__',\n",
       " '_abc_impl',\n",
       " '_check_n_features',\n",
       " '_decision_function',\n",
       " '_estimator_type',\n",
       " '_get_param_names',\n",
       " '_get_tags',\n",
       " '_more_tags',\n",
       " '_preprocess_data',\n",
       " '_repr_html_',\n",
       " '_repr_html_inner',\n",
       " '_repr_mimebundle_',\n",
       " '_set_intercept',\n",
       " '_validate_data',\n",
       " 'copy_X',\n",
       " 'fit',\n",
       " 'fit_intercept',\n",
       " 'get_params',\n",
       " 'n_jobs',\n",
       " 'normalize',\n",
       " 'predict',\n",
       " 'score',\n",
       " 'set_params']"
      ]
     },
     "execution_count": 5,
     "metadata": {},
     "output_type": "execute_result"
    }
   ],
   "source": [
    "from sklearn.linear_model import LinearRegression\n",
    "lin_reg = LinearRegression()\n",
    "dir(lin_reg)"
   ]
  },
  {
   "cell_type": "code",
   "execution_count": 6,
   "metadata": {},
   "outputs": [],
   "source": [
    "X_col = np.reshape(X, (n,1))\n",
    "reg = lin_reg.fit(X_col, y)\n",
    "stima_beta_0 = reg.intercept_\n",
    "stima_beta_1 = reg.coef_ "
   ]
  },
  {
   "cell_type": "code",
   "execution_count": 7,
   "metadata": {},
   "outputs": [
    {
     "data": {
      "image/png": "[encoded data removed]",
      "text/plain": [
       "<Figure size 432x288 with 1 Axes>"
      ]
     },
     "metadata": {
      "needs_background": "light"
     },
     "output_type": "display_data"
    }
   ],
   "source": [
    "y_regr_sklearn = stima_beta_0 + stima_beta_1 * X\n",
    "plt.plot(X, y, '.', label = \"Noisy data\")\n",
    "plt.plot(X, y_regr_sklearn, 'k.', label = \"Regression line sklearn\")\n",
    "plt.legend()\n",
    "plt.show()"
   ]
  },
  {
   "cell_type": "markdown",
   "metadata": {},
   "source": [
    "### Regressione con batch gradient descent\n",
    "\n",
    "Implementa la regressione tramite batch gradient descent e plotta l'evoluzione della retta stimata con diversi iperparametri"
   ]
  },
  {
   "cell_type": "code",
   "execution_count": 8,
   "metadata": {},
   "outputs": [],
   "source": [
    "def gradient_descent(alpha, x, y, err=0.0001, max_iter=10000):\n",
    "    converged = False\n",
    "    iter = 0\n",
    "    #number of samples = n\n",
    "\n",
    "    # initial beta\n",
    "    beta_0 = np.random.random()\n",
    "    beta_1 = np.random.random()\n",
    "\n",
    "    # total error, J(beta)\n",
    "    J = sum([(beta_0 + beta_1*x[i] - y[i])**2 for i in range(n)])\n",
    "\n",
    "    # Iterate Loop\n",
    "    while not converged:\n",
    "        # for each training sample, compute the gradient (dJ(beta)/d_beta)\n",
    "        gradJ_0 = 1.0/n * sum([(beta_0 + beta_1*x[i] - y[i]) for i in range(n)]) \n",
    "        gradJ_1 = 1.0/n * sum([(beta_0 + beta_1*x[i] - y[i])*x[i] for i in range(n)])\n",
    "\n",
    "        # update the beta\n",
    "        # (beta_0,beta_1) = (beta_0, beta_1) − alpha * (dJ/dbeta_0, dJ/dbeta_1)\n",
    "        beta_0 = beta_0 - alpha * gradJ_0\n",
    "        beta_1 = beta_1 - alpha * gradJ_1\n",
    "\n",
    "        # mean squared error\n",
    "        e = sum([ (beta_0 + beta_1*x[i] - y[i])**2 for i in range(n)]) \n",
    "\n",
    "        if abs(J-e) <= err:\n",
    "            print('Converged, iterations: ', iter)\n",
    "            converged = True\n",
    "    \n",
    "        J = e   # update error \n",
    "        iter += 1  # update iter\n",
    "    \n",
    "        if iter == max_iter:\n",
    "            print ('Max interactions exceeded!')\n",
    "            converged = True\n",
    "\n",
    "    return beta_0, beta_1"
   ]
  },
  {
   "cell_type": "code",
   "execution_count": 9,
   "metadata": {},
   "outputs": [
    {
     "name": "stdout",
     "output_type": "stream",
     "text": [
      "Converged, iterations:  3909\n",
      "Converged, iterations:  540\n",
      "Converged, iterations:  298\n",
      "Converged, iterations:  226\n",
      "Converged, iterations:  176\n",
      "Converged, iterations:  144\n",
      "Converged, iterations:  115\n",
      "Converged, iterations:  99\n",
      "Converged, iterations:  97\n",
      "Converged, iterations:  83\n"
     ]
    },
    {
     "data": {
      "image/png": "[encoded data removed]",
      "text/plain": [
       "<Figure size 432x288 with 1 Axes>"
      ]
     },
     "metadata": {
      "needs_background": "light"
     },
     "output_type": "display_data"
    }
   ],
   "source": [
    "for alpha in range(1,100,10):\n",
    "    beta0, beta1 = gradient_descent(alpha/100, X, y)\n",
    "    y_regr_batch = beta0 + beta1 * X\n",
    "    plt.plot(X, y, '.', label = \"Noisy data\")\n",
    "    plt.plot(X, y_regr_batch, 'k.', label = \"Regression line batch gradient descent\")"
   ]
  },
  {
   "cell_type": "code",
   "execution_count": 10,
   "metadata": {},
   "outputs": [
    {
     "name": "stderr",
     "output_type": "stream",
     "text": [
      "<ipython-input-8-ee76d92fefc6>:25: RuntimeWarning: overflow encountered in double_scalars\n",
      "  e = sum([ (beta_0 + beta_1*x[i] - y[i])**2 for i in range(n)])\n",
      "<ipython-input-8-ee76d92fefc6>:27: RuntimeWarning: invalid value encountered in double_scalars\n",
      "  if abs(J-e) <= err:\n",
      "<ipython-input-8-ee76d92fefc6>:16: RuntimeWarning: overflow encountered in double_scalars\n",
      "  gradJ_0 = 1.0/n * sum([(beta_0 + beta_1*x[i] - y[i]) for i in range(n)])\n",
      "<ipython-input-8-ee76d92fefc6>:21: RuntimeWarning: invalid value encountered in double_scalars\n",
      "  beta_0 = beta_0 - alpha * gradJ_0\n"
     ]
    },
    {
     "name": "stdout",
     "output_type": "stream",
     "text": [
      "Max interactions exceeded!\n"
     ]
    }
   ],
   "source": [
    "beta0, beta1 = gradient_descent(2, X, y) #non arrivo a convergere"
   ]
  },
  {
   "cell_type": "markdown",
   "metadata": {},
   "source": [
    "### Regressione con stochastic gradient descent\n",
    "\n",
    "Implementa la regressione tramite stochastic gradient descent e plotta l'evoluzione della retta stimata con diversi iperparametri"
   ]
  },
  {
   "cell_type": "code",
   "execution_count": 11,
   "metadata": {},
   "outputs": [],
   "source": [
    "def Stochastic_Gradient_Descent(X, y, learning_rate=0.2, n_iter=1000, k=40):\n",
    "    \n",
    "    b_1 = np.random.randn()\n",
    "    b_0 = np.random.randn()# Random intercept value\n",
    "    iter = 1\n",
    "    \n",
    "    while iter <= n_iter:\n",
    "        \n",
    "        temp_X = np.random.choice(X,k)\n",
    "        temp_Y = np.random.choice(y,k)\n",
    "        \n",
    "        Lb_1 = b_1\n",
    "        Lb_0 = b_0\n",
    "        \n",
    "        loss = 0\n",
    "        y_pred = []\n",
    "        sq_loss = []\n",
    "        \n",
    "        for i in range(k):\n",
    "              \n",
    "            Lb_1 = (-2/k * temp_Y[i]) * (temp_X[i] - np.dot(temp_X[i],b_1) - b_0)\n",
    "            Lb_0 = (-2/k) * (temp_Y[i] - np.dot(temp_X[i],b_1) - b_0)\n",
    "            \n",
    "            b_1 = b_1 - learning_rate * Lb_1\n",
    "            b_0 = b_0 - learning_rate * Lb_0\n",
    "            \n",
    "            y_predicted = np.dot(temp_X[i],b_1.T)\n",
    "            y_pred.append(y_predicted)\n",
    "        \n",
    "        #mean squared error\n",
    "        loss = sum([ (b_0 + b_1*temp_X[i] - temp_Y[i])**2 for i in range(k)])\n",
    "            \n",
    "        #print(\"Iterations: %d, Loss: \" %(iter, loss))\n",
    "        iter += 1\n",
    "        learning_rate = learning_rate/1.02\n",
    "        \n",
    "    return b_1,b_0"
   ]
  },
  {
   "cell_type": "code",
   "execution_count": 12,
   "metadata": {},
   "outputs": [],
   "source": [
    "beta0, beta1 = Stochastic_Gradient_Descent(X, y)"
   ]
  },
  {
   "cell_type": "code",
   "execution_count": null,
   "metadata": {},
   "outputs": [],
   "source": [
    "'''def Stochastic_Gradient_Descent2(X, y, learning_rate=0.2, n_iter=1000, k=40):\n",
    "    \n",
    "    b_1 = np.random.randn(1,13)  # Randomly initializing weights\n",
    "    b_0 = np.random.randn(1,1)   # Random intercept value\n",
    "    iter = 1\n",
    "    \n",
    "    while iter <= n_iter:\n",
    "        \n",
    "        temp = X.sample(k)\n",
    "\n",
    "        X_tr = temp.iloc[:,0:13].values\n",
    "        y_tr = temp.iloc[:,-1].values\n",
    "        \n",
    "        Lb_1 = b_1\n",
    "        Lb_0 = b_0\n",
    "        \n",
    "        loss = 0\n",
    "        y_pred = []\n",
    "        sq_loss = []\n",
    "        \n",
    "        for i in range(k):\n",
    "              \n",
    "            Lb_1 = (-2/k * X_tr[i]) * (y_tr[i] - np.dot(X_tr[i],w.T) - b_0)\n",
    "            Lb_0 = (-2/k) * (y_tr[i] - np.dot(X_tr[i],w.T) - b_0)\n",
    "            \n",
    "            b_1 = b_1 - learning_rate * Lb_1\n",
    "            b_0 = b_0 - learning_rate * Lb_0\n",
    "            \n",
    "            y_predicted = np.dot(X_tr[i],b_1.T)\n",
    "            y_pred.append(y_predicted)\n",
    "        \n",
    "        loss = mean_squared_error(y_pred, y_tr)\n",
    "            \n",
    "        print(\"Iterations: %d, Loss: %.3f\" %(iter, loss))\n",
    "        iter += 1\n",
    "        learning_rate = learning_rate/1.02\n",
    "        \n",
    "    return b_1,b_0\n",
    "'''"
   ]
  },
  {
   "cell_type": "code",
   "execution_count": null,
   "metadata": {},
   "outputs": [],
   "source": [
    "#beta0, beta1 = Stochastic_Gradient_Descent2(X, y)"
   ]
  },
  {
   "cell_type": "markdown",
   "metadata": {},
   "source": [
    "# Regressione lineare (parte 2 - max 1.5 punti)\n"
   ]
  },
  {
   "cell_type": "markdown",
   "metadata": {},
   "source": [
    "Implementa una classe MyLinearRegression che abbia i seguenti metodi:\n",
    "    - fit(X,y)\n",
    "    - predict(X_test)\n",
    "    - show_info\n",
    "    \n",
    "Un primissimo scheletro è proposto qui, ma è consigliabile (per maggiore chiarezza) aggiungere ulteriori metodi all'interno della classe."
   ]
  },
  {
   "cell_type": "code",
   "execution_count": 13,
   "metadata": {},
   "outputs": [],
   "source": [
    "class MyLinearRegression:\n",
    "\n",
    "    def fit(self, X, y):\n",
    "        pass\n",
    "    \n",
    "    def predict(self, X_test):\n",
    "        pass\n",
    "    \n",
    "    def show_info(self):\n",
    "        print(\"Loss = \", self.loss)\n",
    "        print(\"R squared = \", self.rsq, \"\\nAdjusted R squared = \", self.adjrsq)\n",
    "        print(\"Elapsed Time = \", self.time)\n"
   ]
  },
  {
   "cell_type": "code",
   "execution_count": 14,
   "metadata": {},
   "outputs": [
    {
     "ename": "AttributeError",
     "evalue": "'MyLinearRegression' object has no attribute 'loss'",
     "output_type": "error",
     "traceback": [
      "\u001b[1;31m---------------------------------------------------------------------------\u001b[0m",
      "\u001b[1;31mAttributeError\u001b[0m                            Traceback (most recent call last)",
      "\u001b[1;32m<ipython-input-14-4dd9765b497f>\u001b[0m in \u001b[0;36m<module>\u001b[1;34m\u001b[0m\n\u001b[0;32m      6\u001b[0m \u001b[0mmodel\u001b[0m \u001b[1;33m=\u001b[0m \u001b[0mMyLinearRegression\u001b[0m\u001b[1;33m(\u001b[0m\u001b[1;33m)\u001b[0m\u001b[1;33m\u001b[0m\u001b[1;33m\u001b[0m\u001b[0m\n\u001b[0;32m      7\u001b[0m \u001b[0mmodel\u001b[0m\u001b[1;33m.\u001b[0m\u001b[0mfit\u001b[0m\u001b[1;33m(\u001b[0m\u001b[0mX\u001b[0m\u001b[1;33m,\u001b[0m \u001b[0my\u001b[0m\u001b[1;33m)\u001b[0m\u001b[1;33m\u001b[0m\u001b[1;33m\u001b[0m\u001b[0m\n\u001b[1;32m----> 8\u001b[1;33m \u001b[0mmodel\u001b[0m\u001b[1;33m.\u001b[0m\u001b[0mshow_info\u001b[0m\u001b[1;33m(\u001b[0m\u001b[1;33m)\u001b[0m\u001b[1;33m\u001b[0m\u001b[1;33m\u001b[0m\u001b[0m\n\u001b[0m",
      "\u001b[1;32m<ipython-input-13-7d85e32a8c80>\u001b[0m in \u001b[0;36mshow_info\u001b[1;34m(self)\u001b[0m\n\u001b[0;32m      8\u001b[0m \u001b[1;33m\u001b[0m\u001b[0m\n\u001b[0;32m      9\u001b[0m     \u001b[1;32mdef\u001b[0m \u001b[0mshow_info\u001b[0m\u001b[1;33m(\u001b[0m\u001b[0mself\u001b[0m\u001b[1;33m)\u001b[0m\u001b[1;33m:\u001b[0m\u001b[1;33m\u001b[0m\u001b[1;33m\u001b[0m\u001b[0m\n\u001b[1;32m---> 10\u001b[1;33m         \u001b[0mprint\u001b[0m\u001b[1;33m(\u001b[0m\u001b[1;34m\"Loss = \"\u001b[0m\u001b[1;33m,\u001b[0m \u001b[0mself\u001b[0m\u001b[1;33m.\u001b[0m\u001b[0mloss\u001b[0m\u001b[1;33m)\u001b[0m\u001b[1;33m\u001b[0m\u001b[1;33m\u001b[0m\u001b[0m\n\u001b[0m\u001b[0;32m     11\u001b[0m         \u001b[0mprint\u001b[0m\u001b[1;33m(\u001b[0m\u001b[1;34m\"R squared = \"\u001b[0m\u001b[1;33m,\u001b[0m \u001b[0mself\u001b[0m\u001b[1;33m.\u001b[0m\u001b[0mrsq\u001b[0m\u001b[1;33m,\u001b[0m \u001b[1;34m\"\\nAdjusted R squared = \"\u001b[0m\u001b[1;33m,\u001b[0m \u001b[0mself\u001b[0m\u001b[1;33m.\u001b[0m\u001b[0madjrsq\u001b[0m\u001b[1;33m)\u001b[0m\u001b[1;33m\u001b[0m\u001b[1;33m\u001b[0m\u001b[0m\n\u001b[0;32m     12\u001b[0m         \u001b[0mprint\u001b[0m\u001b[1;33m(\u001b[0m\u001b[1;34m\"Elapsed Time = \"\u001b[0m\u001b[1;33m,\u001b[0m \u001b[0mself\u001b[0m\u001b[1;33m.\u001b[0m\u001b[0mtime\u001b[0m\u001b[1;33m)\u001b[0m\u001b[1;33m\u001b[0m\u001b[1;33m\u001b[0m\u001b[0m\n",
      "\u001b[1;31mAttributeError\u001b[0m: 'MyLinearRegression' object has no attribute 'loss'"
     ]
    }
   ],
   "source": [
    "from sklearn import datasets\n",
    "diabetes = datasets.load_diabetes()\n",
    "X = diabetes['data']\n",
    "y = diabetes['target']\n",
    "\n",
    "model = MyLinearRegression()\n",
    "model.fit(X, y)\n",
    "model.show_info()"
   ]
  },
  {
   "cell_type": "code",
   "execution_count": null,
   "metadata": {},
   "outputs": [],
   "source": []
  }
 ],
 "metadata": {
  "kernelspec": {
   "display_name": "Python 3",
   "language": "python",
   "name": "python3"
  },
  "language_info": {
   "codemirror_mode": {
    "name": "ipython",
    "version": 3
   },
   "file_extension": ".py",
   "mimetype": "text/x-python",
   "name": "python",
   "nbconvert_exporter": "python",
   "pygments_lexer": "ipython3",
   "version": "3.8.6"
  }
 },
 "nbformat": 4,
 "nbformat_minor": 4
}
